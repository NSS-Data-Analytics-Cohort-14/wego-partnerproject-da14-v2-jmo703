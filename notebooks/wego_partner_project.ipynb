{
 "cells": [
  {
   "cell_type": "code",
   "execution_count": null,
   "id": "1e37466e-fa98-4ff9-9986-e2efa4d2261f",
   "metadata": {},
   "outputs": [],
   "source": [
    "0 = Monday\n",
    "1 = Tuesday\n",
    "2 = Wednesday\n",
    "3 = Thursday\n",
    "4 = Friday\n",
    "5 = Saturday\n",
    "6 = Sunday"
   ]
  },
  {
   "cell_type": "raw",
   "id": "fc2703e0-31c6-4489-b6c0-7543c7ee78a1",
   "metadata": {},
   "source": [
    "INDEX:\n",
    "wego_sunday\n",
    "wego_monday\n",
    "wego_tuesday\n",
    "wego_wednesday\n",
    "wego_thursday\n",
    "wego_friday\n",
    "wego_saturday\n",
    "wego_sunday\n",
    "wego_weekday\n",
    "wego_weekend\n",
    "wego_day_of_week"
   ]
  },
  {
   "cell_type": "code",
   "execution_count": 40,
   "id": "9d5fc88b-439a-46f4-84e3-e93802b5324c",
   "metadata": {},
   "outputs": [],
   "source": [
    "import pandas as pd\n",
    "import calendar\n",
    "from datetime import date"
   ]
  },
  {
   "cell_type": "code",
   "execution_count": 42,
   "id": "4adb4e0d-1cd4-4ef9-b365-803e799f3c84",
   "metadata": {},
   "outputs": [],
   "source": [
    "wego = pd.read_csv(\"../data/Route 50 Timepoint and Headway Data, 1-1-2023 through 5-12-2025.csv\")"
   ]
  },
  {
   "cell_type": "code",
   "execution_count": 111,
   "id": "4c58d0ac-8308-4d00-8c74-255f40b52125",
   "metadata": {},
   "outputs": [
    {
     "name": "stdout",
     "output_type": "stream",
     "text": [
      "Index(['CALENDAR_ID', 'SERVICE_ABBR', 'ADHERENCE_ID', 'DATE', 'ROUTE_ABBR',\n",
      "       'BLOCK_ABBR', 'OPERATOR', 'TRIP_ID', 'OVERLOAD_ID',\n",
      "       'ROUTE_DIRECTION_NAME', 'TIME_POINT_ABBR', 'ROUTE_STOP_SEQUENCE',\n",
      "       'TRIP_EDGE', 'LATITUDE', 'LONGITUDE', 'SCHEDULED_TIME',\n",
      "       'ACTUAL_ARRIVAL_TIME', 'ACTUAL_DEPARTURE_TIME', 'ADHERENCE',\n",
      "       'SCHEDULED_HDWY', 'ACTUAL_HDWY', 'HDWY_DEV', 'ADJUSTED_EARLY_COUNT',\n",
      "       'ADJUSTED_LATE_COUNT', 'ADJUSTED_ONTIME_COUNT', 'STOP_CANCELLED',\n",
      "       'PREV_SCHED_STOP_CANCELLED', 'IS_RELIEF', 'BLOCK_STOP_ORDER',\n",
      "       'DWELL_IN_MINS', 'DAY_NUM'],\n",
      "      dtype='object')\n"
     ]
    }
   ],
   "source": [
    "print(wego_day_of_week.columns)"
   ]
  },
  {
   "cell_type": "code",
   "execution_count": 44,
   "id": "625729ac-b53f-40e6-9f9a-92bcef444e73",
   "metadata": {},
   "outputs": [],
   "source": [
    "wego_day_of_week = wego.copy()"
   ]
  },
  {
   "cell_type": "code",
   "execution_count": 45,
   "id": "d54a3d59-ed47-4751-967f-c9e102103f8f",
   "metadata": {},
   "outputs": [],
   "source": [
    "wego_day_of_week['DATE']= pd.to_datetime(wego_day_of_week['DATE'])"
   ]
  },
  {
   "cell_type": "code",
   "execution_count": 66,
   "id": "19d138e8-6454-4243-9525-ff5655f7371f",
   "metadata": {},
   "outputs": [],
   "source": [
    "wego_day_of_week['DAY_NUM'] = wego_day_of_week['DATE'].dt.weekday"
   ]
  },
  {
   "cell_type": "code",
   "execution_count": 76,
   "id": "c44397dd-e8fe-465c-94b1-fd96a6c54cd3",
   "metadata": {},
   "outputs": [],
   "source": [
    "wego_sunday = wego_day_of_week[wego_day_of_week['DAY_NUM']==6]"
   ]
  },
  {
   "cell_type": "code",
   "execution_count": 80,
   "id": "1eac2ea3-4609-4643-a812-d1b16c2cb5ed",
   "metadata": {},
   "outputs": [],
   "source": [
    "wego_monday = wego_day_of_week[wego_day_of_week['DAY_NUM']==0]"
   ]
  },
  {
   "cell_type": "code",
   "execution_count": 82,
   "id": "ddf77af7-ef0c-4ae0-b9ea-c135d7754d9d",
   "metadata": {},
   "outputs": [],
   "source": [
    "wego_tuesday = wego_day_of_week[wego_day_of_week['DAY_NUM']==1]"
   ]
  },
  {
   "cell_type": "code",
   "execution_count": 84,
   "id": "20c8c186-5dc6-4cee-a390-bf9f65aa343b",
   "metadata": {},
   "outputs": [],
   "source": [
    "wego_wednesday =  wego_day_of_week[wego_day_of_week['DAY_NUM']==2]"
   ]
  },
  {
   "cell_type": "code",
   "execution_count": 86,
   "id": "aade4cac-bbcf-4aa5-bfe6-1f7fc37589c3",
   "metadata": {},
   "outputs": [],
   "source": [
    "wego_thursday =  wego_day_of_week[wego_day_of_week['DAY_NUM']==3]"
   ]
  },
  {
   "cell_type": "code",
   "execution_count": 88,
   "id": "6eea835b-f81c-4113-8eaf-7bdf4c5dad47",
   "metadata": {},
   "outputs": [],
   "source": [
    "wego_friday = wego_day_of_week[wego_day_of_week['DAY_NUM']==4]"
   ]
  },
  {
   "cell_type": "code",
   "execution_count": 90,
   "id": "dc403dc9-7e6d-4908-974d-ecc5ebbed85f",
   "metadata": {},
   "outputs": [],
   "source": [
    "wego_saturday = wego_day_of_week[wego_day_of_week['DAY_NUM']==5]"
   ]
  },
  {
   "cell_type": "code",
   "execution_count": 92,
   "id": "c8e50f13-ecff-403b-8bf8-dfa9ef10cea5",
   "metadata": {},
   "outputs": [],
   "source": [
    "wego_weekdays = wego_day_of_week[wego_day_of_week['DAY_NUM'] < 6]"
   ]
  },
  {
   "cell_type": "code",
   "execution_count": 94,
   "id": "05632398-74b7-44ed-8b34-6787475002e0",
   "metadata": {},
   "outputs": [],
   "source": [
    "wego_weekends = wego_day_of_week[wego_day_of_week['DAY_NUM'] > 5]"
   ]
  },
  {
   "cell_type": "code",
   "execution_count": 100,
   "id": "da91732a-ebdb-42ea-b61a-a42948d2abd7",
   "metadata": {},
   "outputs": [
    {
     "name": "stdout",
     "output_type": "stream",
     "text": [
      "(554914, 31)\n",
      "(64084, 31)\n"
     ]
    }
   ],
   "source": [
    "print(wego_weekdays.shape)\n",
    "print(wego_weekends.shape)"
   ]
  },
  {
   "cell_type": "code",
   "execution_count": 102,
   "id": "2b7b2010-ad9c-4e55-8f60-fc3ca4d295d6",
   "metadata": {},
   "outputs": [
    {
     "name": "stdout",
     "output_type": "stream",
     "text": [
      "Index(['CALENDAR_ID', 'SERVICE_ABBR', 'ADHERENCE_ID', 'DATE', 'ROUTE_ABBR',\n",
      "       'BLOCK_ABBR', 'OPERATOR', 'TRIP_ID', 'OVERLOAD_ID',\n",
      "       'ROUTE_DIRECTION_NAME', 'TIME_POINT_ABBR', 'ROUTE_STOP_SEQUENCE',\n",
      "       'TRIP_EDGE', 'LATITUDE', 'LONGITUDE', 'SCHEDULED_TIME',\n",
      "       'ACTUAL_ARRIVAL_TIME', 'ACTUAL_DEPARTURE_TIME', 'ADHERENCE',\n",
      "       'SCHEDULED_HDWY', 'ACTUAL_HDWY', 'HDWY_DEV', 'ADJUSTED_EARLY_COUNT',\n",
      "       'ADJUSTED_LATE_COUNT', 'ADJUSTED_ONTIME_COUNT', 'STOP_CANCELLED',\n",
      "       'PREV_SCHED_STOP_CANCELLED', 'IS_RELIEF', 'BLOCK_STOP_ORDER',\n",
      "       'DWELL_IN_MINS', 'DAY_NUM'],\n",
      "      dtype='object')\n"
     ]
    }
   ],
   "source": [
    "print(wego_day_of_week.columns)"
   ]
  },
  {
   "cell_type": "code",
   "execution_count": 127,
   "id": "a5f22188-fb28-4dc8-8933-0f513b77f08b",
   "metadata": {},
   "outputs": [],
   "source": [
    "wego_copy = wego_day_of_week.copy()"
   ]
  },
  {
   "cell_type": "code",
   "execution_count": 133,
   "id": "39f38264-54fd-42de-b054-4d350f7d86fb",
   "metadata": {},
   "outputs": [],
   "source": [
    "wego_adherance = wego_copy['ADHERENCE']"
   ]
  },
  {
   "cell_type": "code",
   "execution_count": 135,
   "id": "11d81dc7-129e-4cda-8e52-8a64f053233e",
   "metadata": {},
   "outputs": [
    {
     "name": "stdout",
     "output_type": "stream",
     "text": [
      "0        -4.000000\n",
      "1        -2.633333\n",
      "2        -1.483333\n",
      "3        -0.566666\n",
      "4        -1.383333\n",
      "            ...   \n",
      "618993    2.300000\n",
      "618994   -0.833333\n",
      "618995   -0.233333\n",
      "618996   -2.333333\n",
      "618997    5.533333\n",
      "Name: ADHERENCE, Length: 618998, dtype: float64\n"
     ]
    }
   ],
   "source": [
    "print(wego_adherance)"
   ]
  },
  {
   "cell_type": "code",
   "execution_count": null,
   "id": "d10b299b-7093-459f-ace0-20812871c93f",
   "metadata": {},
   "outputs": [],
   "source": []
  }
 ],
 "metadata": {
  "kernelspec": {
   "display_name": "Python [conda env:base] *",
   "language": "python",
   "name": "conda-base-py"
  },
  "language_info": {
   "codemirror_mode": {
    "name": "ipython",
    "version": 3
   },
   "file_extension": ".py",
   "mimetype": "text/x-python",
   "name": "python",
   "nbconvert_exporter": "python",
   "pygments_lexer": "ipython3",
   "version": "3.12.7"
  }
 },
 "nbformat": 4,
 "nbformat_minor": 5
}
