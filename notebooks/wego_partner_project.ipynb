{
 "cells": [
  {
   "cell_type": "raw",
   "id": "58766662-48e5-45f0-9c74-1faf8e686a80",
   "metadata": {},
   "source": [
    "0 = Monday\n",
    "1 = Tuesday\n",
    "2 = Wednesday\n",
    "3 = Thursday\n",
    "4 = Friday\n",
    "5 = Saturday\n",
    "6 = Sunday"
   ]
  },
  {
   "cell_type": "raw",
   "id": "fc2703e0-31c6-4489-b6c0-7543c7ee78a1",
   "metadata": {},
   "source": [
    "INDEX:\n",
    "adherance_early\n",
    "adherance_late\n",
    "tscpb_complete (Block from Feb 10 noon to April 28 noon where TSP Schedule-Conditional Priority is ON)\n",
    "tsp_off_complete (Block from April 28 noon to May 5 noon where TSP is OFF)\n",
    "tsp_one_complete (Block from Feb 3 noon to Feb 10 noon where TSP UNCONDITIONAL is ON)\n",
    "tsp_two_complete (Block from May 5 at noon to May 12 noon where TSP UNCONDITIONAL is ON)\n",
    "tsphc_complete (Block from may 12 at noon till end where TSP Headway Conditional is ON)\n",
    "wego_sunday\n",
    "wego_monday\n",
    "wego_tuesday\n",
    "wego_wednesday\n",
    "wego_thursday\n",
    "wego_friday\n",
    "wego_saturday\n",
    "wego_sunday\n",
    "wego_weekday\n",
    "wego_weekend\n",
    "wego_day_of_week"
   ]
  },
  {
   "cell_type": "code",
   "execution_count": 5,
   "id": "9d5fc88b-439a-46f4-84e3-e93802b5324c",
   "metadata": {},
   "outputs": [],
   "source": [
    "import pandas as pd\n",
    "import calendar\n",
    "from datetime import date"
   ]
  },
  {
   "cell_type": "code",
   "execution_count": 7,
   "id": "4adb4e0d-1cd4-4ef9-b365-803e799f3c84",
   "metadata": {},
   "outputs": [],
   "source": [
    "wego = pd.read_csv(\"../data/Route 50 Timepoint and Headway Data, 1-1-2023 through 5-12-2025.csv\")"
   ]
  },
  {
   "cell_type": "code",
   "execution_count": 63,
   "id": "4c58d0ac-8308-4d00-8c74-255f40b52125",
   "metadata": {},
   "outputs": [
    {
     "name": "stdout",
     "output_type": "stream",
     "text": [
      "Index(['CALENDAR_ID', 'SERVICE_ABBR', 'ADHERENCE_ID', 'DATE', 'ROUTE_ABBR',\n",
      "       'BLOCK_ABBR', 'OPERATOR', 'TRIP_ID', 'OVERLOAD_ID',\n",
      "       'ROUTE_DIRECTION_NAME', 'TIME_POINT_ABBR', 'ROUTE_STOP_SEQUENCE',\n",
      "       'TRIP_EDGE', 'LATITUDE', 'LONGITUDE', 'SCHEDULED_TIME',\n",
      "       'ACTUAL_ARRIVAL_TIME', 'ACTUAL_DEPARTURE_TIME', 'ADHERENCE',\n",
      "       'SCHEDULED_HDWY', 'ACTUAL_HDWY', 'HDWY_DEV', 'ADJUSTED_EARLY_COUNT',\n",
      "       'ADJUSTED_LATE_COUNT', 'ADJUSTED_ONTIME_COUNT', 'STOP_CANCELLED',\n",
      "       'PREV_SCHED_STOP_CANCELLED', 'IS_RELIEF', 'BLOCK_STOP_ORDER',\n",
      "       'DWELL_IN_MINS', 'DAY_NUM'],\n",
      "      dtype='object')\n"
     ]
    }
   ],
   "source": [
    "print(wego_day_of_week.columns)"
   ]
  },
  {
   "cell_type": "code",
   "execution_count": 11,
   "id": "625729ac-b53f-40e6-9f9a-92bcef444e73",
   "metadata": {},
   "outputs": [],
   "source": [
    "wego_day_of_week = wego.copy()"
   ]
  },
  {
   "cell_type": "code",
   "execution_count": 13,
   "id": "d54a3d59-ed47-4751-967f-c9e102103f8f",
   "metadata": {},
   "outputs": [],
   "source": [
    "wego_day_of_week['DATE']= pd.to_datetime(wego_day_of_week['DATE'])"
   ]
  },
  {
   "cell_type": "code",
   "execution_count": 15,
   "id": "19d138e8-6454-4243-9525-ff5655f7371f",
   "metadata": {},
   "outputs": [],
   "source": [
    "wego_day_of_week['DAY_NUM'] = wego_day_of_week['DATE'].dt.weekday"
   ]
  },
  {
   "cell_type": "code",
   "execution_count": 17,
   "id": "c44397dd-e8fe-465c-94b1-fd96a6c54cd3",
   "metadata": {},
   "outputs": [],
   "source": [
    "wego_sunday = wego_day_of_week[wego_day_of_week['DAY_NUM']==6]"
   ]
  },
  {
   "cell_type": "code",
   "execution_count": 19,
   "id": "1eac2ea3-4609-4643-a812-d1b16c2cb5ed",
   "metadata": {},
   "outputs": [],
   "source": [
    "wego_monday = wego_day_of_week[wego_day_of_week['DAY_NUM']==0]"
   ]
  },
  {
   "cell_type": "code",
   "execution_count": 21,
   "id": "ddf77af7-ef0c-4ae0-b9ea-c135d7754d9d",
   "metadata": {},
   "outputs": [],
   "source": [
    "wego_tuesday = wego_day_of_week[wego_day_of_week['DAY_NUM']==1]"
   ]
  },
  {
   "cell_type": "code",
   "execution_count": 23,
   "id": "20c8c186-5dc6-4cee-a390-bf9f65aa343b",
   "metadata": {},
   "outputs": [],
   "source": [
    "wego_wednesday =  wego_day_of_week[wego_day_of_week['DAY_NUM']==2]"
   ]
  },
  {
   "cell_type": "code",
   "execution_count": 25,
   "id": "aade4cac-bbcf-4aa5-bfe6-1f7fc37589c3",
   "metadata": {},
   "outputs": [],
   "source": [
    "wego_thursday =  wego_day_of_week[wego_day_of_week['DAY_NUM']==3]"
   ]
  },
  {
   "cell_type": "code",
   "execution_count": 27,
   "id": "6eea835b-f81c-4113-8eaf-7bdf4c5dad47",
   "metadata": {},
   "outputs": [],
   "source": [
    "wego_friday = wego_day_of_week[wego_day_of_week['DAY_NUM']==4]"
   ]
  },
  {
   "cell_type": "code",
   "execution_count": 29,
   "id": "dc403dc9-7e6d-4908-974d-ecc5ebbed85f",
   "metadata": {},
   "outputs": [],
   "source": [
    "wego_saturday = wego_day_of_week[wego_day_of_week['DAY_NUM']==5]"
   ]
  },
  {
   "cell_type": "code",
   "execution_count": 31,
   "id": "c8e50f13-ecff-403b-8bf8-dfa9ef10cea5",
   "metadata": {},
   "outputs": [],
   "source": [
    "wego_weekdays = wego_day_of_week[wego_day_of_week['DAY_NUM'] < 6]"
   ]
  },
  {
   "cell_type": "code",
   "execution_count": 33,
   "id": "05632398-74b7-44ed-8b34-6787475002e0",
   "metadata": {},
   "outputs": [],
   "source": [
    "wego_weekends = wego_day_of_week[wego_day_of_week['DAY_NUM'] > 5]"
   ]
  },
  {
   "cell_type": "code",
   "execution_count": 35,
   "id": "da91732a-ebdb-42ea-b61a-a42948d2abd7",
   "metadata": {},
   "outputs": [
    {
     "name": "stdout",
     "output_type": "stream",
     "text": [
      "(554914, 31)\n",
      "(64084, 31)\n"
     ]
    }
   ],
   "source": [
    "print(wego_weekdays.shape)\n",
    "print(wego_weekends.shape)"
   ]
  },
  {
   "cell_type": "code",
   "execution_count": 37,
   "id": "2b7b2010-ad9c-4e55-8f60-fc3ca4d295d6",
   "metadata": {},
   "outputs": [
    {
     "name": "stdout",
     "output_type": "stream",
     "text": [
      "Index(['CALENDAR_ID', 'SERVICE_ABBR', 'ADHERENCE_ID', 'DATE', 'ROUTE_ABBR',\n",
      "       'BLOCK_ABBR', 'OPERATOR', 'TRIP_ID', 'OVERLOAD_ID',\n",
      "       'ROUTE_DIRECTION_NAME', 'TIME_POINT_ABBR', 'ROUTE_STOP_SEQUENCE',\n",
      "       'TRIP_EDGE', 'LATITUDE', 'LONGITUDE', 'SCHEDULED_TIME',\n",
      "       'ACTUAL_ARRIVAL_TIME', 'ACTUAL_DEPARTURE_TIME', 'ADHERENCE',\n",
      "       'SCHEDULED_HDWY', 'ACTUAL_HDWY', 'HDWY_DEV', 'ADJUSTED_EARLY_COUNT',\n",
      "       'ADJUSTED_LATE_COUNT', 'ADJUSTED_ONTIME_COUNT', 'STOP_CANCELLED',\n",
      "       'PREV_SCHED_STOP_CANCELLED', 'IS_RELIEF', 'BLOCK_STOP_ORDER',\n",
      "       'DWELL_IN_MINS', 'DAY_NUM'],\n",
      "      dtype='object')\n"
     ]
    }
   ],
   "source": [
    "print(wego_day_of_week.columns)"
   ]
  },
  {
   "cell_type": "code",
   "execution_count": 39,
   "id": "a5f22188-fb28-4dc8-8933-0f513b77f08b",
   "metadata": {},
   "outputs": [],
   "source": [
    "wego_copy = wego_day_of_week.copy()"
   ]
  },
  {
   "cell_type": "code",
   "execution_count": 41,
   "id": "39f38264-54fd-42de-b054-4d350f7d86fb",
   "metadata": {},
   "outputs": [],
   "source": [
    "wego_adherence = wego_copy[['ADHERENCE']]"
   ]
  },
  {
   "cell_type": "code",
   "execution_count": 43,
   "id": "d10b299b-7093-459f-ace0-20812871c93f",
   "metadata": {},
   "outputs": [],
   "source": [
    "adherence_late = wego_adherence[wego_adherence['ADHERENCE']< -6]"
   ]
  },
  {
   "cell_type": "code",
   "execution_count": 61,
   "id": "8b22b95e-24e6-40ba-a2c3-9c5a95eed106",
   "metadata": {},
   "outputs": [],
   "source": [
    "adherence_early = wego_adherence[wego_adherence['ADHERENCE']> 1]"
   ]
  },
  {
   "cell_type": "code",
   "execution_count": 166,
   "id": "d9d9bef1-ca00-40b9-a23f-5ebeefde4e36",
   "metadata": {},
   "outputs": [],
   "source": [
    "wego_drivers = wego_copy[['OPERATOR','DATE']]"
   ]
  },
  {
   "cell_type": "code",
   "execution_count": 168,
   "id": "9821e410-438c-4e69-a294-a37090b1b205",
   "metadata": {},
   "outputs": [
    {
     "name": "stdout",
     "output_type": "stream",
     "text": [
      "        OPERATOR       DATE\n",
      "0           2355 2023-01-01\n",
      "1           2355 2023-01-01\n",
      "2           2355 2023-01-01\n",
      "3           2355 2023-01-01\n",
      "4           2355 2023-01-01\n",
      "...          ...        ...\n",
      "618993      3077 2025-05-12\n",
      "618994      3246 2025-05-12\n",
      "618995      3246 2025-05-12\n",
      "618996      2448 2025-05-12\n",
      "618997      2448 2025-05-12\n",
      "\n",
      "[618998 rows x 2 columns]\n"
     ]
    }
   ],
   "source": [
    "print(wego_drivers)"
   ]
  },
  {
   "cell_type": "code",
   "execution_count": 170,
   "id": "8fbc732c-a275-44da-a2b6-33b4d8f3ae52",
   "metadata": {},
   "outputs": [],
   "source": [
    "wego_drivers_count = wego_drivers.groupby('OPERATOR').count()"
   ]
  },
  {
   "cell_type": "code",
   "execution_count": 172,
   "id": "512823f6-b6a2-494e-b744-97c88982ee54",
   "metadata": {},
   "outputs": [
    {
     "name": "stdout",
     "output_type": "stream",
     "text": [
      "           DATE\n",
      "OPERATOR       \n",
      "0            17\n",
      "201          30\n",
      "250          24\n",
      "304       21485\n",
      "327          12\n",
      "...         ...\n",
      "3511        132\n",
      "3512        186\n",
      "3519         29\n",
      "3521         30\n",
      "3523         47\n",
      "\n",
      "[473 rows x 1 columns]\n"
     ]
    }
   ],
   "source": [
    "print(wego_drivers_count)"
   ]
  },
  {
   "cell_type": "code",
   "execution_count": 164,
   "id": "a5aaa11a-800a-4384-b205-674633f66bc4",
   "metadata": {},
   "outputs": [],
   "source": [
    "tsp_one_chunk = wego_day_of_week[wego_day_of_week['DATE'].between('2025/2/4','2025/2/9')]\n",
    "tsp_one_first_day=wego_day_of_week[wego_day_of_week['DATE']=='2025/2/3']\n",
    "tsp_one_time = tsp_one_first_day[tsp_one_first_day['ACTUAL_ARRIVAL_TIME']>'12:00:00']\n",
    "tsp_one_last_day=wego_day_of_week[wego_day_of_week['DATE']=='2025/2/10']\n",
    "tsp_last_time = tsp_one_last_day[tsp_one_last_day['ACTUAL_ARRIVAL_TIME']<'12:00:00']\n",
    "tsp_one_complete = pd.concat([tsp_one_first_day, tsp_one_chunk,tsp_one_last_day])"
   ]
  },
  {
   "cell_type": "code",
   "execution_count": 162,
   "id": "d0af3345-7b2e-4fc0-a6a9-36f4043f8f4c",
   "metadata": {},
   "outputs": [],
   "source": [
    "tscpb_chunk = wego_day_of_week[wego_day_of_week['DATE'].between('2025/2/11','2025/4/27')]\n",
    "tscpb_first_day=wego_day_of_week[wego_day_of_week['DATE']=='2025/2/10']\n",
    "tscpb_first_time = tscpb_first_day[tscpb_first_day['ACTUAL_ARRIVAL_TIME']>'12:00:00']\n",
    "tscpb_last_day=wego_day_of_week[wego_day_of_week['DATE']=='2025/4/28']\n",
    "tscpb_last_time = tscpb_last_day[tscpb_last_day['ACTUAL_ARRIVAL_TIME']<'12:00:00']\n",
    "tscpb_complete = pd.concat([tscpb_first_time, tscpb_chunk, tscpb_last_time])"
   ]
  },
  {
   "cell_type": "code",
   "execution_count": 160,
   "id": "e18fcc7d-bbf5-475e-90ff-233881888162",
   "metadata": {},
   "outputs": [],
   "source": [
    "tsp_off_chunk = wego_day_of_week[wego_day_of_week['DATE'].between('2025/4/29','2025/5/4')]\n",
    "tsp_off_first_day = wego_day_of_week[wego_day_of_week['DATE']=='2025/4/28']\n",
    "tsp_off_first_time = tsp_off_first_day[tsp_off_first_day['ACTUAL_ARRIVAL_TIME']>'12:00:00']\n",
    "tsp_off_last_day = wego_day_of_week[wego_day_of_week['DATE']=='2025/5/5']\n",
    "tsp_off_last_time = tsp_off_last_day[tsp_off_last_day['ACTUAL_ARRIVAL_TIME']<'12:00:00']\n",
    "tsp_off_complete = pd.concat([tsp_off_first_time,tsp_off_chunk,tsp_off_last_time])"
   ]
  },
  {
   "cell_type": "code",
   "execution_count": 158,
   "id": "c10a7e05-58ea-4a64-b971-5a72f3abbf39",
   "metadata": {},
   "outputs": [],
   "source": [
    "tsp_two_chunk = wego_day_of_week[wego_day_of_week['DATE'].between('2025/5/6','2025/5/11')]\n",
    "tsp_two_first_day = wego_day_of_week[wego_day_of_week['DATE']=='2025/5/5']\n",
    "tsp_two_first_time = tsp_two_first_day[tsp_two_first_day['ACTUAL_ARRIVAL_TIME']>'12:00:00']\n",
    "tsp_two_last_day = wego_day_of_week[wego_day_of_week['DATE']=='2025/5/12']\n",
    "tsp_two_last_time = tsp_two_last_day[tsp_two_last_day['ACTUAL_ARRIVAL_TIME']<'12:00:00']\n",
    "tsp_two_complete = pd.concat ([tsp_two_first_time, tsp_two_chunk, tsp_two_last_time])"
   ]
  },
  {
   "cell_type": "code",
   "execution_count": 156,
   "id": "e47a536d-fd3b-45af-90d3-081ccc4aca95",
   "metadata": {},
   "outputs": [],
   "source": [
    "tsphc_chunk = wego_day_of_week[wego_day_of_week['DATE']>('2025/5/12')]\n",
    "tsphc_first_day = wego_day_of_week[wego_day_of_week['DATE']=='2025/5/12']\n",
    "tsphc_first_time = tsphc_first_day[tsphc_first_day['ACTUAL_ARRIVAL_TIME']>'12:00:00']\n",
    "tsphc_complete = pd.concat ([tsphc_first_time, tsphc_chunk])"
   ]
  },
  {
   "cell_type": "code",
   "execution_count": null,
   "id": "88d9027e-0f2e-4428-8b26-1305ddfdff9c",
   "metadata": {},
   "outputs": [],
   "source": []
  }
 ],
 "metadata": {
  "kernelspec": {
   "display_name": "Python [conda env:base] *",
   "language": "python",
   "name": "conda-base-py"
  },
  "language_info": {
   "codemirror_mode": {
    "name": "ipython",
    "version": 3
   },
   "file_extension": ".py",
   "mimetype": "text/x-python",
   "name": "python",
   "nbconvert_exporter": "python",
   "pygments_lexer": "ipython3",
   "version": "3.12.7"
  }
 },
 "nbformat": 4,
 "nbformat_minor": 5
}
