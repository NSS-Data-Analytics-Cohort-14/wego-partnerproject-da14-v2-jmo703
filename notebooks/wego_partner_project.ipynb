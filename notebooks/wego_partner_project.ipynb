{
 "cells": [
  {
   "cell_type": "raw",
   "id": "58766662-48e5-45f0-9c74-1faf8e686a80",
   "metadata": {},
   "source": [
    "0 = Monday\n",
    "1 = Tuesday\n",
    "2 = Wednesday\n",
    "3 = Thursday\n",
    "4 = Friday\n",
    "5 = Saturday\n",
    "6 = Sunday"
   ]
  },
  {
   "cell_type": "raw",
   "id": "fc2703e0-31c6-4489-b6c0-7543c7ee78a1",
   "metadata": {},
   "source": [
    "INDEX:\n",
    "* adherance_early\n",
    "* adherance_late\n",
    "---bottom_half_drivers (Drivers with less than 1308 stops on this route)\n",
    "---bottom_half_driver_ids (Operator IDs with less than 1308 stops in a list form)\n",
    "---top_half_drivers (Drivers with more than 1308 stops on this route)\n",
    "---top_half_driver_ids (Operator IDs with more than 1308 stops in a list form)\n",
    "* tscpb_complete (Block from Feb 10 noon to April 28 noon where TSP Schedule-Conditional Priority is ON)\n",
    "* tsp_off_complete (Block from April 28 noon to May 5 noon where TSP is OFF)\n",
    "* tsp_one_complete (Block from Feb 3 noon to Feb 10 noon where TSP UNCONDITIONAL is ON)\n",
    "* tsp_two_complete (Block from May 5 at noon to May 12 noon where TSP UNCONDITIONAL is ON)\n",
    "* tsphc_complete (Block from may 12 at noon till end where TSP Headway Conditional is ON)\n",
    "---wego_sunday\n",
    "---wego_monday\n",
    "---wego_tuesday\n",
    "---wego_wednesday\n",
    "---wego_thursday\n",
    "---wego_friday\n",
    "---wego_saturday\n",
    "---wego_sunday\n",
    "---wego_weekday\n",
    "---wego_weekend\n",
    "---wego_day_of_week\n",
    "* top_tscpb (top drivers from Feb 10 noon to April 28 noon where TSP Schedule-Conditional Priority is ON)\n",
    "* bottom_tscpb (bottom drivers from Feb 10 noon to April 28 noon where TSP Schedule-Conditional Priority is ON)\n",
    "* top_tsp_off (top drivers from April 28 noon to May 5 noon where TSP is OFF)\n",
    "* bottom_tsp_off (bottom drivers from April 28 noon to May 5 noon where TSP is OFF)\n",
    "* top_tsp_one (top drivers from Feb 3 noon to Feb 10 noon where TSP UNCONDITIONAL is ON)\n",
    "* bottom_tsp_one (bottom drivers from Feb 3 noon to Feb 10 noon where TSP UNCONDITIONAL is ON)\n",
    "* top_tsphc (top drivers from may 12 at noon till may 12 midnight where TSP Headway Conditional is ON)\n",
    "* bottom_tsphc (bottom drivers from may 12 at noon till may 12 midnight where TSP Headway Conditional is ON)"
   ]
  },
  {
   "cell_type": "raw",
   "id": "91677a19-72e1-4605-9f5d-e815ec12d399",
   "metadata": {},
   "source": [
    "wego_time_buckets['TIME_BUCKET'] = np.where(wego_time_buckets['SCHEDULED_TIME']<'8:00:00','EM',\n",
    "                                np.where(wego_time_buckets['SCHEDULED_TIME']<'11:00:00',\"MP\",\n",
    "                                np.where(wego_time_buckets['SCHEDULED_TIME']<'14:00:00', \"MD\",\n",
    "                                np.where(wego_time_buckets['SCHEDULED_TIME']<'17:00:00', \"AP\",\n",
    "                                np.where(wego_time_buckets['SCHEDULED_TIME']<'20:00:00', \"EP\",\n",
    "                                np.where(wego_time_buckets['SCHEDULED_TIME']<'23:59:59', \"LN\", \"NOTHING\"))))))"
   ]
  },
  {
   "cell_type": "code",
   "execution_count": 272,
   "id": "9d5fc88b-439a-46f4-84e3-e93802b5324c",
   "metadata": {},
   "outputs": [],
   "source": [
    "import pandas as pd\n",
    "import calendar\n",
    "import numpy as np\n",
    "from datetime import date"
   ]
  },
  {
   "cell_type": "code",
   "execution_count": 92,
   "id": "4adb4e0d-1cd4-4ef9-b365-803e799f3c84",
   "metadata": {},
   "outputs": [],
   "source": [
    "wego = pd.read_csv(\"../data/Route 50 Timepoint and Headway Data, 1-1-2023 through 5-12-2025.csv\")"
   ]
  },
  {
   "cell_type": "code",
   "execution_count": 440,
   "id": "4c58d0ac-8308-4d00-8c74-255f40b52125",
   "metadata": {},
   "outputs": [
    {
     "name": "stdout",
     "output_type": "stream",
     "text": [
      "Index(['CALENDAR_ID', 'SERVICE_ABBR', 'ADHERENCE_ID', 'DATE', 'ROUTE_ABBR',\n",
      "       'BLOCK_ABBR', 'OPERATOR', 'TRIP_ID', 'OVERLOAD_ID',\n",
      "       'ROUTE_DIRECTION_NAME', 'TIME_POINT_ABBR', 'ROUTE_STOP_SEQUENCE',\n",
      "       'TRIP_EDGE', 'LATITUDE', 'LONGITUDE', 'SCHEDULED_TIME',\n",
      "       'ACTUAL_ARRIVAL_TIME', 'ACTUAL_DEPARTURE_TIME', 'ADHERENCE',\n",
      "       'SCHEDULED_HDWY', 'ACTUAL_HDWY', 'HDWY_DEV', 'ADJUSTED_EARLY_COUNT',\n",
      "       'ADJUSTED_LATE_COUNT', 'ADJUSTED_ONTIME_COUNT', 'STOP_CANCELLED',\n",
      "       'PREV_SCHED_STOP_CANCELLED', 'IS_RELIEF', 'BLOCK_STOP_ORDER',\n",
      "       'DWELL_IN_MINS', 'DAY_NUM', 'TIME_OF_DAY_CATEGORY'],\n",
      "      dtype='object')\n"
     ]
    }
   ],
   "source": [
    "print(wego_day_of_week.columns)"
   ]
  },
  {
   "cell_type": "code",
   "execution_count": 582,
   "id": "2e9de115-e237-4b26-b296-3976b8962e14",
   "metadata": {},
   "outputs": [],
   "source": [
    "wego_day_of_week = wego.copy()"
   ]
  },
  {
   "cell_type": "code",
   "execution_count": 584,
   "id": "78cb997a-b6b4-4a2d-8531-7fcf2d848453",
   "metadata": {},
   "outputs": [],
   "source": [
    "wego_day_of_week['TIME_OF_DAY_CATEGORY']=pd.cut(wego_day_of_week['SCHEDULED_TIME'],bins=['05:00:00','08:00:00','11:00:00','14:00:00','17:00:00','20:00:00','24:00:00'],include_lowest=True,labels=['EM','MP','MD','AP','EP','LN'])"
   ]
  },
  {
   "cell_type": "code",
   "execution_count": 586,
   "id": "d54a3d59-ed47-4751-967f-c9e102103f8f",
   "metadata": {},
   "outputs": [],
   "source": [
    "wego_day_of_week['DATE']= pd.to_datetime(wego_day_of_week['DATE'])"
   ]
  },
  {
   "cell_type": "code",
   "execution_count": 588,
   "id": "19d138e8-6454-4243-9525-ff5655f7371f",
   "metadata": {},
   "outputs": [],
   "source": [
    "wego_day_of_week['DAY_NUM'] = wego_day_of_week['DATE'].dt.weekday"
   ]
  },
  {
   "cell_type": "code",
   "execution_count": 590,
   "id": "c44397dd-e8fe-465c-94b1-fd96a6c54cd3",
   "metadata": {},
   "outputs": [],
   "source": [
    "wego_sunday = wego_day_of_week[wego_day_of_week['DAY_NUM']==6]"
   ]
  },
  {
   "cell_type": "code",
   "execution_count": 592,
   "id": "1eac2ea3-4609-4643-a812-d1b16c2cb5ed",
   "metadata": {},
   "outputs": [],
   "source": [
    "wego_monday = wego_day_of_week[wego_day_of_week['DAY_NUM']==0]"
   ]
  },
  {
   "cell_type": "code",
   "execution_count": 594,
   "id": "ddf77af7-ef0c-4ae0-b9ea-c135d7754d9d",
   "metadata": {},
   "outputs": [],
   "source": [
    "wego_tuesday = wego_day_of_week[wego_day_of_week['DAY_NUM']==1]"
   ]
  },
  {
   "cell_type": "code",
   "execution_count": 596,
   "id": "20c8c186-5dc6-4cee-a390-bf9f65aa343b",
   "metadata": {},
   "outputs": [],
   "source": [
    "wego_wednesday =  wego_day_of_week[wego_day_of_week['DAY_NUM']==2]"
   ]
  },
  {
   "cell_type": "code",
   "execution_count": 598,
   "id": "aade4cac-bbcf-4aa5-bfe6-1f7fc37589c3",
   "metadata": {},
   "outputs": [],
   "source": [
    "wego_thursday =  wego_day_of_week[wego_day_of_week['DAY_NUM']==3]"
   ]
  },
  {
   "cell_type": "code",
   "execution_count": 600,
   "id": "6eea835b-f81c-4113-8eaf-7bdf4c5dad47",
   "metadata": {},
   "outputs": [],
   "source": [
    "wego_friday = wego_day_of_week[wego_day_of_week['DAY_NUM']==4]"
   ]
  },
  {
   "cell_type": "code",
   "execution_count": 602,
   "id": "dc403dc9-7e6d-4908-974d-ecc5ebbed85f",
   "metadata": {},
   "outputs": [],
   "source": [
    "wego_saturday = wego_day_of_week[wego_day_of_week['DAY_NUM']==5]"
   ]
  },
  {
   "cell_type": "code",
   "execution_count": 604,
   "id": "c8e50f13-ecff-403b-8bf8-dfa9ef10cea5",
   "metadata": {},
   "outputs": [],
   "source": [
    "wego_weekdays = wego_day_of_week[wego_day_of_week['DAY_NUM'] < 6]"
   ]
  },
  {
   "cell_type": "code",
   "execution_count": 606,
   "id": "05632398-74b7-44ed-8b34-6787475002e0",
   "metadata": {},
   "outputs": [],
   "source": [
    "wego_weekends = wego_day_of_week[wego_day_of_week['DAY_NUM'] > 5]"
   ]
  },
  {
   "cell_type": "code",
   "execution_count": 608,
   "id": "a5f22188-fb28-4dc8-8933-0f513b77f08b",
   "metadata": {},
   "outputs": [],
   "source": [
    "wego_copy = wego_day_of_week.copy()"
   ]
  },
  {
   "cell_type": "code",
   "execution_count": 610,
   "id": "39f38264-54fd-42de-b054-4d350f7d86fb",
   "metadata": {},
   "outputs": [],
   "source": [
    "wego_adherence = wego_copy[['ADHERENCE']]"
   ]
  },
  {
   "cell_type": "code",
   "execution_count": 612,
   "id": "d10b299b-7093-459f-ace0-20812871c93f",
   "metadata": {},
   "outputs": [],
   "source": [
    "adherence_late = wego_adherence[wego_adherence['ADHERENCE']< -6]"
   ]
  },
  {
   "cell_type": "code",
   "execution_count": 614,
   "id": "8b22b95e-24e6-40ba-a2c3-9c5a95eed106",
   "metadata": {},
   "outputs": [],
   "source": [
    "adherence_early = wego_adherence[wego_adherence['ADHERENCE']> 1]"
   ]
  },
  {
   "cell_type": "code",
   "execution_count": 616,
   "id": "a5aaa11a-800a-4384-b205-674633f66bc4",
   "metadata": {},
   "outputs": [],
   "source": [
    "tsp_one_chunk = wego_day_of_week[wego_day_of_week['DATE'].between('2025/2/4','2025/2/9')]\n",
    "tsp_one_first_day=wego_day_of_week[wego_day_of_week['DATE']=='2025/2/3']\n",
    "tsp_one_time = tsp_one_first_day[tsp_one_first_day['ACTUAL_ARRIVAL_TIME']>'12:00:00']\n",
    "tsp_one_last_day=wego_day_of_week[wego_day_of_week['DATE']=='2025/2/10']\n",
    "tsp_last_time = tsp_one_last_day[tsp_one_last_day['ACTUAL_ARRIVAL_TIME']<'12:00:00']\n",
    "tsp_one_complete = pd.concat([tsp_one_first_day, tsp_one_chunk,tsp_one_last_day])"
   ]
  },
  {
   "cell_type": "code",
   "execution_count": 618,
   "id": "d0af3345-7b2e-4fc0-a6a9-36f4043f8f4c",
   "metadata": {},
   "outputs": [],
   "source": [
    "tscpb_chunk = wego_day_of_week[wego_day_of_week['DATE'].between('2025/2/11','2025/4/27')]\n",
    "tscpb_first_day=wego_day_of_week[wego_day_of_week['DATE']=='2025/2/10']\n",
    "tscpb_first_time = tscpb_first_day[tscpb_first_day['ACTUAL_ARRIVAL_TIME']>'12:00:00']\n",
    "tscpb_last_day=wego_day_of_week[wego_day_of_week['DATE']=='2025/4/28']\n",
    "tscpb_last_time = tscpb_last_day[tscpb_last_day['ACTUAL_ARRIVAL_TIME']<'12:00:00']\n",
    "tscpb_complete = pd.concat([tscpb_first_time, tscpb_chunk, tscpb_last_time])"
   ]
  },
  {
   "cell_type": "code",
   "execution_count": 620,
   "id": "e18fcc7d-bbf5-475e-90ff-233881888162",
   "metadata": {},
   "outputs": [],
   "source": [
    "tsp_off_chunk = wego_day_of_week[wego_day_of_week['DATE'].between('2025/4/29','2025/5/4')]\n",
    "tsp_off_first_day = wego_day_of_week[wego_day_of_week['DATE']=='2025/4/28']\n",
    "tsp_off_first_time = tsp_off_first_day[tsp_off_first_day['ACTUAL_ARRIVAL_TIME']>'12:00:00']\n",
    "tsp_off_last_day = wego_day_of_week[wego_day_of_week['DATE']=='2025/5/5']\n",
    "tsp_off_last_time = tsp_off_last_day[tsp_off_last_day['ACTUAL_ARRIVAL_TIME']<'12:00:00']\n",
    "tsp_off_complete = pd.concat([tsp_off_first_time,tsp_off_chunk,tsp_off_last_time])"
   ]
  },
  {
   "cell_type": "code",
   "execution_count": 622,
   "id": "c10a7e05-58ea-4a64-b971-5a72f3abbf39",
   "metadata": {},
   "outputs": [],
   "source": [
    "tsp_two_chunk = wego_day_of_week[wego_day_of_week['DATE'].between('2025/5/6','2025/5/11')]\n",
    "tsp_two_first_day = wego_day_of_week[wego_day_of_week['DATE']=='2025/5/5']\n",
    "tsp_two_first_time = tsp_two_first_day[tsp_two_first_day['ACTUAL_ARRIVAL_TIME']>'12:00:00']\n",
    "tsp_two_last_day = wego_day_of_week[wego_day_of_week['DATE']=='2025/5/12']\n",
    "tsp_two_last_time = tsp_two_last_day[tsp_two_last_day['ACTUAL_ARRIVAL_TIME']<'12:00:00']\n",
    "tsp_two_complete = pd.concat ([tsp_two_first_time, tsp_two_chunk, tsp_two_last_time])"
   ]
  },
  {
   "cell_type": "code",
   "execution_count": 624,
   "id": "e47a536d-fd3b-45af-90d3-081ccc4aca95",
   "metadata": {},
   "outputs": [],
   "source": [
    "tsphc_chunk = wego_day_of_week[wego_day_of_week['DATE']>('2025/5/12')]\n",
    "tsphc_first_day = wego_day_of_week[wego_day_of_week['DATE']=='2025/5/12']\n",
    "tsphc_first_time = tsphc_first_day[tsphc_first_day['ACTUAL_ARRIVAL_TIME']>'12:00:00']\n",
    "tsphc_complete = pd.concat ([tsphc_first_time, tsphc_chunk])"
   ]
  },
  {
   "cell_type": "code",
   "execution_count": 626,
   "id": "1b6a915a-aa90-41c5-b875-8051cdb92321",
   "metadata": {},
   "outputs": [],
   "source": [
    "wego_drivers = wego_copy[['OPERATOR','DATE']]"
   ]
  },
  {
   "cell_type": "code",
   "execution_count": 628,
   "id": "911130d4-4277-4318-926b-0b237d247196",
   "metadata": {},
   "outputs": [],
   "source": [
    "wego_drivers_count = wego_drivers['OPERATOR'].nunique()"
   ]
  },
  {
   "cell_type": "code",
   "execution_count": 630,
   "id": "2e6f4846-30d6-42ca-82b1-30a929e08c14",
   "metadata": {},
   "outputs": [],
   "source": [
    "driver_stop_count = wego_drivers.groupby(('OPERATOR'), as_index=False).count()"
   ]
  },
  {
   "cell_type": "code",
   "execution_count": 632,
   "id": "85e89d87-f39f-48ba-8940-b3d100bdc0f9",
   "metadata": {},
   "outputs": [
    {
     "data": {
      "text/plain": [
       "1308.6638477801268"
      ]
     },
     "execution_count": 632,
     "metadata": {},
     "output_type": "execute_result"
    }
   ],
   "source": [
    "driver_stop_count['DATE'].mean()"
   ]
  },
  {
   "cell_type": "code",
   "execution_count": 634,
   "id": "e9de8c59-651a-4c13-b891-67bb6e3cab23",
   "metadata": {},
   "outputs": [],
   "source": [
    "top_half_drivers = driver_stop_count[driver_stop_count['DATE']>1308]"
   ]
  },
  {
   "cell_type": "code",
   "execution_count": 636,
   "id": "9f63d868-3750-478a-b9a4-445d549ecbde",
   "metadata": {},
   "outputs": [],
   "source": [
    "bottom_half_drivers = driver_stop_count[driver_stop_count['DATE']<1308]"
   ]
  },
  {
   "cell_type": "code",
   "execution_count": 638,
   "id": "ca548d28-02e3-4f2a-8792-f30fd71dd78b",
   "metadata": {},
   "outputs": [],
   "source": [
    "top_half_driver_ids = top_half_drivers['OPERATOR'].tolist()"
   ]
  },
  {
   "cell_type": "code",
   "execution_count": 640,
   "id": "dede9522-650f-4687-8dcd-307b4ce2960f",
   "metadata": {},
   "outputs": [],
   "source": [
    "bottom_half_driver_ids = bottom_half_drivers['OPERATOR'].tolist()"
   ]
  },
  {
   "cell_type": "code",
   "execution_count": 642,
   "id": "eac5cd5f-9d56-4f1f-933c-f8e5a1cfa813",
   "metadata": {},
   "outputs": [],
   "source": [
    "top_tscpb = tscpb_complete[tscpb_complete['OPERATOR'].isin(top_half_driver_ids)]"
   ]
  },
  {
   "cell_type": "code",
   "execution_count": 644,
   "id": "5d8a79e5-a61c-4701-a9cf-8130689af7f4",
   "metadata": {},
   "outputs": [],
   "source": [
    "bottom_tscpb = tscpb_complete[tscpb_complete['OPERATOR'].isin(bottom_half_driver_ids)]"
   ]
  },
  {
   "cell_type": "code",
   "execution_count": 646,
   "id": "969ad7e1-8be7-4719-849d-b5b2e61a32bd",
   "metadata": {},
   "outputs": [],
   "source": [
    "top_tsp_off = tsp_off_complete[tsp_off_complete['OPERATOR'].isin(top_half_driver_ids)]"
   ]
  },
  {
   "cell_type": "code",
   "execution_count": 648,
   "id": "6f6230ed-26fb-44f8-a43b-1ee47e16e307",
   "metadata": {},
   "outputs": [],
   "source": [
    "bottom_tsp_off = tsp_off_complete[tsp_off_complete['OPERATOR'].isin(bottom_half_driver_ids)]"
   ]
  },
  {
   "cell_type": "code",
   "execution_count": 650,
   "id": "8fa332fe-767e-4c71-8d43-2b1ed62867e8",
   "metadata": {},
   "outputs": [],
   "source": [
    "top_tsp_one = tsp_one_complete[tsp_one_complete['OPERATOR'].isin(top_half_driver_ids)]"
   ]
  },
  {
   "cell_type": "code",
   "execution_count": 652,
   "id": "f797d5eb-76ad-4b5a-ab87-df569df8ecae",
   "metadata": {},
   "outputs": [],
   "source": [
    "bottom_tsp_one = tsp_one_complete[tsp_one_complete['OPERATOR'].isin(bottom_half_driver_ids)]"
   ]
  },
  {
   "cell_type": "code",
   "execution_count": 654,
   "id": "54ac08e3-687f-4ccf-b632-a46fe09acfa0",
   "metadata": {},
   "outputs": [],
   "source": [
    "top_tsp_two = tsp_two_complete[tsp_two_complete['OPERATOR'].isin(top_half_driver_ids)]"
   ]
  },
  {
   "cell_type": "code",
   "execution_count": 656,
   "id": "ffbba3e9-f6c6-4810-8381-17f7f08b7393",
   "metadata": {},
   "outputs": [],
   "source": [
    "bottom_tsp_two = tsp_two_complete[tsp_two_complete['OPERATOR'].isin(bottom_half_driver_ids)]"
   ]
  },
  {
   "cell_type": "code",
   "execution_count": 658,
   "id": "6c122ed9-e85d-4900-a076-0c4c4916171a",
   "metadata": {},
   "outputs": [],
   "source": [
    "top_tsphc = tsphc_complete[tsphc_complete['OPERATOR'].isin(top_half_driver_ids)]"
   ]
  },
  {
   "cell_type": "code",
   "execution_count": 660,
   "id": "b64130ad-652d-45d7-b26f-1ff34a8721eb",
   "metadata": {},
   "outputs": [],
   "source": [
    "bottom_tsphc = tsphc_complete[tsphc_complete['OPERATOR'].isin(bottom_half_driver_ids)]"
   ]
  },
  {
   "cell_type": "code",
   "execution_count": 662,
   "id": "29dc1b59-b6c1-4336-aed7-4f4afaf951d1",
   "metadata": {},
   "outputs": [],
   "source": [
    "top_tsp_off_adherence = top_tsp_off['ADHERENCE'].mean()\n",
    "bottom_tsp_off_adherence = bottom_tsp_off['ADHERENCE'].mean()"
   ]
  },
  {
   "cell_type": "code",
   "execution_count": 664,
   "id": "e5c26d02-2190-40ec-8d55-a280e4f10ea1",
   "metadata": {},
   "outputs": [],
   "source": [
    "top_tscpb_adherence = top_tscpb['ADHERENCE'].mean()\n",
    "bottom_tscpb_adherence = bottom_tscpb['ADHERENCE'].mean()"
   ]
  },
  {
   "cell_type": "code",
   "execution_count": 666,
   "id": "985a7508-0d0a-416f-b018-ab72f1f621d7",
   "metadata": {},
   "outputs": [],
   "source": [
    "top_tsp_one_adherence = top_tsp_one['ADHERENCE'].mean()\n",
    "bottom_tsp_one_adherence = bottom_tsp_one['ADHERENCE'].mean()"
   ]
  },
  {
   "cell_type": "code",
   "execution_count": 668,
   "id": "da49b7ff-6874-4360-b443-ffd0fd198a76",
   "metadata": {},
   "outputs": [],
   "source": [
    "top_tsp_two_adherence = top_tsp_two['ADHERENCE'].mean()\n",
    "bottom_tsp_two_adherence = bottom_tsp_two['ADHERENCE'].mean()"
   ]
  },
  {
   "cell_type": "code",
   "execution_count": 670,
   "id": "1876a520-efde-4244-a077-28ecc0937738",
   "metadata": {},
   "outputs": [],
   "source": [
    "top_tsphc_adherence = top_tsphc['ADHERENCE'].mean()\n",
    "bottom_tsphc_adherence = bottom_tsphc['ADHERENCE'].mean()"
   ]
  },
  {
   "cell_type": "code",
   "execution_count": 672,
   "id": "350d3c3b-76a5-4a51-8710-a52c412d9252",
   "metadata": {},
   "outputs": [
    {
     "name": "stdout",
     "output_type": "stream",
     "text": [
      "-3.0702952777053456 top off\n",
      "-2.786275114864865 bottom off\n",
      "-2.310513916857453 top priority on\n",
      "-2.7542101559927206 bottom priority on\n",
      "-0.29683244638009043 top on trial 1\n",
      "-0.029601131291028312 bottom on trial 1\n",
      "-2.8927406566683196 top on trial 2\n",
      "-2.6181075827067675 bottom on trial 2\n",
      "-1.7922762256097562 top on final\n",
      "-1.9576921025641025 bottom on final\n"
     ]
    }
   ],
   "source": [
    "print(top_tsp_off_adherence, 'top off')\n",
    "print(bottom_tsp_off_adherence, 'bottom off')\n",
    "print(top_tscpb_adherence, 'top priority on')\n",
    "print(bottom_tscpb_adherence, 'bottom priority on')\n",
    "print(top_tsp_one_adherence, 'top on trial 1')\n",
    "print(bottom_tsp_one_adherence, 'bottom on trial 1')\n",
    "print(top_tsp_two_adherence, 'top on trial 2')\n",
    "print(bottom_tsp_two_adherence, 'bottom on trial 2')\n",
    "print(top_tsphc_adherence, 'top on final')\n",
    "print(bottom_tsphc_adherence, 'bottom on final')"
   ]
  },
  {
   "cell_type": "code",
   "execution_count": 674,
   "id": "e14c2f38-db54-4a1a-b06c-b18329f71f57",
   "metadata": {},
   "outputs": [],
   "source": [
    "wego_monday_adherence = wego_monday['ADHERENCE'].mean()"
   ]
  },
  {
   "cell_type": "code",
   "execution_count": 676,
   "id": "8124c87f-0812-4062-bb85-6bb145222d1f",
   "metadata": {},
   "outputs": [],
   "source": [
    "wego_tuesday_adherence = wego_tuesday['ADHERENCE'].mean()"
   ]
  },
  {
   "cell_type": "code",
   "execution_count": 678,
   "id": "d35c080e-0611-4cf7-adeb-2374d74d5dec",
   "metadata": {},
   "outputs": [],
   "source": [
    "wego_wednesday_adherence = wego_wednesday['ADHERENCE'].mean()"
   ]
  },
  {
   "cell_type": "code",
   "execution_count": 680,
   "id": "9aec4ca7-561c-48c9-9ed3-00aec0144229",
   "metadata": {},
   "outputs": [],
   "source": [
    "wego_thursday_adherence = wego_thursday['ADHERENCE'].mean()"
   ]
  },
  {
   "cell_type": "code",
   "execution_count": 682,
   "id": "b2d84274-9eb9-4078-8fee-0bfb4b76ecc2",
   "metadata": {},
   "outputs": [],
   "source": [
    "wego_friday_adherence = wego_friday['ADHERENCE'].mean()"
   ]
  },
  {
   "cell_type": "code",
   "execution_count": 684,
   "id": "172f8840-8737-47fa-b747-38c68779bd91",
   "metadata": {},
   "outputs": [],
   "source": [
    "wego_saturday_adherence = wego_saturday['ADHERENCE'].mean()"
   ]
  },
  {
   "cell_type": "code",
   "execution_count": 686,
   "id": "26fa4650-fbc5-48e3-b5b9-01d26d6970ab",
   "metadata": {},
   "outputs": [],
   "source": [
    "wego_sunday_adherence = wego_sunday['ADHERENCE'].mean()"
   ]
  },
  {
   "cell_type": "code",
   "execution_count": 688,
   "id": "d9726a39-2124-4c14-8ea5-e92a17a4aea0",
   "metadata": {},
   "outputs": [
    {
     "name": "stdout",
     "output_type": "stream",
     "text": [
      "-2.330962455072432\n",
      "-2.6637147088153594\n",
      "-2.666189200916592\n",
      "-2.5750338246646076\n",
      "-2.661883506055409\n",
      "-2.7124328242771685\n",
      "-1.5915072928118903\n"
     ]
    }
   ],
   "source": [
    "print(wego_monday_adherence)\n",
    "print(wego_tuesday_adherence)\n",
    "print(wego_wednesday_adherence)\n",
    "print(wego_thursday_adherence)\n",
    "print(wego_friday_adherence)\n",
    "print(wego_saturday_adherence)\n",
    "print(wego_sunday_adherence)"
   ]
  },
  {
   "cell_type": "code",
   "execution_count": 690,
   "id": "9a45ad61-0084-4e90-bc43-da2554bfa81e",
   "metadata": {},
   "outputs": [],
   "source": [
    "tscpb_headway_mean = tscpb_complete['HDWY_DEV'].mean()"
   ]
  },
  {
   "cell_type": "code",
   "execution_count": 692,
   "id": "1c4dd71b-3c2f-4ff0-aa36-bcaded01caab",
   "metadata": {},
   "outputs": [],
   "source": [
    "tscpb_scheduled_headway_mean = tscpb_complete['SCHEDULED_HDWY'].mean()"
   ]
  },
  {
   "cell_type": "code",
   "execution_count": 694,
   "id": "bd71166b-b8be-4df5-b4f7-9e1448eb7324",
   "metadata": {},
   "outputs": [],
   "source": [
    "tscpb_headway_deviation_percentage = (tscpb_headway_mean/tscpb_scheduled_headway_mean) * 100"
   ]
  },
  {
   "cell_type": "code",
   "execution_count": 696,
   "id": "f44385bd-0fda-4bee-867a-584d49d0a173",
   "metadata": {},
   "outputs": [
    {
     "name": "stdout",
     "output_type": "stream",
     "text": [
      "4.828999946623068\n"
     ]
    }
   ],
   "source": [
    "print(tscpb_headway_deviation_percentage)"
   ]
  },
  {
   "cell_type": "code",
   "execution_count": 698,
   "id": "17bb6799-6669-4441-9b1f-0a72b69d8d37",
   "metadata": {},
   "outputs": [],
   "source": [
    "tsp_one_headway_mean = tsp_one_complete['HDWY_DEV'].mean()"
   ]
  },
  {
   "cell_type": "code",
   "execution_count": 700,
   "id": "fd673452-ef67-4e6e-830e-c2dd40875477",
   "metadata": {},
   "outputs": [],
   "source": [
    "tsp_one_scheduled_headway_mean = tsp_one_complete['SCHEDULED_HDWY'].mean()"
   ]
  },
  {
   "cell_type": "code",
   "execution_count": 702,
   "id": "47363e90-2727-4059-b8aa-fa24accfa8cd",
   "metadata": {},
   "outputs": [],
   "source": [
    "tsp_one_deviation_percentage = (tsp_one_headway_mean/tsp_one_scheduled_headway_mean) * 100"
   ]
  },
  {
   "cell_type": "code",
   "execution_count": 704,
   "id": "46f73272-c2bd-48c3-8512-a82125d27d1a",
   "metadata": {},
   "outputs": [
    {
     "name": "stdout",
     "output_type": "stream",
     "text": [
      "1.6514259085959742\n"
     ]
    }
   ],
   "source": [
    "print(tsp_one_deviation_percentage)"
   ]
  },
  {
   "cell_type": "code",
   "execution_count": 706,
   "id": "9006b800-e614-4d42-b2b7-f6b76bb08f9a",
   "metadata": {},
   "outputs": [],
   "source": [
    "tsp_two_headway_mean = tsp_two_complete['HDWY_DEV'].mean()"
   ]
  },
  {
   "cell_type": "code",
   "execution_count": 708,
   "id": "e45ac3d4-5d3d-4feb-9f91-ae0d1c53098e",
   "metadata": {},
   "outputs": [],
   "source": [
    "tsp_two_scheduled_headway_mean = tsp_two_complete['SCHEDULED_HDWY'].mean()"
   ]
  },
  {
   "cell_type": "code",
   "execution_count": 710,
   "id": "fc5eefa9-fe39-4837-a4a6-773e47c37273",
   "metadata": {},
   "outputs": [],
   "source": [
    "tsp_two_deviation_percentage = (tsp_two_headway_mean / tsp_two_scheduled_headway_mean) * 100"
   ]
  },
  {
   "cell_type": "code",
   "execution_count": 712,
   "id": "2a199b7c-1a0e-4dcc-994a-f58c69934ec7",
   "metadata": {},
   "outputs": [
    {
     "name": "stdout",
     "output_type": "stream",
     "text": [
      "0.3709505558768034\n"
     ]
    }
   ],
   "source": [
    "print(tsp_two_deviation_percentage)"
   ]
  },
  {
   "cell_type": "code",
   "execution_count": 734,
   "id": "1c10f841-3d1c-44d4-a9e1-69df2304c971",
   "metadata": {},
   "outputs": [],
   "source": [
    "tsp_off_headway_time_means = tsp_off_complete.groupby('TIME_OF_DAY_CATEGORY', observed=False) ['HDWY_DEV'].mean()"
   ]
  },
  {
   "cell_type": "code",
   "execution_count": 736,
   "id": "8a64691b-cfa7-4e01-b551-9a1b6dc784af",
   "metadata": {},
   "outputs": [
    {
     "name": "stdout",
     "output_type": "stream",
     "text": [
      "TIME_OF_DAY_CATEGORY\n",
      "EM    0.432441\n",
      "MP    0.125451\n",
      "MD    0.392891\n",
      "AP    0.565516\n",
      "EP    0.413240\n",
      "LN    0.150124\n",
      "Name: HDWY_DEV, dtype: float64\n"
     ]
    }
   ],
   "source": [
    "print(tsp_off_headway_time_means)"
   ]
  },
  {
   "cell_type": "code",
   "execution_count": 738,
   "id": "43498ee5-541a-4ba6-ab2d-ab85055ab148",
   "metadata": {},
   "outputs": [],
   "source": [
    "tsp_off_scheduled_headway_means = tsp_off_complete.groupby('TIME_OF_DAY_CATEGORY', observed=False) ['SCHEDULED_HDWY'].mean()"
   ]
  },
  {
   "cell_type": "code",
   "execution_count": 740,
   "id": "35894f0f-41b6-475e-bc4b-6f9ae8000afa",
   "metadata": {},
   "outputs": [],
   "source": [
    "tsp_off_deviation_percentage = (tsp_off_headway_time_means/tsp_off_scheduled_headway_means) * 100"
   ]
  },
  {
   "cell_type": "code",
   "execution_count": 742,
   "id": "3d557527-4a84-44da-9d81-44ee051a3947",
   "metadata": {},
   "outputs": [
    {
     "name": "stdout",
     "output_type": "stream",
     "text": [
      "TIME_OF_DAY_CATEGORY\n",
      "EM    2.128532\n",
      "MP    0.730966\n",
      "MD    2.429193\n",
      "AP    3.537296\n",
      "EP    1.856492\n",
      "LN    0.501698\n",
      "dtype: float64\n"
     ]
    }
   ],
   "source": [
    "print(tsp_off_deviation_percentage)"
   ]
  },
  {
   "cell_type": "code",
   "execution_count": 282,
   "id": "cd6ca893-fefa-43b5-a099-9acf2ae98e62",
   "metadata": {},
   "outputs": [],
   "source": [
    "wego_time_buckets = wego_day_of_week.copy()"
   ]
  },
  {
   "cell_type": "raw",
   "id": "a1850180-5ddd-46c2-bc94-3b4c5a5f0d11",
   "metadata": {},
   "source": [
    "wego_time_buckets['TIME_BUCKET'] = np.where(wego_time_buckets['SCHEDULED_TIME']<'8:00:00','EM',\n",
    "                                np.where(wego_time_buckets['SCHEDULED_TIME']<'11:00:00',\"MP\",\n",
    "                                np.where(wego_time_buckets['SCHEDULED_TIME']<'14:00:00', \"MD\",\n",
    "                                np.where(wego_time_buckets['SCHEDULED_TIME']<'17:00:00', \"AP\",\n",
    "                                np.where(wego_time_buckets['SCHEDULED_TIME']<'20:00:00', \"EP\",\n",
    "                                np.where(wego_time_buckets['SCHEDULED_TIME']<'23:59:59', \"LN\", \"NOTHING\"))))))"
   ]
  },
  {
   "cell_type": "code",
   "execution_count": 280,
   "id": "2129259a-83f4-457d-93bd-b2e6965aeee3",
   "metadata": {},
   "outputs": [
    {
     "name": "stdout",
     "output_type": "stream",
     "text": [
      "0         EM\n",
      "1         EM\n",
      "2         EM\n",
      "3         EM\n",
      "4         EM\n",
      "          ..\n",
      "618993    EM\n",
      "618994    EM\n",
      "618995    EM\n",
      "618996    EM\n",
      "618997    EM\n",
      "Name: TIME_BUCKET, Length: 618998, dtype: object\n"
     ]
    }
   ],
   "source": []
  },
  {
   "cell_type": "code",
   "execution_count": 296,
   "id": "c5d478a0-15bf-47b0-ab50-1b81ef7cfa26",
   "metadata": {},
   "outputs": [],
   "source": []
  },
  {
   "cell_type": "code",
   "execution_count": 292,
   "id": "73a2df2b-5ca2-40aa-9cc8-33a152c4b14c",
   "metadata": {},
   "outputs": [
    {
     "name": "stdout",
     "output_type": "stream",
     "text": [
      "       SCHEDULED_TIME TIME_OF_DAY_CATEGORY\n",
      "0            05:34:00                   EM\n",
      "1            05:40:00                   EM\n",
      "2            05:47:00                   EM\n",
      "3            05:50:00                   EM\n",
      "4            05:54:00                   EM\n",
      "...               ...                  ...\n",
      "618993       07:40:00                   EM\n",
      "618994       15:05:00                   AP\n",
      "618995       15:18:00                   AP\n",
      "618996       15:20:00                   AP\n",
      "618997       15:37:00                   AP\n",
      "\n",
      "[618998 rows x 2 columns]\n"
     ]
    }
   ],
   "source": [
    "print(wego_time_buckets[['SCHEDULED_TIME','TIME_OF_DAY_CATEGORY']])"
   ]
  },
  {
   "cell_type": "code",
   "execution_count": null,
   "id": "3a9364ec-b752-46db-a217-733b3c18da27",
   "metadata": {},
   "outputs": [],
   "source": []
  }
 ],
 "metadata": {
  "kernelspec": {
   "display_name": "Python [conda env:base] *",
   "language": "python",
   "name": "conda-base-py"
  },
  "language_info": {
   "codemirror_mode": {
    "name": "ipython",
    "version": 3
   },
   "file_extension": ".py",
   "mimetype": "text/x-python",
   "name": "python",
   "nbconvert_exporter": "python",
   "pygments_lexer": "ipython3",
   "version": "3.12.7"
  }
 },
 "nbformat": 4,
 "nbformat_minor": 5
}
