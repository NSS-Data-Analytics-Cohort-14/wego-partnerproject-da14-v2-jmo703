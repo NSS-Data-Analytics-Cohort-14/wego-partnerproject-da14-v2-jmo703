{
 "cells": [
  {
   "cell_type": "raw",
   "id": "58766662-48e5-45f0-9c74-1faf8e686a80",
   "metadata": {},
   "source": [
    "0 = Monday\n",
    "1 = Tuesday\n",
    "2 = Wednesday\n",
    "3 = Thursday\n",
    "4 = Friday\n",
    "5 = Saturday\n",
    "6 = Sunday"
   ]
  },
  {
   "cell_type": "raw",
   "id": "fc2703e0-31c6-4489-b6c0-7543c7ee78a1",
   "metadata": {},
   "source": [
    "INDEX:\n",
    "adherance_early\n",
    "adherance_late\n",
    "wego_sunday\n",
    "wego_monday\n",
    "wego_tuesday\n",
    "wego_wednesday\n",
    "wego_thursday\n",
    "wego_friday\n",
    "wego_saturday\n",
    "wego_sunday\n",
    "wego_weekday\n",
    "wego_weekend\n",
    "wego_day_of_week"
   ]
  },
  {
   "cell_type": "code",
   "execution_count": 5,
   "id": "9d5fc88b-439a-46f4-84e3-e93802b5324c",
   "metadata": {},
   "outputs": [],
   "source": [
    "import pandas as pd\n",
    "import calendar\n",
    "from datetime import date"
   ]
  },
  {
   "cell_type": "code",
   "execution_count": 7,
   "id": "4adb4e0d-1cd4-4ef9-b365-803e799f3c84",
   "metadata": {},
   "outputs": [],
   "source": [
    "wego = pd.read_csv(\"../data/Route 50 Timepoint and Headway Data, 1-1-2023 through 5-12-2025.csv\")"
   ]
  },
  {
   "cell_type": "code",
   "execution_count": 63,
   "id": "4c58d0ac-8308-4d00-8c74-255f40b52125",
   "metadata": {},
   "outputs": [
    {
     "name": "stdout",
     "output_type": "stream",
     "text": [
      "Index(['CALENDAR_ID', 'SERVICE_ABBR', 'ADHERENCE_ID', 'DATE', 'ROUTE_ABBR',\n",
      "       'BLOCK_ABBR', 'OPERATOR', 'TRIP_ID', 'OVERLOAD_ID',\n",
      "       'ROUTE_DIRECTION_NAME', 'TIME_POINT_ABBR', 'ROUTE_STOP_SEQUENCE',\n",
      "       'TRIP_EDGE', 'LATITUDE', 'LONGITUDE', 'SCHEDULED_TIME',\n",
      "       'ACTUAL_ARRIVAL_TIME', 'ACTUAL_DEPARTURE_TIME', 'ADHERENCE',\n",
      "       'SCHEDULED_HDWY', 'ACTUAL_HDWY', 'HDWY_DEV', 'ADJUSTED_EARLY_COUNT',\n",
      "       'ADJUSTED_LATE_COUNT', 'ADJUSTED_ONTIME_COUNT', 'STOP_CANCELLED',\n",
      "       'PREV_SCHED_STOP_CANCELLED', 'IS_RELIEF', 'BLOCK_STOP_ORDER',\n",
      "       'DWELL_IN_MINS', 'DAY_NUM'],\n",
      "      dtype='object')\n"
     ]
    }
   ],
   "source": [
    "print(wego_day_of_week.columns)"
   ]
  },
  {
   "cell_type": "code",
   "execution_count": 11,
   "id": "625729ac-b53f-40e6-9f9a-92bcef444e73",
   "metadata": {},
   "outputs": [],
   "source": [
    "wego_day_of_week = wego.copy()"
   ]
  },
  {
   "cell_type": "code",
   "execution_count": 13,
   "id": "d54a3d59-ed47-4751-967f-c9e102103f8f",
   "metadata": {},
   "outputs": [],
   "source": [
    "wego_day_of_week['DATE']= pd.to_datetime(wego_day_of_week['DATE'])"
   ]
  },
  {
   "cell_type": "code",
   "execution_count": 15,
   "id": "19d138e8-6454-4243-9525-ff5655f7371f",
   "metadata": {},
   "outputs": [],
   "source": [
    "wego_day_of_week['DAY_NUM'] = wego_day_of_week['DATE'].dt.weekday"
   ]
  },
  {
   "cell_type": "code",
   "execution_count": 17,
   "id": "c44397dd-e8fe-465c-94b1-fd96a6c54cd3",
   "metadata": {},
   "outputs": [],
   "source": [
    "wego_sunday = wego_day_of_week[wego_day_of_week['DAY_NUM']==6]"
   ]
  },
  {
   "cell_type": "code",
   "execution_count": 19,
   "id": "1eac2ea3-4609-4643-a812-d1b16c2cb5ed",
   "metadata": {},
   "outputs": [],
   "source": [
    "wego_monday = wego_day_of_week[wego_day_of_week['DAY_NUM']==0]"
   ]
  },
  {
   "cell_type": "code",
   "execution_count": 21,
   "id": "ddf77af7-ef0c-4ae0-b9ea-c135d7754d9d",
   "metadata": {},
   "outputs": [],
   "source": [
    "wego_tuesday = wego_day_of_week[wego_day_of_week['DAY_NUM']==1]"
   ]
  },
  {
   "cell_type": "code",
   "execution_count": 23,
   "id": "20c8c186-5dc6-4cee-a390-bf9f65aa343b",
   "metadata": {},
   "outputs": [],
   "source": [
    "wego_wednesday =  wego_day_of_week[wego_day_of_week['DAY_NUM']==2]"
   ]
  },
  {
   "cell_type": "code",
   "execution_count": 25,
   "id": "aade4cac-bbcf-4aa5-bfe6-1f7fc37589c3",
   "metadata": {},
   "outputs": [],
   "source": [
    "wego_thursday =  wego_day_of_week[wego_day_of_week['DAY_NUM']==3]"
   ]
  },
  {
   "cell_type": "code",
   "execution_count": 27,
   "id": "6eea835b-f81c-4113-8eaf-7bdf4c5dad47",
   "metadata": {},
   "outputs": [],
   "source": [
    "wego_friday = wego_day_of_week[wego_day_of_week['DAY_NUM']==4]"
   ]
  },
  {
   "cell_type": "code",
   "execution_count": 29,
   "id": "dc403dc9-7e6d-4908-974d-ecc5ebbed85f",
   "metadata": {},
   "outputs": [],
   "source": [
    "wego_saturday = wego_day_of_week[wego_day_of_week['DAY_NUM']==5]"
   ]
  },
  {
   "cell_type": "code",
   "execution_count": 31,
   "id": "c8e50f13-ecff-403b-8bf8-dfa9ef10cea5",
   "metadata": {},
   "outputs": [],
   "source": [
    "wego_weekdays = wego_day_of_week[wego_day_of_week['DAY_NUM'] < 6]"
   ]
  },
  {
   "cell_type": "code",
   "execution_count": 33,
   "id": "05632398-74b7-44ed-8b34-6787475002e0",
   "metadata": {},
   "outputs": [],
   "source": [
    "wego_weekends = wego_day_of_week[wego_day_of_week['DAY_NUM'] > 5]"
   ]
  },
  {
   "cell_type": "code",
   "execution_count": 35,
   "id": "da91732a-ebdb-42ea-b61a-a42948d2abd7",
   "metadata": {},
   "outputs": [
    {
     "name": "stdout",
     "output_type": "stream",
     "text": [
      "(554914, 31)\n",
      "(64084, 31)\n"
     ]
    }
   ],
   "source": [
    "print(wego_weekdays.shape)\n",
    "print(wego_weekends.shape)"
   ]
  },
  {
   "cell_type": "code",
   "execution_count": 37,
   "id": "2b7b2010-ad9c-4e55-8f60-fc3ca4d295d6",
   "metadata": {},
   "outputs": [
    {
     "name": "stdout",
     "output_type": "stream",
     "text": [
      "Index(['CALENDAR_ID', 'SERVICE_ABBR', 'ADHERENCE_ID', 'DATE', 'ROUTE_ABBR',\n",
      "       'BLOCK_ABBR', 'OPERATOR', 'TRIP_ID', 'OVERLOAD_ID',\n",
      "       'ROUTE_DIRECTION_NAME', 'TIME_POINT_ABBR', 'ROUTE_STOP_SEQUENCE',\n",
      "       'TRIP_EDGE', 'LATITUDE', 'LONGITUDE', 'SCHEDULED_TIME',\n",
      "       'ACTUAL_ARRIVAL_TIME', 'ACTUAL_DEPARTURE_TIME', 'ADHERENCE',\n",
      "       'SCHEDULED_HDWY', 'ACTUAL_HDWY', 'HDWY_DEV', 'ADJUSTED_EARLY_COUNT',\n",
      "       'ADJUSTED_LATE_COUNT', 'ADJUSTED_ONTIME_COUNT', 'STOP_CANCELLED',\n",
      "       'PREV_SCHED_STOP_CANCELLED', 'IS_RELIEF', 'BLOCK_STOP_ORDER',\n",
      "       'DWELL_IN_MINS', 'DAY_NUM'],\n",
      "      dtype='object')\n"
     ]
    }
   ],
   "source": [
    "print(wego_day_of_week.columns)"
   ]
  },
  {
   "cell_type": "code",
   "execution_count": 39,
   "id": "a5f22188-fb28-4dc8-8933-0f513b77f08b",
   "metadata": {},
   "outputs": [],
   "source": [
    "wego_copy = wego_day_of_week.copy()"
   ]
  },
  {
   "cell_type": "code",
   "execution_count": 41,
   "id": "39f38264-54fd-42de-b054-4d350f7d86fb",
   "metadata": {},
   "outputs": [],
   "source": [
    "wego_adherence = wego_copy[['ADHERENCE']]"
   ]
  },
  {
   "cell_type": "code",
   "execution_count": 43,
   "id": "d10b299b-7093-459f-ace0-20812871c93f",
   "metadata": {},
   "outputs": [],
   "source": [
    "adherence_late = wego_adherence[wego_adherence['ADHERENCE']< -6]"
   ]
  },
  {
   "cell_type": "code",
   "execution_count": 61,
   "id": "8b22b95e-24e6-40ba-a2c3-9c5a95eed106",
   "metadata": {},
   "outputs": [],
   "source": [
    "adherence_early = wego_adherence[wego_adherence['ADHERENCE']> 1]"
   ]
  },
  {
   "cell_type": "code",
   "execution_count": 47,
   "id": "d9d9bef1-ca00-40b9-a23f-5ebeefde4e36",
   "metadata": {},
   "outputs": [],
   "source": [
    "wego_drivers = wego_copy[['OPERATOR']]"
   ]
  },
  {
   "cell_type": "code",
   "execution_count": 49,
   "id": "9821e410-438c-4e69-a294-a37090b1b205",
   "metadata": {},
   "outputs": [
    {
     "name": "stdout",
     "output_type": "stream",
     "text": [
      "        OPERATOR\n",
      "0           2355\n",
      "1           2355\n",
      "2           2355\n",
      "3           2355\n",
      "4           2355\n",
      "...          ...\n",
      "618993      3077\n",
      "618994      3246\n",
      "618995      3246\n",
      "618996      2448\n",
      "618997      2448\n",
      "\n",
      "[618998 rows x 1 columns]\n"
     ]
    }
   ],
   "source": [
    "print(wego_drivers)"
   ]
  },
  {
   "cell_type": "code",
   "execution_count": 51,
   "id": "8fbc732c-a275-44da-a2b6-33b4d8f3ae52",
   "metadata": {},
   "outputs": [],
   "source": [
    "wego_drivers_count = wego_drivers.groupby('OPERATOR').count()"
   ]
  },
  {
   "cell_type": "code",
   "execution_count": 53,
   "id": "512823f6-b6a2-494e-b744-97c88982ee54",
   "metadata": {},
   "outputs": [
    {
     "name": "stdout",
     "output_type": "stream",
     "text": [
      "Empty DataFrame\n",
      "Columns: []\n",
      "Index: [0, 201, 250, 304, 327, 329, 332, 357, 359, 375, 379, 414, 436, 446, 465, 471, 472, 473, 520, 522, 558, 572, 611, 624, 645, 653, 659, 664, 754, 778, 785, 907, 1016, 1020, 1046, 1052, 1133, 1147, 1175, 1190, 1198, 1204, 1208, 1226, 1228, 1237, 1251, 1256, 1266, 1268, 1277, 1279, 1352, 1359, 1361, 1372, 1379, 1382, 1383, 1389, 1390, 1391, 1394, 1398, 1406, 1410, 1419, 1457, 1489, 1505, 1524, 1566, 1567, 1582, 1584, 1587, 1593, 1596, 1597, 1598, 1601, 1603, 1617, 1619, 1623, 1673, 1682, 1702, 1703, 1705, 1713, 1716, 1717, 1730, 1736, 1742, 1743, 1761, 1763, 1764, ...]\n",
      "\n",
      "[473 rows x 0 columns]\n"
     ]
    }
   ],
   "source": [
    "print(wego_drivers_count)"
   ]
  },
  {
   "cell_type": "code",
   "execution_count": 65,
   "id": "a5aaa11a-800a-4384-b205-674633f66bc4",
   "metadata": {},
   "outputs": [],
   "source": [
    "tsp_one_chunk = wego_day_of_week[wego_day_of_week['DATE'].between('2025/2/4','2025/2/9')]"
   ]
  },
  {
   "cell_type": "code",
   "execution_count": 67,
   "id": "179c61b0-536e-4924-be7a-9b7bb99b0af4",
   "metadata": {},
   "outputs": [],
   "source": [
    "tsp_one_first_day=wego_day_of_week[wego_day_of_week['DATE']=='2025/2/3']"
   ]
  },
  {
   "cell_type": "code",
   "execution_count": 71,
   "id": "22dd6867-62f0-49fa-a215-e297fa400305",
   "metadata": {},
   "outputs": [],
   "source": [
    "tsp_one_time = tsp_one_first_day[tsp_one_first_day['ACTUAL_ARRIVAL_TIME']>'12:00:00']"
   ]
  },
  {
   "cell_type": "code",
   "execution_count": 79,
   "id": "b9359110-4087-4eec-8e53-098540efe712",
   "metadata": {},
   "outputs": [],
   "source": [
    "tsp_one_last_day=wego_day_of_week[wego_day_of_week['DATE']=='2025/2/10']"
   ]
  },
  {
   "cell_type": "code",
   "execution_count": 83,
   "id": "591ebaf3-3dbd-4561-98ba-886b570f5991",
   "metadata": {},
   "outputs": [],
   "source": [
    "tsp_last_time = tsp_one_last_day[tsp_one_last_day['ACTUAL_ARRIVAL_TIME']<'12:00:00']"
   ]
  },
  {
   "cell_type": "code",
   "execution_count": 87,
   "id": "ac1c0238-2ccb-46af-846c-2c6dca3eefdb",
   "metadata": {},
   "outputs": [],
   "source": [
    "tsp_one_complete = pd.concat([tsp_one_first_day, tsp_one_chunk,tsp_one_last_day])"
   ]
  },
  {
   "cell_type": "code",
   "execution_count": 89,
   "id": "d04afdde-03b1-4893-a380-506eb06b2603",
   "metadata": {},
   "outputs": [
    {
     "name": "stdout",
     "output_type": "stream",
     "text": [
      "        CALENDAR_ID  SERVICE_ABBR  ADHERENCE_ID       DATE  ROUTE_ABBR  \\\n",
      "546973    120250203             1     117339007 2025-02-03          50   \n",
      "546974    120250203             1     117339008 2025-02-03          50   \n",
      "546975    120250203             1     117339821 2025-02-03          50   \n",
      "546976    120250203             1     117339822 2025-02-03          50   \n",
      "546977    120250203             1     117339823 2025-02-03          50   \n",
      "...             ...           ...           ...        ...         ...   \n",
      "552906    120250210             1     117588646 2025-02-10          50   \n",
      "552907    120250210             1     117589227 2025-02-10          50   \n",
      "552908    120250210             1     117589228 2025-02-10          50   \n",
      "552909    120250210             1     117589359 2025-02-10          50   \n",
      "552910    120250210             1     117589360 2025-02-10          50   \n",
      "\n",
      "        BLOCK_ABBR  OPERATOR  TRIP_ID  OVERLOAD_ID ROUTE_DIRECTION_NAME  ...  \\\n",
      "546973         318      3443   417223            0          TO DOWNTOWN  ...   \n",
      "546974         318      3443   417223            0          TO DOWNTOWN  ...   \n",
      "546975        5000       329   417725            0          TO DOWNTOWN  ...   \n",
      "546976        5000       329   417725            0          TO DOWNTOWN  ...   \n",
      "546977        5000       329   417725            0          TO DOWNTOWN  ...   \n",
      "...            ...       ...      ...          ...                  ...  ...   \n",
      "552906        8401      3077   420453            0        FROM DOWNTOWN  ...   \n",
      "552907        9302      3246   420590            0          TO DOWNTOWN  ...   \n",
      "552908        9302      3246   420590            0          TO DOWNTOWN  ...   \n",
      "552909        9950      2254   420621            0          TO DOWNTOWN  ...   \n",
      "552910        9950      2254   420621            0          TO DOWNTOWN  ...   \n",
      "\n",
      "         HDWY_DEV  ADJUSTED_EARLY_COUNT  ADJUSTED_LATE_COUNT  \\\n",
      "546973  13.333333                     0                    0   \n",
      "546974        NaN                     1                    0   \n",
      "546975        NaN                     1                    0   \n",
      "546976        NaN                     0                    0   \n",
      "546977        NaN                     0                    0   \n",
      "...           ...                   ...                  ...   \n",
      "552906        NaN                     1                    0   \n",
      "552907        NaN                     0                    0   \n",
      "552908        NaN                     1                    0   \n",
      "552909   1.150000                     0                    0   \n",
      "552910        NaN                     0                    0   \n",
      "\n",
      "        ADJUSTED_ONTIME_COUNT  STOP_CANCELLED PREV_SCHED_STOP_CANCELLED  \\\n",
      "546973                      1               0                       0.0   \n",
      "546974                      0               0                       NaN   \n",
      "546975                      0               0                       0.0   \n",
      "546976                      1               0                       0.0   \n",
      "546977                      1               0                       0.0   \n",
      "...                       ...             ...                       ...   \n",
      "552906                      0               0                       NaN   \n",
      "552907                      1               0                       0.0   \n",
      "552908                      0               0                       NaN   \n",
      "552909                      1               0                       0.0   \n",
      "552910                      1               0                       NaN   \n",
      "\n",
      "       IS_RELIEF BLOCK_STOP_ORDER  DWELL_IN_MINS  DAY_NUM  \n",
      "546973         0                2      35.766666        0  \n",
      "546974         0                3       0.000000        0  \n",
      "546975         0                2       7.550000        0  \n",
      "546976         0                5       0.000000        0  \n",
      "546977         0               11       0.000000        0  \n",
      "...          ...              ...            ...      ...  \n",
      "552906         0               23       5.916666        0  \n",
      "552907         0                2      56.550000        0  \n",
      "552908         0                3       2.200000        0  \n",
      "552909         0                2      24.883333        0  \n",
      "552910         0                3       0.000000        0  \n",
      "\n",
      "[5938 rows x 31 columns]\n"
     ]
    }
   ],
   "source": [
    "print(tsp_one_complete)"
   ]
  },
  {
   "cell_type": "code",
   "execution_count": null,
   "id": "d0af3345-7b2e-4fc0-a6a9-36f4043f8f4c",
   "metadata": {},
   "outputs": [],
   "source": []
  }
 ],
 "metadata": {
  "kernelspec": {
   "display_name": "Python [conda env:base] *",
   "language": "python",
   "name": "conda-base-py"
  },
  "language_info": {
   "codemirror_mode": {
    "name": "ipython",
    "version": 3
   },
   "file_extension": ".py",
   "mimetype": "text/x-python",
   "name": "python",
   "nbconvert_exporter": "python",
   "pygments_lexer": "ipython3",
   "version": "3.12.7"
  }
 },
 "nbformat": 4,
 "nbformat_minor": 5
}
