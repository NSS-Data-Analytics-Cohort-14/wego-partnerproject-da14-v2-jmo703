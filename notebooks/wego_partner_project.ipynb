{
 "cells": [
  {
   "cell_type": "raw",
   "id": "58766662-48e5-45f0-9c74-1faf8e686a80",
   "metadata": {},
   "source": [
    "0 = Monday\n",
    "1 = Tuesday\n",
    "2 = Wednesday\n",
    "3 = Thursday\n",
    "4 = Friday\n",
    "5 = Saturday\n",
    "6 = Sunday"
   ]
  },
  {
   "cell_type": "raw",
   "id": "fc2703e0-31c6-4489-b6c0-7543c7ee78a1",
   "metadata": {},
   "source": [
    "INDEX:\n",
    "combined_adherence (use this)\n",
    "* adherance_early\n",
    "* adherance_late\n",
    "---bottom_half_drivers (Drivers with less than 1308 stops on this route)\n",
    "---bottom_half_driver_ids (Operator IDs with less than 1308 stops in a list form)\n",
    "---top_half_drivers (Drivers with more than 1308 stops on this route)\n",
    "---top_half_driver_ids (Operator IDs with more than 1308 stops in a list form)\n",
    "* tscpb_complete (Block from Feb 10 noon to April 28 noon where TSP Schedule-Conditional Priority is ON)\n",
    "* tsp_off_complete (Block from April 28 noon to May 5 noon where TSP is OFF)\n",
    "* tsp_one_complete (Block from Feb 3 noon to Feb 10 noon where TSP UNCONDITIONAL is ON)\n",
    "* tsp_two_complete (Block from May 5 at noon to May 12 noon where TSP UNCONDITIONAL is ON)\n",
    "* tsphc_complete (Block from may 12 at noon till end where TSP Headway Conditional is ON)\n",
    "---wego_sunday\n",
    "---wego_monday\n",
    "---wego_tuesday\n",
    "---wego_wednesday\n",
    "---wego_thursday\n",
    "---wego_friday\n",
    "---wego_saturday\n",
    "---wego_sunday\n",
    "---wego_weekday\n",
    "---wego_weekend\n",
    "---wego_day_of_week\n",
    "* top_tscpb (top drivers from Feb 10 noon to April 28 noon where TSP Schedule-Conditional Priority is ON)\n",
    "* bottom_tscpb (bottom drivers from Feb 10 noon to April 28 noon where TSP Schedule-Conditional Priority is ON)\n",
    "* top_tsp_off (top drivers from April 28 noon to May 5 noon where TSP is OFF)\n",
    "* bottom_tsp_off (bottom drivers from April 28 noon to May 5 noon where TSP is OFF)\n",
    "* top_tsp_one (top drivers from Feb 3 noon to Feb 10 noon where TSP UNCONDITIONAL is ON)\n",
    "* bottom_tsp_one (bottom drivers from Feb 3 noon to Feb 10 noon where TSP UNCONDITIONAL is ON)\n",
    "* top_tsphc (top drivers from may 12 at noon till may 12 midnight where TSP Headway Conditional is ON)\n",
    "* bottom_tsphc (bottom drivers from may 12 at noon till may 12 midnight where TSP Headway Conditional is ON)"
   ]
  },
  {
   "cell_type": "raw",
   "id": "91677a19-72e1-4605-9f5d-e815ec12d399",
   "metadata": {},
   "source": [
    "wego_time_buckets['TIME_BUCKET'] = np.where(wego_time_buckets['SCHEDULED_TIME']<'8:00:00','EM',\n",
    "                                np.where(wego_time_buckets['SCHEDULED_TIME']<'11:00:00',\"MP\",\n",
    "                                np.where(wego_time_buckets['SCHEDULED_TIME']<'14:00:00', \"MD\",\n",
    "                                np.where(wego_time_buckets['SCHEDULED_TIME']<'17:00:00', \"AP\",\n",
    "                                np.where(wego_time_buckets['SCHEDULED_TIME']<'20:00:00', \"EP\",\n",
    "                                np.where(wego_time_buckets['SCHEDULED_TIME']<'23:59:59', \"LN\", \"NOTHING\"))))))"
   ]
  },
  {
   "cell_type": "code",
   "execution_count": 272,
   "id": "9d5fc88b-439a-46f4-84e3-e93802b5324c",
   "metadata": {},
   "outputs": [],
   "source": [
    "import pandas as pd\n",
    "import calendar\n",
    "import numpy as np\n",
    "from datetime import date"
   ]
  },
  {
   "cell_type": "code",
   "execution_count": 92,
   "id": "4adb4e0d-1cd4-4ef9-b365-803e799f3c84",
   "metadata": {},
   "outputs": [],
   "source": [
    "wego = pd.read_csv(\"../data/Route 50 Timepoint and Headway Data, 1-1-2023 through 5-12-2025.csv\")"
   ]
  },
  {
   "cell_type": "code",
   "execution_count": 440,
   "id": "4c58d0ac-8308-4d00-8c74-255f40b52125",
   "metadata": {},
   "outputs": [
    {
     "name": "stdout",
     "output_type": "stream",
     "text": [
      "Index(['CALENDAR_ID', 'SERVICE_ABBR', 'ADHERENCE_ID', 'DATE', 'ROUTE_ABBR',\n",
      "       'BLOCK_ABBR', 'OPERATOR', 'TRIP_ID', 'OVERLOAD_ID',\n",
      "       'ROUTE_DIRECTION_NAME', 'TIME_POINT_ABBR', 'ROUTE_STOP_SEQUENCE',\n",
      "       'TRIP_EDGE', 'LATITUDE', 'LONGITUDE', 'SCHEDULED_TIME',\n",
      "       'ACTUAL_ARRIVAL_TIME', 'ACTUAL_DEPARTURE_TIME', 'ADHERENCE',\n",
      "       'SCHEDULED_HDWY', 'ACTUAL_HDWY', 'HDWY_DEV', 'ADJUSTED_EARLY_COUNT',\n",
      "       'ADJUSTED_LATE_COUNT', 'ADJUSTED_ONTIME_COUNT', 'STOP_CANCELLED',\n",
      "       'PREV_SCHED_STOP_CANCELLED', 'IS_RELIEF', 'BLOCK_STOP_ORDER',\n",
      "       'DWELL_IN_MINS', 'DAY_NUM', 'TIME_OF_DAY_CATEGORY'],\n",
      "      dtype='object')\n"
     ]
    }
   ],
   "source": [
    "print(wego_day_of_week.columns)"
   ]
  },
  {
   "cell_type": "code",
   "execution_count": 582,
   "id": "2e9de115-e237-4b26-b296-3976b8962e14",
   "metadata": {},
   "outputs": [],
   "source": [
    "wego_day_of_week = wego.copy()"
   ]
  },
  {
   "cell_type": "code",
   "execution_count": 584,
   "id": "78cb997a-b6b4-4a2d-8531-7fcf2d848453",
   "metadata": {},
   "outputs": [],
   "source": [
    "wego_day_of_week['TIME_OF_DAY_CATEGORY']=pd.cut(wego_day_of_week['SCHEDULED_TIME'],bins=['05:00:00','08:00:00','11:00:00','14:00:00','17:00:00','20:00:00','24:00:00'],include_lowest=True,labels=['EM','MP','MD','AP','EP','LN'])"
   ]
  },
  {
   "cell_type": "code",
   "execution_count": 586,
   "id": "d54a3d59-ed47-4751-967f-c9e102103f8f",
   "metadata": {},
   "outputs": [],
   "source": [
    "wego_day_of_week['DATE']= pd.to_datetime(wego_day_of_week['DATE'])"
   ]
  },
  {
   "cell_type": "code",
   "execution_count": 588,
   "id": "19d138e8-6454-4243-9525-ff5655f7371f",
   "metadata": {},
   "outputs": [],
   "source": [
    "wego_day_of_week['DAY_NUM'] = wego_day_of_week['DATE'].dt.weekday"
   ]
  },
  {
   "cell_type": "code",
   "execution_count": 590,
   "id": "c44397dd-e8fe-465c-94b1-fd96a6c54cd3",
   "metadata": {},
   "outputs": [],
   "source": [
    "wego_sunday = wego_day_of_week[wego_day_of_week['DAY_NUM']==6]"
   ]
  },
  {
   "cell_type": "code",
   "execution_count": 592,
   "id": "1eac2ea3-4609-4643-a812-d1b16c2cb5ed",
   "metadata": {},
   "outputs": [],
   "source": [
    "wego_monday = wego_day_of_week[wego_day_of_week['DAY_NUM']==0]"
   ]
  },
  {
   "cell_type": "code",
   "execution_count": 594,
   "id": "ddf77af7-ef0c-4ae0-b9ea-c135d7754d9d",
   "metadata": {},
   "outputs": [],
   "source": [
    "wego_tuesday = wego_day_of_week[wego_day_of_week['DAY_NUM']==1]"
   ]
  },
  {
   "cell_type": "code",
   "execution_count": 596,
   "id": "20c8c186-5dc6-4cee-a390-bf9f65aa343b",
   "metadata": {},
   "outputs": [],
   "source": [
    "wego_wednesday =  wego_day_of_week[wego_day_of_week['DAY_NUM']==2]"
   ]
  },
  {
   "cell_type": "code",
   "execution_count": 598,
   "id": "aade4cac-bbcf-4aa5-bfe6-1f7fc37589c3",
   "metadata": {},
   "outputs": [],
   "source": [
    "wego_thursday =  wego_day_of_week[wego_day_of_week['DAY_NUM']==3]"
   ]
  },
  {
   "cell_type": "code",
   "execution_count": 600,
   "id": "6eea835b-f81c-4113-8eaf-7bdf4c5dad47",
   "metadata": {},
   "outputs": [],
   "source": [
    "wego_friday = wego_day_of_week[wego_day_of_week['DAY_NUM']==4]"
   ]
  },
  {
   "cell_type": "code",
   "execution_count": 602,
   "id": "dc403dc9-7e6d-4908-974d-ecc5ebbed85f",
   "metadata": {},
   "outputs": [],
   "source": [
    "wego_saturday = wego_day_of_week[wego_day_of_week['DAY_NUM']==5]"
   ]
  },
  {
   "cell_type": "code",
   "execution_count": 604,
   "id": "c8e50f13-ecff-403b-8bf8-dfa9ef10cea5",
   "metadata": {},
   "outputs": [],
   "source": [
    "wego_weekdays = wego_day_of_week[wego_day_of_week['DAY_NUM'] < 6]"
   ]
  },
  {
   "cell_type": "code",
   "execution_count": 606,
   "id": "05632398-74b7-44ed-8b34-6787475002e0",
   "metadata": {},
   "outputs": [],
   "source": [
    "wego_weekends = wego_day_of_week[wego_day_of_week['DAY_NUM'] > 5]"
   ]
  },
  {
   "cell_type": "code",
   "execution_count": 608,
   "id": "a5f22188-fb28-4dc8-8933-0f513b77f08b",
   "metadata": {},
   "outputs": [],
   "source": [
    "wego_copy = wego_day_of_week.copy()"
   ]
  },
  {
   "cell_type": "code",
   "execution_count": 610,
   "id": "39f38264-54fd-42de-b054-4d350f7d86fb",
   "metadata": {},
   "outputs": [],
   "source": [
    "wego_adherence = wego_copy[['ADHERENCE']]"
   ]
  },
  {
   "cell_type": "code",
   "execution_count": 612,
   "id": "d10b299b-7093-459f-ace0-20812871c93f",
   "metadata": {},
   "outputs": [],
   "source": [
    "adherence_late = wego_adherence[wego_adherence['ADHERENCE']< -6]"
   ]
  },
  {
   "cell_type": "code",
   "execution_count": 614,
   "id": "8b22b95e-24e6-40ba-a2c3-9c5a95eed106",
   "metadata": {},
   "outputs": [],
   "source": [
    "adherence_early = wego_adherence[wego_adherence['ADHERENCE']> 1]"
   ]
  },
  {
   "cell_type": "code",
   "execution_count": 616,
   "id": "a5aaa11a-800a-4384-b205-674633f66bc4",
   "metadata": {},
   "outputs": [],
   "source": [
    "tsp_one_chunk = wego_day_of_week[wego_day_of_week['DATE'].between('2025/2/4','2025/2/9')]\n",
    "tsp_one_first_day=wego_day_of_week[wego_day_of_week['DATE']=='2025/2/3']\n",
    "tsp_one_time = tsp_one_first_day[tsp_one_first_day['ACTUAL_ARRIVAL_TIME']>'12:00:00']\n",
    "tsp_one_last_day=wego_day_of_week[wego_day_of_week['DATE']=='2025/2/10']\n",
    "tsp_last_time = tsp_one_last_day[tsp_one_last_day['ACTUAL_ARRIVAL_TIME']<'12:00:00']\n",
    "tsp_one_complete = pd.concat([tsp_one_first_day, tsp_one_chunk,tsp_one_last_day])"
   ]
  },
  {
   "cell_type": "code",
   "execution_count": 618,
   "id": "d0af3345-7b2e-4fc0-a6a9-36f4043f8f4c",
   "metadata": {},
   "outputs": [],
   "source": [
    "tscpb_chunk = wego_day_of_week[wego_day_of_week['DATE'].between('2025/2/11','2025/4/27')]\n",
    "tscpb_first_day=wego_day_of_week[wego_day_of_week['DATE']=='2025/2/10']\n",
    "tscpb_first_time = tscpb_first_day[tscpb_first_day['ACTUAL_ARRIVAL_TIME']>'12:00:00']\n",
    "tscpb_last_day=wego_day_of_week[wego_day_of_week['DATE']=='2025/4/28']\n",
    "tscpb_last_time = tscpb_last_day[tscpb_last_day['ACTUAL_ARRIVAL_TIME']<'12:00:00']\n",
    "tscpb_complete = pd.concat([tscpb_first_time, tscpb_chunk, tscpb_last_time])"
   ]
  },
  {
   "cell_type": "code",
   "execution_count": 620,
   "id": "e18fcc7d-bbf5-475e-90ff-233881888162",
   "metadata": {},
   "outputs": [],
   "source": [
    "tsp_off_chunk = wego_day_of_week[wego_day_of_week['DATE'].between('2025/4/29','2025/5/4')]\n",
    "tsp_off_first_day = wego_day_of_week[wego_day_of_week['DATE']=='2025/4/28']\n",
    "tsp_off_first_time = tsp_off_first_day[tsp_off_first_day['ACTUAL_ARRIVAL_TIME']>'12:00:00']\n",
    "tsp_off_last_day = wego_day_of_week[wego_day_of_week['DATE']=='2025/5/5']\n",
    "tsp_off_last_time = tsp_off_last_day[tsp_off_last_day['ACTUAL_ARRIVAL_TIME']<'12:00:00']\n",
    "tsp_off_complete = pd.concat([tsp_off_first_time,tsp_off_chunk,tsp_off_last_time])"
   ]
  },
  {
   "cell_type": "code",
   "execution_count": 622,
   "id": "c10a7e05-58ea-4a64-b971-5a72f3abbf39",
   "metadata": {},
   "outputs": [],
   "source": [
    "tsp_two_chunk = wego_day_of_week[wego_day_of_week['DATE'].between('2025/5/6','2025/5/11')]\n",
    "tsp_two_first_day = wego_day_of_week[wego_day_of_week['DATE']=='2025/5/5']\n",
    "tsp_two_first_time = tsp_two_first_day[tsp_two_first_day['ACTUAL_ARRIVAL_TIME']>'12:00:00']\n",
    "tsp_two_last_day = wego_day_of_week[wego_day_of_week['DATE']=='2025/5/12']\n",
    "tsp_two_last_time = tsp_two_last_day[tsp_two_last_day['ACTUAL_ARRIVAL_TIME']<'12:00:00']\n",
    "tsp_two_complete = pd.concat ([tsp_two_first_time, tsp_two_chunk, tsp_two_last_time])"
   ]
  },
  {
   "cell_type": "code",
   "execution_count": 624,
   "id": "e47a536d-fd3b-45af-90d3-081ccc4aca95",
   "metadata": {},
   "outputs": [],
   "source": [
    "tsphc_chunk = wego_day_of_week[wego_day_of_week['DATE']>('2025/5/12')]\n",
    "tsphc_first_day = wego_day_of_week[wego_day_of_week['DATE']=='2025/5/12']\n",
    "tsphc_first_time = tsphc_first_day[tsphc_first_day['ACTUAL_ARRIVAL_TIME']>'12:00:00']\n",
    "tsphc_complete = pd.concat ([tsphc_first_time, tsphc_chunk])"
   ]
  },
  {
   "cell_type": "code",
   "execution_count": 626,
   "id": "1b6a915a-aa90-41c5-b875-8051cdb92321",
   "metadata": {},
   "outputs": [],
   "source": [
    "wego_drivers = wego_copy[['OPERATOR','DATE']]"
   ]
  },
  {
   "cell_type": "code",
   "execution_count": 628,
   "id": "911130d4-4277-4318-926b-0b237d247196",
   "metadata": {},
   "outputs": [],
   "source": [
    "wego_drivers_count = wego_drivers['OPERATOR'].nunique()"
   ]
  },
  {
   "cell_type": "code",
   "execution_count": 630,
   "id": "2e6f4846-30d6-42ca-82b1-30a929e08c14",
   "metadata": {},
   "outputs": [],
   "source": [
    "driver_stop_count = wego_drivers.groupby(('OPERATOR'), as_index=False).count()"
   ]
  },
  {
   "cell_type": "code",
   "execution_count": 632,
   "id": "85e89d87-f39f-48ba-8940-b3d100bdc0f9",
   "metadata": {},
   "outputs": [
    {
     "data": {
      "text/plain": [
       "1308.6638477801268"
      ]
     },
     "execution_count": 632,
     "metadata": {},
     "output_type": "execute_result"
    }
   ],
   "source": [
    "driver_stop_count['DATE'].mean()"
   ]
  },
  {
   "cell_type": "code",
   "execution_count": 634,
   "id": "e9de8c59-651a-4c13-b891-67bb6e3cab23",
   "metadata": {},
   "outputs": [],
   "source": [
    "top_half_drivers = driver_stop_count[driver_stop_count['DATE']>1308]"
   ]
  },
  {
   "cell_type": "code",
   "execution_count": 636,
   "id": "9f63d868-3750-478a-b9a4-445d549ecbde",
   "metadata": {},
   "outputs": [],
   "source": [
    "bottom_half_drivers = driver_stop_count[driver_stop_count['DATE']<1308]"
   ]
  },
  {
   "cell_type": "code",
   "execution_count": 638,
   "id": "ca548d28-02e3-4f2a-8792-f30fd71dd78b",
   "metadata": {},
   "outputs": [],
   "source": [
    "top_half_driver_ids = top_half_drivers['OPERATOR'].tolist()"
   ]
  },
  {
   "cell_type": "code",
   "execution_count": 640,
   "id": "dede9522-650f-4687-8dcd-307b4ce2960f",
   "metadata": {},
   "outputs": [],
   "source": [
    "bottom_half_driver_ids = bottom_half_drivers['OPERATOR'].tolist()"
   ]
  },
  {
   "cell_type": "code",
   "execution_count": 642,
   "id": "eac5cd5f-9d56-4f1f-933c-f8e5a1cfa813",
   "metadata": {},
   "outputs": [],
   "source": [
    "top_tscpb = tscpb_complete[tscpb_complete['OPERATOR'].isin(top_half_driver_ids)]"
   ]
  },
  {
   "cell_type": "code",
   "execution_count": 644,
   "id": "5d8a79e5-a61c-4701-a9cf-8130689af7f4",
   "metadata": {},
   "outputs": [],
   "source": [
    "bottom_tscpb = tscpb_complete[tscpb_complete['OPERATOR'].isin(bottom_half_driver_ids)]"
   ]
  },
  {
   "cell_type": "code",
   "execution_count": 646,
   "id": "969ad7e1-8be7-4719-849d-b5b2e61a32bd",
   "metadata": {},
   "outputs": [],
   "source": [
    "top_tsp_off = tsp_off_complete[tsp_off_complete['OPERATOR'].isin(top_half_driver_ids)]"
   ]
  },
  {
   "cell_type": "code",
   "execution_count": 648,
   "id": "6f6230ed-26fb-44f8-a43b-1ee47e16e307",
   "metadata": {},
   "outputs": [],
   "source": [
    "bottom_tsp_off = tsp_off_complete[tsp_off_complete['OPERATOR'].isin(bottom_half_driver_ids)]"
   ]
  },
  {
   "cell_type": "code",
   "execution_count": 650,
   "id": "8fa332fe-767e-4c71-8d43-2b1ed62867e8",
   "metadata": {},
   "outputs": [],
   "source": [
    "top_tsp_one = tsp_one_complete[tsp_one_complete['OPERATOR'].isin(top_half_driver_ids)]"
   ]
  },
  {
   "cell_type": "code",
   "execution_count": 652,
   "id": "f797d5eb-76ad-4b5a-ab87-df569df8ecae",
   "metadata": {},
   "outputs": [],
   "source": [
    "bottom_tsp_one = tsp_one_complete[tsp_one_complete['OPERATOR'].isin(bottom_half_driver_ids)]"
   ]
  },
  {
   "cell_type": "code",
   "execution_count": 654,
   "id": "54ac08e3-687f-4ccf-b632-a46fe09acfa0",
   "metadata": {},
   "outputs": [],
   "source": [
    "top_tsp_two = tsp_two_complete[tsp_two_complete['OPERATOR'].isin(top_half_driver_ids)]"
   ]
  },
  {
   "cell_type": "code",
   "execution_count": 656,
   "id": "ffbba3e9-f6c6-4810-8381-17f7f08b7393",
   "metadata": {},
   "outputs": [],
   "source": [
    "bottom_tsp_two = tsp_two_complete[tsp_two_complete['OPERATOR'].isin(bottom_half_driver_ids)]"
   ]
  },
  {
   "cell_type": "code",
   "execution_count": 658,
   "id": "6c122ed9-e85d-4900-a076-0c4c4916171a",
   "metadata": {},
   "outputs": [],
   "source": [
    "top_tsphc = tsphc_complete[tsphc_complete['OPERATOR'].isin(top_half_driver_ids)]"
   ]
  },
  {
   "cell_type": "code",
   "execution_count": 660,
   "id": "b64130ad-652d-45d7-b26f-1ff34a8721eb",
   "metadata": {},
   "outputs": [],
   "source": [
    "bottom_tsphc = tsphc_complete[tsphc_complete['OPERATOR'].isin(bottom_half_driver_ids)]"
   ]
  },
  {
   "cell_type": "code",
   "execution_count": 662,
   "id": "29dc1b59-b6c1-4336-aed7-4f4afaf951d1",
   "metadata": {},
   "outputs": [],
   "source": [
    "top_tsp_off_adherence = top_tsp_off['ADHERENCE'].mean()\n",
    "bottom_tsp_off_adherence = bottom_tsp_off['ADHERENCE'].mean()"
   ]
  },
  {
   "cell_type": "code",
   "execution_count": 664,
   "id": "e5c26d02-2190-40ec-8d55-a280e4f10ea1",
   "metadata": {},
   "outputs": [],
   "source": [
    "top_tscpb_adherence = top_tscpb['ADHERENCE'].mean()\n",
    "bottom_tscpb_adherence = bottom_tscpb['ADHERENCE'].mean()"
   ]
  },
  {
   "cell_type": "code",
   "execution_count": 666,
   "id": "985a7508-0d0a-416f-b018-ab72f1f621d7",
   "metadata": {},
   "outputs": [],
   "source": [
    "top_tsp_one_adherence = top_tsp_one['ADHERENCE'].mean()\n",
    "bottom_tsp_one_adherence = bottom_tsp_one['ADHERENCE'].mean()"
   ]
  },
  {
   "cell_type": "code",
   "execution_count": 668,
   "id": "da49b7ff-6874-4360-b443-ffd0fd198a76",
   "metadata": {},
   "outputs": [],
   "source": [
    "top_tsp_two_adherence = top_tsp_two['ADHERENCE'].mean()\n",
    "bottom_tsp_two_adherence = bottom_tsp_two['ADHERENCE'].mean()"
   ]
  },
  {
   "cell_type": "code",
   "execution_count": 670,
   "id": "1876a520-efde-4244-a077-28ecc0937738",
   "metadata": {},
   "outputs": [],
   "source": [
    "top_tsphc_adherence = top_tsphc['ADHERENCE'].mean()\n",
    "bottom_tsphc_adherence = bottom_tsphc['ADHERENCE'].mean()"
   ]
  },
  {
   "cell_type": "code",
   "execution_count": 672,
   "id": "350d3c3b-76a5-4a51-8710-a52c412d9252",
   "metadata": {},
   "outputs": [
    {
     "name": "stdout",
     "output_type": "stream",
     "text": [
      "-3.0702952777053456 top off\n",
      "-2.786275114864865 bottom off\n",
      "-2.310513916857453 top priority on\n",
      "-2.7542101559927206 bottom priority on\n",
      "-0.29683244638009043 top on trial 1\n",
      "-0.029601131291028312 bottom on trial 1\n",
      "-2.8927406566683196 top on trial 2\n",
      "-2.6181075827067675 bottom on trial 2\n",
      "-1.7922762256097562 top on final\n",
      "-1.9576921025641025 bottom on final\n"
     ]
    }
   ],
   "source": [
    "print(top_tsp_off_adherence, 'top off')\n",
    "print(bottom_tsp_off_adherence, 'bottom off')\n",
    "print(top_tscpb_adherence, 'top priority on')\n",
    "print(bottom_tscpb_adherence, 'bottom priority on')\n",
    "print(top_tsp_one_adherence, 'top on trial 1')\n",
    "print(bottom_tsp_one_adherence, 'bottom on trial 1')\n",
    "print(top_tsp_two_adherence, 'top on trial 2')\n",
    "print(bottom_tsp_two_adherence, 'bottom on trial 2')\n",
    "print(top_tsphc_adherence, 'top on final')\n",
    "print(bottom_tsphc_adherence, 'bottom on final')"
   ]
  },
  {
   "cell_type": "code",
   "execution_count": 674,
   "id": "e14c2f38-db54-4a1a-b06c-b18329f71f57",
   "metadata": {},
   "outputs": [],
   "source": [
    "wego_monday_adherence = wego_monday['ADHERENCE'].mean()"
   ]
  },
  {
   "cell_type": "code",
   "execution_count": 676,
   "id": "8124c87f-0812-4062-bb85-6bb145222d1f",
   "metadata": {},
   "outputs": [],
   "source": [
    "wego_tuesday_adherence = wego_tuesday['ADHERENCE'].mean()"
   ]
  },
  {
   "cell_type": "code",
   "execution_count": 678,
   "id": "d35c080e-0611-4cf7-adeb-2374d74d5dec",
   "metadata": {},
   "outputs": [],
   "source": [
    "wego_wednesday_adherence = wego_wednesday['ADHERENCE'].mean()"
   ]
  },
  {
   "cell_type": "code",
   "execution_count": 680,
   "id": "9aec4ca7-561c-48c9-9ed3-00aec0144229",
   "metadata": {},
   "outputs": [],
   "source": [
    "wego_thursday_adherence = wego_thursday['ADHERENCE'].mean()"
   ]
  },
  {
   "cell_type": "code",
   "execution_count": 682,
   "id": "b2d84274-9eb9-4078-8fee-0bfb4b76ecc2",
   "metadata": {},
   "outputs": [],
   "source": [
    "wego_friday_adherence = wego_friday['ADHERENCE'].mean()"
   ]
  },
  {
   "cell_type": "code",
   "execution_count": 684,
   "id": "172f8840-8737-47fa-b747-38c68779bd91",
   "metadata": {},
   "outputs": [],
   "source": [
    "wego_saturday_adherence = wego_saturday['ADHERENCE'].mean()"
   ]
  },
  {
   "cell_type": "code",
   "execution_count": 686,
   "id": "26fa4650-fbc5-48e3-b5b9-01d26d6970ab",
   "metadata": {},
   "outputs": [],
   "source": [
    "wego_sunday_adherence = wego_sunday['ADHERENCE'].mean()"
   ]
  },
  {
   "cell_type": "code",
   "execution_count": 688,
   "id": "d9726a39-2124-4c14-8ea5-e92a17a4aea0",
   "metadata": {},
   "outputs": [
    {
     "name": "stdout",
     "output_type": "stream",
     "text": [
      "-2.330962455072432\n",
      "-2.6637147088153594\n",
      "-2.666189200916592\n",
      "-2.5750338246646076\n",
      "-2.661883506055409\n",
      "-2.7124328242771685\n",
      "-1.5915072928118903\n"
     ]
    }
   ],
   "source": [
    "print(wego_monday_adherence)\n",
    "print(wego_tuesday_adherence)\n",
    "print(wego_wednesday_adherence)\n",
    "print(wego_thursday_adherence)\n",
    "print(wego_friday_adherence)\n",
    "print(wego_saturday_adherence)\n",
    "print(wego_sunday_adherence)"
   ]
  },
  {
   "cell_type": "code",
   "execution_count": 690,
   "id": "9a45ad61-0084-4e90-bc43-da2554bfa81e",
   "metadata": {},
   "outputs": [],
   "source": [
    "tscpb_headway_mean = tscpb_complete['HDWY_DEV'].mean()"
   ]
  },
  {
   "cell_type": "code",
   "execution_count": 692,
   "id": "1c4dd71b-3c2f-4ff0-aa36-bcaded01caab",
   "metadata": {},
   "outputs": [],
   "source": [
    "tscpb_scheduled_headway_mean = tscpb_complete['SCHEDULED_HDWY'].mean()"
   ]
  },
  {
   "cell_type": "code",
   "execution_count": 694,
   "id": "bd71166b-b8be-4df5-b4f7-9e1448eb7324",
   "metadata": {},
   "outputs": [],
   "source": [
    "tscpb_headway_deviation_percentage = (tscpb_headway_mean/tscpb_scheduled_headway_mean) * 100"
   ]
  },
  {
   "cell_type": "code",
   "execution_count": 696,
   "id": "f44385bd-0fda-4bee-867a-584d49d0a173",
   "metadata": {},
   "outputs": [
    {
     "name": "stdout",
     "output_type": "stream",
     "text": [
      "4.828999946623068\n"
     ]
    }
   ],
   "source": [
    "print(tscpb_headway_deviation_percentage)"
   ]
  },
  {
   "cell_type": "code",
   "execution_count": 698,
   "id": "17bb6799-6669-4441-9b1f-0a72b69d8d37",
   "metadata": {},
   "outputs": [],
   "source": [
    "tsp_one_headway_mean = tsp_one_complete['HDWY_DEV'].mean()"
   ]
  },
  {
   "cell_type": "code",
   "execution_count": 700,
   "id": "fd673452-ef67-4e6e-830e-c2dd40875477",
   "metadata": {},
   "outputs": [],
   "source": [
    "tsp_one_scheduled_headway_mean = tsp_one_complete['SCHEDULED_HDWY'].mean()"
   ]
  },
  {
   "cell_type": "code",
   "execution_count": 702,
   "id": "47363e90-2727-4059-b8aa-fa24accfa8cd",
   "metadata": {},
   "outputs": [],
   "source": [
    "tsp_one_deviation_percentage = (tsp_one_headway_mean/tsp_one_scheduled_headway_mean) * 100"
   ]
  },
  {
   "cell_type": "code",
   "execution_count": 704,
   "id": "46f73272-c2bd-48c3-8512-a82125d27d1a",
   "metadata": {},
   "outputs": [
    {
     "name": "stdout",
     "output_type": "stream",
     "text": [
      "1.6514259085959742\n"
     ]
    }
   ],
   "source": [
    "print(tsp_one_deviation_percentage)"
   ]
  },
  {
   "cell_type": "code",
   "execution_count": 706,
   "id": "9006b800-e614-4d42-b2b7-f6b76bb08f9a",
   "metadata": {},
   "outputs": [],
   "source": [
    "tsp_two_headway_mean = tsp_two_complete['HDWY_DEV'].mean()"
   ]
  },
  {
   "cell_type": "code",
   "execution_count": 708,
   "id": "e45ac3d4-5d3d-4feb-9f91-ae0d1c53098e",
   "metadata": {},
   "outputs": [],
   "source": [
    "tsp_two_scheduled_headway_mean = tsp_two_complete['SCHEDULED_HDWY'].mean()"
   ]
  },
  {
   "cell_type": "code",
   "execution_count": 710,
   "id": "fc5eefa9-fe39-4837-a4a6-773e47c37273",
   "metadata": {},
   "outputs": [],
   "source": [
    "tsp_two_deviation_percentage = (tsp_two_headway_mean / tsp_two_scheduled_headway_mean) * 100"
   ]
  },
  {
   "cell_type": "code",
   "execution_count": 712,
   "id": "2a199b7c-1a0e-4dcc-994a-f58c69934ec7",
   "metadata": {},
   "outputs": [
    {
     "name": "stdout",
     "output_type": "stream",
     "text": [
      "0.3709505558768034\n"
     ]
    }
   ],
   "source": [
    "print(tsp_two_deviation_percentage)"
   ]
  },
  {
   "cell_type": "code",
   "execution_count": 734,
   "id": "1c10f841-3d1c-44d4-a9e1-69df2304c971",
   "metadata": {},
   "outputs": [],
   "source": [
    "tsp_off_headway_time_means = tsp_off_complete.groupby('TIME_OF_DAY_CATEGORY', observed=False) ['HDWY_DEV'].mean()"
   ]
  },
  {
   "cell_type": "code",
   "execution_count": 736,
   "id": "8a64691b-cfa7-4e01-b551-9a1b6dc784af",
   "metadata": {},
   "outputs": [
    {
     "name": "stdout",
     "output_type": "stream",
     "text": [
      "TIME_OF_DAY_CATEGORY\n",
      "EM    0.432441\n",
      "MP    0.125451\n",
      "MD    0.392891\n",
      "AP    0.565516\n",
      "EP    0.413240\n",
      "LN    0.150124\n",
      "Name: HDWY_DEV, dtype: float64\n"
     ]
    }
   ],
   "source": [
    "print(tsp_off_headway_time_means)"
   ]
  },
  {
   "cell_type": "code",
   "execution_count": 738,
   "id": "43498ee5-541a-4ba6-ab2d-ab85055ab148",
   "metadata": {},
   "outputs": [],
   "source": [
    "tsp_off_scheduled_headway_means = tsp_off_complete.groupby('TIME_OF_DAY_CATEGORY', observed=False) ['SCHEDULED_HDWY'].mean()"
   ]
  },
  {
   "cell_type": "code",
   "execution_count": 740,
   "id": "35894f0f-41b6-475e-bc4b-6f9ae8000afa",
   "metadata": {},
   "outputs": [],
   "source": [
    "tsp_off_deviation_percentage = (tsp_off_headway_time_means/tsp_off_scheduled_headway_means) * 100"
   ]
  },
  {
   "cell_type": "code",
   "execution_count": 742,
   "id": "3d557527-4a84-44da-9d81-44ee051a3947",
   "metadata": {},
   "outputs": [
    {
     "name": "stdout",
     "output_type": "stream",
     "text": [
      "TIME_OF_DAY_CATEGORY\n",
      "EM    2.128532\n",
      "MP    0.730966\n",
      "MD    2.429193\n",
      "AP    3.537296\n",
      "EP    1.856492\n",
      "LN    0.501698\n",
      "dtype: float64\n"
     ]
    }
   ],
   "source": [
    "print(tsp_off_deviation_percentage)"
   ]
  },
  {
   "cell_type": "code",
   "execution_count": 282,
   "id": "cd6ca893-fefa-43b5-a099-9acf2ae98e62",
   "metadata": {},
   "outputs": [],
   "source": [
    "wego_time_buckets = wego_day_of_week.copy()"
   ]
  },
  {
   "cell_type": "raw",
   "id": "a1850180-5ddd-46c2-bc94-3b4c5a5f0d11",
   "metadata": {},
   "source": [
    "wego_time_buckets['TIME_BUCKET'] = np.where(wego_time_buckets['SCHEDULED_TIME']<'8:00:00','EM',\n",
    "                                np.where(wego_time_buckets['SCHEDULED_TIME']<'11:00:00',\"MP\",\n",
    "                                np.where(wego_time_buckets['SCHEDULED_TIME']<'14:00:00', \"MD\",\n",
    "                                np.where(wego_time_buckets['SCHEDULED_TIME']<'17:00:00', \"AP\",\n",
    "                                np.where(wego_time_buckets['SCHEDULED_TIME']<'20:00:00', \"EP\",\n",
    "                                np.where(wego_time_buckets['SCHEDULED_TIME']<'23:59:59', \"LN\", \"NOTHING\"))))))"
   ]
  },
  {
   "cell_type": "code",
   "execution_count": 280,
   "id": "2129259a-83f4-457d-93bd-b2e6965aeee3",
   "metadata": {},
   "outputs": [
    {
     "name": "stdout",
     "output_type": "stream",
     "text": [
      "0         EM\n",
      "1         EM\n",
      "2         EM\n",
      "3         EM\n",
      "4         EM\n",
      "          ..\n",
      "618993    EM\n",
      "618994    EM\n",
      "618995    EM\n",
      "618996    EM\n",
      "618997    EM\n",
      "Name: TIME_BUCKET, Length: 618998, dtype: object\n"
     ]
    }
   ],
   "source": []
  },
  {
   "cell_type": "code",
   "execution_count": 296,
   "id": "c5d478a0-15bf-47b0-ab50-1b81ef7cfa26",
   "metadata": {},
   "outputs": [],
   "source": []
  },
  {
   "cell_type": "code",
   "execution_count": 292,
   "id": "73a2df2b-5ca2-40aa-9cc8-33a152c4b14c",
   "metadata": {},
   "outputs": [
    {
     "name": "stdout",
     "output_type": "stream",
     "text": [
      "       SCHEDULED_TIME TIME_OF_DAY_CATEGORY\n",
      "0            05:34:00                   EM\n",
      "1            05:40:00                   EM\n",
      "2            05:47:00                   EM\n",
      "3            05:50:00                   EM\n",
      "4            05:54:00                   EM\n",
      "...               ...                  ...\n",
      "618993       07:40:00                   EM\n",
      "618994       15:05:00                   AP\n",
      "618995       15:18:00                   AP\n",
      "618996       15:20:00                   AP\n",
      "618997       15:37:00                   AP\n",
      "\n",
      "[618998 rows x 2 columns]\n"
     ]
    }
   ],
   "source": [
    "print(wego_time_buckets[['SCHEDULED_TIME','TIME_OF_DAY_CATEGORY']])"
   ]
  },
  {
   "cell_type": "code",
   "execution_count": 744,
   "id": "3a9364ec-b752-46db-a217-733b3c18da27",
   "metadata": {},
   "outputs": [],
   "source": [
    "adherence_time_top = top_tscpb.groupby('TIME_OF_DAY_CATEGORY', observed=False) [ 'ADHERENCE'].mean()"
   ]
  },
  {
   "cell_type": "code",
   "execution_count": 746,
   "id": "4dbfe73a-df89-4dfa-9718-34b78a5a9265",
   "metadata": {},
   "outputs": [
    {
     "name": "stdout",
     "output_type": "stream",
     "text": [
      "TIME_OF_DAY_CATEGORY\n",
      "EM   -1.564183\n",
      "MP   -2.317827\n",
      "MD   -2.557835\n",
      "AP   -3.513629\n",
      "EP   -2.470388\n",
      "LN   -1.506403\n",
      "Name: ADHERENCE, dtype: float64\n"
     ]
    }
   ],
   "source": [
    "print(adherence_time_top)"
   ]
  },
  {
   "cell_type": "code",
   "execution_count": 750,
   "id": "9f396186-029e-4039-93f8-7679e7ed1748",
   "metadata": {},
   "outputs": [],
   "source": [
    "adherence_time_top_off = top_tsp_off.groupby('TIME_OF_DAY_CATEGORY', observed=False) [ 'ADHERENCE'].mean()"
   ]
  },
  {
   "cell_type": "code",
   "execution_count": 752,
   "id": "0ee34e5a-1f10-4e1c-aab8-f304e23cf85d",
   "metadata": {},
   "outputs": [
    {
     "name": "stdout",
     "output_type": "stream",
     "text": [
      "TIME_OF_DAY_CATEGORY\n",
      "EM   -1.785225\n",
      "MP   -2.645415\n",
      "MD   -3.130844\n",
      "AP   -4.849078\n",
      "EP   -3.751868\n",
      "LN   -2.692706\n",
      "Name: ADHERENCE, dtype: float64\n"
     ]
    }
   ],
   "source": [
    "print(adherence_time_top_off)"
   ]
  },
  {
   "cell_type": "code",
   "execution_count": 816,
   "id": "6c498391-192d-4786-937c-91e0cb21b4c9",
   "metadata": {},
   "outputs": [],
   "source": [
    "combined_adherence = pd.concat([adherence_time_top, adherence_time_top_off], axis=1)"
   ]
  },
  {
   "cell_type": "code",
   "execution_count": 818,
   "id": "411d11d6-e75f-4318-b2be-436d9d9b0dde",
   "metadata": {},
   "outputs": [],
   "source": [
    "combined_adherence.columns= ['TPS_ON', 'TPS_OFF']"
   ]
  },
  {
   "cell_type": "code",
   "execution_count": 820,
   "id": "d7f8dc12-dc46-4859-beae-8df2708b28c6",
   "metadata": {},
   "outputs": [
    {
     "name": "stdout",
     "output_type": "stream",
     "text": [
      "                        TPS_ON   TPS_OFF\n",
      "TIME_OF_DAY_CATEGORY                    \n",
      "EM                   -1.564183 -1.785225\n",
      "MP                   -2.317827 -2.645415\n",
      "MD                   -2.557835 -3.130844\n",
      "AP                   -3.513629 -4.849078\n",
      "EP                   -2.470388 -3.751868\n",
      "LN                   -1.506403 -2.692706\n"
     ]
    }
   ],
   "source": [
    "print(combined_adherence)"
   ]
  },
  {
   "cell_type": "code",
   "execution_count": 788,
   "id": "68c7cd75-73ea-45ed-b208-661072d29aa5",
   "metadata": {},
   "outputs": [],
   "source": [
    "adherence_time_bottom = bottom_tscpb.groupby('TIME_OF_DAY_CATEGORY', observed=False) [ 'ADHERENCE'].mean()\n",
    "adherence_time_bottom_off = bottom_tsp_off.groupby('TIME_OF_DAY_CATEGORY', observed=False) [ 'ADHERENCE'].mean()"
   ]
  },
  {
   "cell_type": "code",
   "execution_count": 758,
   "id": "3deac32d-1ef3-4634-9896-cfb9fdb43330",
   "metadata": {},
   "outputs": [
    {
     "name": "stdout",
     "output_type": "stream",
     "text": [
      "TIME_OF_DAY_CATEGORY\n",
      "EM   -0.989527\n",
      "MP   -2.826637\n",
      "MD   -3.302448\n",
      "AP   -3.181365\n",
      "EP   -2.625188\n",
      "LN   -1.434512\n",
      "Name: ADHERENCE, dtype: float64\n",
      "TIME_OF_DAY_CATEGORY\n",
      "EM   -0.722297\n",
      "MP   -2.995238\n",
      "MD   -3.443071\n",
      "AP   -4.470788\n",
      "EP   -0.096546\n",
      "LN   -1.555595\n",
      "Name: ADHERENCE, dtype: float64\n"
     ]
    }
   ],
   "source": [
    "print(adherence_time_bottom)\n",
    "print(adherence_time_bottom_off)"
   ]
  },
  {
   "cell_type": "code",
   "execution_count": 786,
   "id": "8c118af0-2903-4ef6-83f2-9afa700c434c",
   "metadata": {},
   "outputs": [],
   "source": [
    "headwaydev_time_top = top_tscpb.groupby('TIME_OF_DAY_CATEGORY', observed=False) [ 'HDWY_DEV'].mean()\n",
    "scheduledheadwaydev_time_top = top_tscpb.groupby('TIME_OF_DAY_CATEGORY', observed=False) [ 'SCHEDULED_HDWY'].mean()\n",
    "headwaydev_time_top_off = top_tsp_off.groupby('TIME_OF_DAY_CATEGORY', observed=False) [ 'HDWY_DEV'].mean()\n",
    "scheduluedheadwaydev_time_top_off = top_tsp_off.groupby('TIME_OF_DAY_CATEGORY', observed=False) [ 'SCHEDULED_HDWY'].mean()"
   ]
  },
  {
   "cell_type": "code",
   "execution_count": 764,
   "id": "3b8ec541-2743-447c-ae17-4a465ce58eb1",
   "metadata": {},
   "outputs": [
    {
     "name": "stdout",
     "output_type": "stream",
     "text": [
      "TIME_OF_DAY_CATEGORY\n",
      "EM    0.895648\n",
      "MP    0.553982\n",
      "MD    0.682091\n",
      "AP    1.434939\n",
      "EP    0.849302\n",
      "LN    0.873157\n",
      "Name: HDWY_DEV, dtype: float64\n",
      "TIME_OF_DAY_CATEGORY\n",
      "EM    0.373929\n",
      "MP    0.033102\n",
      "MD    0.340838\n",
      "AP    0.926420\n",
      "EP    0.680252\n",
      "LN    0.009976\n",
      "Name: HDWY_DEV, dtype: float64\n"
     ]
    }
   ],
   "source": [
    "print(headwaydev_time_top)\n",
    "print(headwaydev_time_top_off)"
   ]
  },
  {
   "cell_type": "code",
   "execution_count": 772,
   "id": "ff2c0002-3012-4423-b18b-7ec5b1c8b5e4",
   "metadata": {},
   "outputs": [
    {
     "name": "stdout",
     "output_type": "stream",
     "text": [
      "TIME_OF_DAY_CATEGORY\n",
      "EM    19.846381\n",
      "MP    16.864751\n",
      "MD    15.758573\n",
      "AP    15.973000\n",
      "EP    22.585387\n",
      "LN    29.915433\n",
      "Name: SCHEDULED_HDWY, dtype: float64\n",
      "TIME_OF_DAY_CATEGORY\n",
      "EM    19.372671\n",
      "MP    16.608828\n",
      "MD    15.619808\n",
      "AP    15.320293\n",
      "EP    22.234991\n",
      "LN    29.918033\n",
      "Name: SCHEDULED_HDWY, dtype: float64\n"
     ]
    }
   ],
   "source": [
    "print(scheduledheadwaydev_time_top)\n",
    "print(scheduluedheadwaydev_time_top_off)"
   ]
  },
  {
   "cell_type": "code",
   "execution_count": 776,
   "id": "ac3ba165-4007-4a21-b005-671f21920ce7",
   "metadata": {},
   "outputs": [
    {
     "name": "stdout",
     "output_type": "stream",
     "text": [
      "TIME_OF_DAY_CATEGORY\n",
      "EM    0.045129\n",
      "MP    0.032848\n",
      "MD    0.043284\n",
      "AP    0.089835\n",
      "EP    0.037604\n",
      "LN    0.029188\n",
      "dtype: float64\n",
      "TIME_OF_DAY_CATEGORY\n",
      "EM    0.019302\n",
      "MP    0.001993\n",
      "MD    0.021821\n",
      "AP    0.060470\n",
      "EP    0.030594\n",
      "LN    0.000333\n",
      "dtype: float64\n"
     ]
    }
   ],
   "source": [
    "print(headwaydev_time_top/scheduledheadwaydev_time_top)\n",
    "print(headwaydev_time_top_off/scheduluedheadwaydev_time_top_off)"
   ]
  },
  {
   "cell_type": "code",
   "execution_count": 796,
   "id": "e98f9d43-09f0-4eb4-ad22-51980e0bccba",
   "metadata": {},
   "outputs": [],
   "source": [
    "headwaydev_time_bottom = bottom_tscpb.groupby('TIME_OF_DAY_CATEGORY', observed=False) [ 'HDWY_DEV'].count()\n",
    "scheduledheadwaydev_time_bottom = bottom_tscpb.groupby('TIME_OF_DAY_CATEGORY', observed=False) [ 'SCHEDULED_HDWY'].count()\n",
    "headwaydev_time_bottom_off = top_tsp_off.groupby('TIME_OF_DAY_CATEGORY', observed=False) [ 'HDWY_DEV'].count()\n",
    "scheduluedheadwaydev_time_top_off = top_tsp_off.groupby('TIME_OF_DAY_CATEGORY', observed=False) [ 'SCHEDULED_HDWY'].count()"
   ]
  },
  {
   "cell_type": "code",
   "execution_count": 798,
   "id": "8835bc93-cab4-4a9f-a376-20c810700472",
   "metadata": {},
   "outputs": [
    {
     "name": "stdout",
     "output_type": "stream",
     "text": [
      "TIME_OF_DAY_CATEGORY\n",
      "EM    0.886931\n",
      "MP    0.921074\n",
      "MD    0.937977\n",
      "AP    0.933553\n",
      "EP    0.942112\n",
      "LN    0.955556\n",
      "dtype: float64\n",
      "TIME_OF_DAY_CATEGORY\n",
      "EM    0.983437\n",
      "MP    0.989346\n",
      "MD    0.964856\n",
      "AP    0.960880\n",
      "EP    0.974271\n",
      "LN    0.985948\n",
      "dtype: float64\n"
     ]
    }
   ],
   "source": [
    "print(headwaydev_time_bottom/scheduledheadwaydev_time_bottom)\n",
    "print(headwaydev_time_bottom_off/scheduluedheadwaydev_time_top_off)"
   ]
  },
  {
   "cell_type": "code",
   "execution_count": 802,
   "id": "949e779a-3ddc-48b0-99f0-b62a1ea54d87",
   "metadata": {},
   "outputs": [],
   "source": [
    "to_downtown = wego_day_of_week[wego_day_of_week['ROUTE_DIRECTION_NAME']=='TO DOWNTOWN']"
   ]
  },
  {
   "cell_type": "code",
   "execution_count": 804,
   "id": "8d8d2139-11be-4326-986b-8b2c139ef9dd",
   "metadata": {},
   "outputs": [],
   "source": [
    "from_downtown = wego_day_of_week[wego_day_of_week['ROUTE_DIRECTION_NAME']=='FROM DOWNTOWN']"
   ]
  },
  {
   "cell_type": "code",
   "execution_count": 806,
   "id": "827b7a1d-d0d5-4d9e-b7f2-dc793d9b20e6",
   "metadata": {},
   "outputs": [],
   "source": [
    "top_total = wego_day_of_week[wego_day_of_week['OPERATOR'].isin(top_half_driver_ids)]"
   ]
  },
  {
   "cell_type": "code",
   "execution_count": 808,
   "id": "a1905009-af03-47d9-8f5f-909de0b37e99",
   "metadata": {},
   "outputs": [],
   "source": [
    "bottom_total = wego_day_of_week[wego_day_of_week['OPERATOR'].isin(bottom_half_driver_ids)]"
   ]
  },
  {
   "cell_type": "code",
   "execution_count": 810,
   "id": "31a33439-83a4-4d1b-82ac-9bdc47c41a80",
   "metadata": {},
   "outputs": [],
   "source": [
    "adherence_top = top_total.groupby('TIME_OF_DAY_CATEGORY', observed=False) [ 'ADHERENCE'].mean()"
   ]
  },
  {
   "cell_type": "code",
   "execution_count": 812,
   "id": "1453dd6b-8b0f-4769-84c6-10b6e9180421",
   "metadata": {},
   "outputs": [],
   "source": [
    "adherence_bottom = bottom_total.groupby('TIME_OF_DAY_CATEGORY', observed=False) [ 'ADHERENCE'].mean()"
   ]
  },
  {
   "cell_type": "code",
   "execution_count": 814,
   "id": "ece11c9c-3486-4246-a216-de647295e83b",
   "metadata": {},
   "outputs": [
    {
     "name": "stdout",
     "output_type": "stream",
     "text": [
      "TIME_OF_DAY_CATEGORY\n",
      "EM   -1.522237\n",
      "MP   -2.015654\n",
      "MD   -2.744973\n",
      "AP   -3.542150\n",
      "EP   -2.822427\n",
      "LN   -1.816927\n",
      "Name: ADHERENCE, dtype: float64\n",
      "TIME_OF_DAY_CATEGORY\n",
      "EM   -1.414484\n",
      "MP   -2.160426\n",
      "MD   -2.995577\n",
      "AP   -3.379134\n",
      "EP   -2.944483\n",
      "LN   -2.114110\n",
      "Name: ADHERENCE, dtype: float64\n"
     ]
    }
   ],
   "source": [
    "print(adherence_top)\n",
    "print(adherence_bottom)"
   ]
  },
  {
   "cell_type": "code",
   "execution_count": 822,
   "id": "9ef0c9a3-9fc4-4ce7-9901-c0eeee3cac9d",
   "metadata": {},
   "outputs": [
    {
     "data": {
      "text/html": [
       "<div>\n",
       "<style scoped>\n",
       "    .dataframe tbody tr th:only-of-type {\n",
       "        vertical-align: middle;\n",
       "    }\n",
       "\n",
       "    .dataframe tbody tr th {\n",
       "        vertical-align: top;\n",
       "    }\n",
       "\n",
       "    .dataframe thead th {\n",
       "        text-align: right;\n",
       "    }\n",
       "</style>\n",
       "<table border=\"1\" class=\"dataframe\">\n",
       "  <thead>\n",
       "    <tr style=\"text-align: right;\">\n",
       "      <th></th>\n",
       "      <th>CALENDAR_ID</th>\n",
       "      <th>SERVICE_ABBR</th>\n",
       "      <th>ADHERENCE_ID</th>\n",
       "      <th>DATE</th>\n",
       "      <th>ROUTE_ABBR</th>\n",
       "      <th>BLOCK_ABBR</th>\n",
       "      <th>OPERATOR</th>\n",
       "      <th>TRIP_ID</th>\n",
       "      <th>OVERLOAD_ID</th>\n",
       "      <th>ROUTE_DIRECTION_NAME</th>\n",
       "      <th>...</th>\n",
       "      <th>ADJUSTED_EARLY_COUNT</th>\n",
       "      <th>ADJUSTED_LATE_COUNT</th>\n",
       "      <th>ADJUSTED_ONTIME_COUNT</th>\n",
       "      <th>STOP_CANCELLED</th>\n",
       "      <th>PREV_SCHED_STOP_CANCELLED</th>\n",
       "      <th>IS_RELIEF</th>\n",
       "      <th>BLOCK_STOP_ORDER</th>\n",
       "      <th>DWELL_IN_MINS</th>\n",
       "      <th>TIME_OF_DAY_CATEGORY</th>\n",
       "      <th>DAY_NUM</th>\n",
       "    </tr>\n",
       "  </thead>\n",
       "  <tbody>\n",
       "    <tr>\n",
       "      <th>0</th>\n",
       "      <td>120230101</td>\n",
       "      <td>3</td>\n",
       "      <td>93549161</td>\n",
       "      <td>2023-01-01</td>\n",
       "      <td>50</td>\n",
       "      <td>5000</td>\n",
       "      <td>2355</td>\n",
       "      <td>332422</td>\n",
       "      <td>0</td>\n",
       "      <td>TO DOWNTOWN</td>\n",
       "      <td>...</td>\n",
       "      <td>0</td>\n",
       "      <td>0</td>\n",
       "      <td>1</td>\n",
       "      <td>0</td>\n",
       "      <td>0.0</td>\n",
       "      <td>0</td>\n",
       "      <td>2</td>\n",
       "      <td>8.133333</td>\n",
       "      <td>EM</td>\n",
       "      <td>6</td>\n",
       "    </tr>\n",
       "    <tr>\n",
       "      <th>1</th>\n",
       "      <td>120230101</td>\n",
       "      <td>3</td>\n",
       "      <td>93549162</td>\n",
       "      <td>2023-01-01</td>\n",
       "      <td>50</td>\n",
       "      <td>5000</td>\n",
       "      <td>2355</td>\n",
       "      <td>332422</td>\n",
       "      <td>0</td>\n",
       "      <td>TO DOWNTOWN</td>\n",
       "      <td>...</td>\n",
       "      <td>0</td>\n",
       "      <td>0</td>\n",
       "      <td>1</td>\n",
       "      <td>0</td>\n",
       "      <td>0.0</td>\n",
       "      <td>0</td>\n",
       "      <td>5</td>\n",
       "      <td>0.000000</td>\n",
       "      <td>EM</td>\n",
       "      <td>6</td>\n",
       "    </tr>\n",
       "    <tr>\n",
       "      <th>2</th>\n",
       "      <td>120230101</td>\n",
       "      <td>3</td>\n",
       "      <td>93549163</td>\n",
       "      <td>2023-01-01</td>\n",
       "      <td>50</td>\n",
       "      <td>5000</td>\n",
       "      <td>2355</td>\n",
       "      <td>332422</td>\n",
       "      <td>0</td>\n",
       "      <td>TO DOWNTOWN</td>\n",
       "      <td>...</td>\n",
       "      <td>0</td>\n",
       "      <td>0</td>\n",
       "      <td>1</td>\n",
       "      <td>0</td>\n",
       "      <td>0.0</td>\n",
       "      <td>0</td>\n",
       "      <td>11</td>\n",
       "      <td>0.000000</td>\n",
       "      <td>EM</td>\n",
       "      <td>6</td>\n",
       "    </tr>\n",
       "    <tr>\n",
       "      <th>3</th>\n",
       "      <td>120230101</td>\n",
       "      <td>3</td>\n",
       "      <td>93549164</td>\n",
       "      <td>2023-01-01</td>\n",
       "      <td>50</td>\n",
       "      <td>5000</td>\n",
       "      <td>2355</td>\n",
       "      <td>332422</td>\n",
       "      <td>0</td>\n",
       "      <td>TO DOWNTOWN</td>\n",
       "      <td>...</td>\n",
       "      <td>0</td>\n",
       "      <td>0</td>\n",
       "      <td>1</td>\n",
       "      <td>0</td>\n",
       "      <td>0.0</td>\n",
       "      <td>0</td>\n",
       "      <td>13</td>\n",
       "      <td>0.000000</td>\n",
       "      <td>EM</td>\n",
       "      <td>6</td>\n",
       "    </tr>\n",
       "    <tr>\n",
       "      <th>4</th>\n",
       "      <td>120230101</td>\n",
       "      <td>3</td>\n",
       "      <td>93549165</td>\n",
       "      <td>2023-01-01</td>\n",
       "      <td>50</td>\n",
       "      <td>5000</td>\n",
       "      <td>2355</td>\n",
       "      <td>332422</td>\n",
       "      <td>0</td>\n",
       "      <td>TO DOWNTOWN</td>\n",
       "      <td>...</td>\n",
       "      <td>0</td>\n",
       "      <td>0</td>\n",
       "      <td>1</td>\n",
       "      <td>0</td>\n",
       "      <td>0.0</td>\n",
       "      <td>0</td>\n",
       "      <td>18</td>\n",
       "      <td>2.150000</td>\n",
       "      <td>EM</td>\n",
       "      <td>6</td>\n",
       "    </tr>\n",
       "    <tr>\n",
       "      <th>...</th>\n",
       "      <td>...</td>\n",
       "      <td>...</td>\n",
       "      <td>...</td>\n",
       "      <td>...</td>\n",
       "      <td>...</td>\n",
       "      <td>...</td>\n",
       "      <td>...</td>\n",
       "      <td>...</td>\n",
       "      <td>...</td>\n",
       "      <td>...</td>\n",
       "      <td>...</td>\n",
       "      <td>...</td>\n",
       "      <td>...</td>\n",
       "      <td>...</td>\n",
       "      <td>...</td>\n",
       "      <td>...</td>\n",
       "      <td>...</td>\n",
       "      <td>...</td>\n",
       "      <td>...</td>\n",
       "      <td>...</td>\n",
       "      <td>...</td>\n",
       "    </tr>\n",
       "    <tr>\n",
       "      <th>618993</th>\n",
       "      <td>120250512</td>\n",
       "      <td>1</td>\n",
       "      <td>119531049</td>\n",
       "      <td>2025-05-12</td>\n",
       "      <td>50</td>\n",
       "      <td>8401</td>\n",
       "      <td>3077</td>\n",
       "      <td>432121</td>\n",
       "      <td>0</td>\n",
       "      <td>FROM DOWNTOWN</td>\n",
       "      <td>...</td>\n",
       "      <td>1</td>\n",
       "      <td>0</td>\n",
       "      <td>0</td>\n",
       "      <td>0</td>\n",
       "      <td>NaN</td>\n",
       "      <td>0</td>\n",
       "      <td>23</td>\n",
       "      <td>4.500000</td>\n",
       "      <td>EM</td>\n",
       "      <td>0</td>\n",
       "    </tr>\n",
       "    <tr>\n",
       "      <th>618994</th>\n",
       "      <td>120250512</td>\n",
       "      <td>1</td>\n",
       "      <td>119531638</td>\n",
       "      <td>2025-05-12</td>\n",
       "      <td>50</td>\n",
       "      <td>9302</td>\n",
       "      <td>3246</td>\n",
       "      <td>432353</td>\n",
       "      <td>0</td>\n",
       "      <td>TO DOWNTOWN</td>\n",
       "      <td>...</td>\n",
       "      <td>0</td>\n",
       "      <td>0</td>\n",
       "      <td>1</td>\n",
       "      <td>0</td>\n",
       "      <td>0.0</td>\n",
       "      <td>0</td>\n",
       "      <td>2</td>\n",
       "      <td>27.283333</td>\n",
       "      <td>AP</td>\n",
       "      <td>0</td>\n",
       "    </tr>\n",
       "    <tr>\n",
       "      <th>618995</th>\n",
       "      <td>120250512</td>\n",
       "      <td>1</td>\n",
       "      <td>119531639</td>\n",
       "      <td>2025-05-12</td>\n",
       "      <td>50</td>\n",
       "      <td>9302</td>\n",
       "      <td>3246</td>\n",
       "      <td>432353</td>\n",
       "      <td>0</td>\n",
       "      <td>TO DOWNTOWN</td>\n",
       "      <td>...</td>\n",
       "      <td>0</td>\n",
       "      <td>0</td>\n",
       "      <td>1</td>\n",
       "      <td>0</td>\n",
       "      <td>NaN</td>\n",
       "      <td>0</td>\n",
       "      <td>3</td>\n",
       "      <td>0.133333</td>\n",
       "      <td>AP</td>\n",
       "      <td>0</td>\n",
       "    </tr>\n",
       "    <tr>\n",
       "      <th>618996</th>\n",
       "      <td>120250512</td>\n",
       "      <td>1</td>\n",
       "      <td>119531770</td>\n",
       "      <td>2025-05-12</td>\n",
       "      <td>50</td>\n",
       "      <td>9950</td>\n",
       "      <td>2448</td>\n",
       "      <td>432387</td>\n",
       "      <td>0</td>\n",
       "      <td>TO DOWNTOWN</td>\n",
       "      <td>...</td>\n",
       "      <td>0</td>\n",
       "      <td>0</td>\n",
       "      <td>1</td>\n",
       "      <td>0</td>\n",
       "      <td>0.0</td>\n",
       "      <td>0</td>\n",
       "      <td>2</td>\n",
       "      <td>8.166666</td>\n",
       "      <td>AP</td>\n",
       "      <td>0</td>\n",
       "    </tr>\n",
       "    <tr>\n",
       "      <th>618997</th>\n",
       "      <td>120250512</td>\n",
       "      <td>1</td>\n",
       "      <td>119531771</td>\n",
       "      <td>2025-05-12</td>\n",
       "      <td>50</td>\n",
       "      <td>9950</td>\n",
       "      <td>2448</td>\n",
       "      <td>432387</td>\n",
       "      <td>0</td>\n",
       "      <td>TO DOWNTOWN</td>\n",
       "      <td>...</td>\n",
       "      <td>0</td>\n",
       "      <td>0</td>\n",
       "      <td>1</td>\n",
       "      <td>0</td>\n",
       "      <td>NaN</td>\n",
       "      <td>0</td>\n",
       "      <td>3</td>\n",
       "      <td>2.200000</td>\n",
       "      <td>AP</td>\n",
       "      <td>0</td>\n",
       "    </tr>\n",
       "  </tbody>\n",
       "</table>\n",
       "<p>618998 rows × 32 columns</p>\n",
       "</div>"
      ],
      "text/plain": [
       "        CALENDAR_ID  SERVICE_ABBR  ADHERENCE_ID       DATE  ROUTE_ABBR  \\\n",
       "0         120230101             3      93549161 2023-01-01          50   \n",
       "1         120230101             3      93549162 2023-01-01          50   \n",
       "2         120230101             3      93549163 2023-01-01          50   \n",
       "3         120230101             3      93549164 2023-01-01          50   \n",
       "4         120230101             3      93549165 2023-01-01          50   \n",
       "...             ...           ...           ...        ...         ...   \n",
       "618993    120250512             1     119531049 2025-05-12          50   \n",
       "618994    120250512             1     119531638 2025-05-12          50   \n",
       "618995    120250512             1     119531639 2025-05-12          50   \n",
       "618996    120250512             1     119531770 2025-05-12          50   \n",
       "618997    120250512             1     119531771 2025-05-12          50   \n",
       "\n",
       "        BLOCK_ABBR  OPERATOR  TRIP_ID  OVERLOAD_ID ROUTE_DIRECTION_NAME  ...  \\\n",
       "0             5000      2355   332422            0          TO DOWNTOWN  ...   \n",
       "1             5000      2355   332422            0          TO DOWNTOWN  ...   \n",
       "2             5000      2355   332422            0          TO DOWNTOWN  ...   \n",
       "3             5000      2355   332422            0          TO DOWNTOWN  ...   \n",
       "4             5000      2355   332422            0          TO DOWNTOWN  ...   \n",
       "...            ...       ...      ...          ...                  ...  ...   \n",
       "618993        8401      3077   432121            0        FROM DOWNTOWN  ...   \n",
       "618994        9302      3246   432353            0          TO DOWNTOWN  ...   \n",
       "618995        9302      3246   432353            0          TO DOWNTOWN  ...   \n",
       "618996        9950      2448   432387            0          TO DOWNTOWN  ...   \n",
       "618997        9950      2448   432387            0          TO DOWNTOWN  ...   \n",
       "\n",
       "       ADJUSTED_EARLY_COUNT  ADJUSTED_LATE_COUNT  ADJUSTED_ONTIME_COUNT  \\\n",
       "0                         0                    0                      1   \n",
       "1                         0                    0                      1   \n",
       "2                         0                    0                      1   \n",
       "3                         0                    0                      1   \n",
       "4                         0                    0                      1   \n",
       "...                     ...                  ...                    ...   \n",
       "618993                    1                    0                      0   \n",
       "618994                    0                    0                      1   \n",
       "618995                    0                    0                      1   \n",
       "618996                    0                    0                      1   \n",
       "618997                    0                    0                      1   \n",
       "\n",
       "        STOP_CANCELLED  PREV_SCHED_STOP_CANCELLED IS_RELIEF BLOCK_STOP_ORDER  \\\n",
       "0                    0                        0.0         0                2   \n",
       "1                    0                        0.0         0                5   \n",
       "2                    0                        0.0         0               11   \n",
       "3                    0                        0.0         0               13   \n",
       "4                    0                        0.0         0               18   \n",
       "...                ...                        ...       ...              ...   \n",
       "618993               0                        NaN         0               23   \n",
       "618994               0                        0.0         0                2   \n",
       "618995               0                        NaN         0                3   \n",
       "618996               0                        0.0         0                2   \n",
       "618997               0                        NaN         0                3   \n",
       "\n",
       "       DWELL_IN_MINS  TIME_OF_DAY_CATEGORY  DAY_NUM  \n",
       "0           8.133333                    EM        6  \n",
       "1           0.000000                    EM        6  \n",
       "2           0.000000                    EM        6  \n",
       "3           0.000000                    EM        6  \n",
       "4           2.150000                    EM        6  \n",
       "...              ...                   ...      ...  \n",
       "618993      4.500000                    EM        0  \n",
       "618994     27.283333                    AP        0  \n",
       "618995      0.133333                    AP        0  \n",
       "618996      8.166666                    AP        0  \n",
       "618997      2.200000                    AP        0  \n",
       "\n",
       "[618998 rows x 32 columns]"
      ]
     },
     "execution_count": 822,
     "metadata": {},
     "output_type": "execute_result"
    }
   ],
   "source": [
    "wego_day_of_week"
   ]
  },
  {
   "cell_type": "code",
   "execution_count": 850,
   "id": "e3aadeb4-a02c-4170-a6f2-1d00695818c2",
   "metadata": {},
   "outputs": [],
   "source": [
    "dict_adherence=[]\n",
    "\n",
    "def average_adherence(dataframe):\n",
    "    mean_adherence=dataframe['ADHERENCE'].mean()\n",
    "    dict_adherence.append(mean_adherence)\n",
    "    dataframe['AVG_ADHERENCE']=mean_adherence\n",
    "    print(mean_adherence)"
   ]
  },
  {
   "cell_type": "code",
   "execution_count": 852,
   "id": "05941083-be62-4fc1-bffd-532598de0e82",
   "metadata": {},
   "outputs": [
    {
     "name": "stdout",
     "output_type": "stream",
     "text": [
      "-0.23356632084268683\n",
      "-2.407052192367161\n",
      "-3.0032939083482764\n",
      "-2.835422180659082\n",
      "-1.8455920867768598\n"
     ]
    }
   ],
   "source": [
    "for dataframe in dataframe_list:\n",
    "    average_adherence(dataframe)"
   ]
  },
  {
   "cell_type": "code",
   "execution_count": 834,
   "id": "7f37aebc-e7e6-4439-bd3a-23e5cf7e5fa2",
   "metadata": {},
   "outputs": [],
   "source": [
    "dataframe_list = [tsp_one_complete, tscpb_complete, tsp_off_complete, tsp_two_complete, tsphc_complete]"
   ]
  },
  {
   "cell_type": "code",
   "execution_count": 848,
   "id": "34494d8e-e507-466b-9da1-f4b665175cd1",
   "metadata": {},
   "outputs": [
    {
     "data": {
      "text/plain": [
       "[-0.23356632084268683,\n",
       " -2.407052192367161,\n",
       " -3.0032939083482764,\n",
       " -2.835422180659082,\n",
       " -1.8455920867768598]"
      ]
     },
     "execution_count": 848,
     "metadata": {},
     "output_type": "execute_result"
    }
   ],
   "source": [
    "dict_adherence"
   ]
  },
  {
   "cell_type": "code",
   "execution_count": 854,
   "id": "5c5ad92c-3909-4a6b-ac47-539e427104ff",
   "metadata": {},
   "outputs": [
    {
     "data": {
      "text/html": [
       "<div>\n",
       "<style scoped>\n",
       "    .dataframe tbody tr th:only-of-type {\n",
       "        vertical-align: middle;\n",
       "    }\n",
       "\n",
       "    .dataframe tbody tr th {\n",
       "        vertical-align: top;\n",
       "    }\n",
       "\n",
       "    .dataframe thead th {\n",
       "        text-align: right;\n",
       "    }\n",
       "</style>\n",
       "<table border=\"1\" class=\"dataframe\">\n",
       "  <thead>\n",
       "    <tr style=\"text-align: right;\">\n",
       "      <th></th>\n",
       "      <th>CALENDAR_ID</th>\n",
       "      <th>SERVICE_ABBR</th>\n",
       "      <th>ADHERENCE_ID</th>\n",
       "      <th>DATE</th>\n",
       "      <th>ROUTE_ABBR</th>\n",
       "      <th>BLOCK_ABBR</th>\n",
       "      <th>OPERATOR</th>\n",
       "      <th>TRIP_ID</th>\n",
       "      <th>OVERLOAD_ID</th>\n",
       "      <th>ROUTE_DIRECTION_NAME</th>\n",
       "      <th>...</th>\n",
       "      <th>ADJUSTED_LATE_COUNT</th>\n",
       "      <th>ADJUSTED_ONTIME_COUNT</th>\n",
       "      <th>STOP_CANCELLED</th>\n",
       "      <th>PREV_SCHED_STOP_CANCELLED</th>\n",
       "      <th>IS_RELIEF</th>\n",
       "      <th>BLOCK_STOP_ORDER</th>\n",
       "      <th>DWELL_IN_MINS</th>\n",
       "      <th>TIME_OF_DAY_CATEGORY</th>\n",
       "      <th>DAY_NUM</th>\n",
       "      <th>AVG_ADHERENCE</th>\n",
       "    </tr>\n",
       "  </thead>\n",
       "  <tbody>\n",
       "    <tr>\n",
       "      <th>546973</th>\n",
       "      <td>120250203</td>\n",
       "      <td>1</td>\n",
       "      <td>117339007</td>\n",
       "      <td>2025-02-03</td>\n",
       "      <td>50</td>\n",
       "      <td>318</td>\n",
       "      <td>3443</td>\n",
       "      <td>417223</td>\n",
       "      <td>0</td>\n",
       "      <td>TO DOWNTOWN</td>\n",
       "      <td>...</td>\n",
       "      <td>0</td>\n",
       "      <td>1</td>\n",
       "      <td>0</td>\n",
       "      <td>0.0</td>\n",
       "      <td>0</td>\n",
       "      <td>2</td>\n",
       "      <td>35.766666</td>\n",
       "      <td>AP</td>\n",
       "      <td>0</td>\n",
       "      <td>-0.233566</td>\n",
       "    </tr>\n",
       "    <tr>\n",
       "      <th>546974</th>\n",
       "      <td>120250203</td>\n",
       "      <td>1</td>\n",
       "      <td>117339008</td>\n",
       "      <td>2025-02-03</td>\n",
       "      <td>50</td>\n",
       "      <td>318</td>\n",
       "      <td>3443</td>\n",
       "      <td>417223</td>\n",
       "      <td>0</td>\n",
       "      <td>TO DOWNTOWN</td>\n",
       "      <td>...</td>\n",
       "      <td>0</td>\n",
       "      <td>0</td>\n",
       "      <td>0</td>\n",
       "      <td>NaN</td>\n",
       "      <td>0</td>\n",
       "      <td>3</td>\n",
       "      <td>0.000000</td>\n",
       "      <td>AP</td>\n",
       "      <td>0</td>\n",
       "      <td>-0.233566</td>\n",
       "    </tr>\n",
       "    <tr>\n",
       "      <th>546975</th>\n",
       "      <td>120250203</td>\n",
       "      <td>1</td>\n",
       "      <td>117339821</td>\n",
       "      <td>2025-02-03</td>\n",
       "      <td>50</td>\n",
       "      <td>5000</td>\n",
       "      <td>329</td>\n",
       "      <td>417725</td>\n",
       "      <td>0</td>\n",
       "      <td>TO DOWNTOWN</td>\n",
       "      <td>...</td>\n",
       "      <td>0</td>\n",
       "      <td>0</td>\n",
       "      <td>0</td>\n",
       "      <td>0.0</td>\n",
       "      <td>0</td>\n",
       "      <td>2</td>\n",
       "      <td>7.550000</td>\n",
       "      <td>NaN</td>\n",
       "      <td>0</td>\n",
       "      <td>-0.233566</td>\n",
       "    </tr>\n",
       "    <tr>\n",
       "      <th>546976</th>\n",
       "      <td>120250203</td>\n",
       "      <td>1</td>\n",
       "      <td>117339822</td>\n",
       "      <td>2025-02-03</td>\n",
       "      <td>50</td>\n",
       "      <td>5000</td>\n",
       "      <td>329</td>\n",
       "      <td>417725</td>\n",
       "      <td>0</td>\n",
       "      <td>TO DOWNTOWN</td>\n",
       "      <td>...</td>\n",
       "      <td>0</td>\n",
       "      <td>1</td>\n",
       "      <td>0</td>\n",
       "      <td>0.0</td>\n",
       "      <td>0</td>\n",
       "      <td>5</td>\n",
       "      <td>0.000000</td>\n",
       "      <td>NaN</td>\n",
       "      <td>0</td>\n",
       "      <td>-0.233566</td>\n",
       "    </tr>\n",
       "    <tr>\n",
       "      <th>546977</th>\n",
       "      <td>120250203</td>\n",
       "      <td>1</td>\n",
       "      <td>117339823</td>\n",
       "      <td>2025-02-03</td>\n",
       "      <td>50</td>\n",
       "      <td>5000</td>\n",
       "      <td>329</td>\n",
       "      <td>417725</td>\n",
       "      <td>0</td>\n",
       "      <td>TO DOWNTOWN</td>\n",
       "      <td>...</td>\n",
       "      <td>0</td>\n",
       "      <td>1</td>\n",
       "      <td>0</td>\n",
       "      <td>0.0</td>\n",
       "      <td>0</td>\n",
       "      <td>11</td>\n",
       "      <td>0.000000</td>\n",
       "      <td>NaN</td>\n",
       "      <td>0</td>\n",
       "      <td>-0.233566</td>\n",
       "    </tr>\n",
       "    <tr>\n",
       "      <th>...</th>\n",
       "      <td>...</td>\n",
       "      <td>...</td>\n",
       "      <td>...</td>\n",
       "      <td>...</td>\n",
       "      <td>...</td>\n",
       "      <td>...</td>\n",
       "      <td>...</td>\n",
       "      <td>...</td>\n",
       "      <td>...</td>\n",
       "      <td>...</td>\n",
       "      <td>...</td>\n",
       "      <td>...</td>\n",
       "      <td>...</td>\n",
       "      <td>...</td>\n",
       "      <td>...</td>\n",
       "      <td>...</td>\n",
       "      <td>...</td>\n",
       "      <td>...</td>\n",
       "      <td>...</td>\n",
       "      <td>...</td>\n",
       "      <td>...</td>\n",
       "    </tr>\n",
       "    <tr>\n",
       "      <th>552906</th>\n",
       "      <td>120250210</td>\n",
       "      <td>1</td>\n",
       "      <td>117588646</td>\n",
       "      <td>2025-02-10</td>\n",
       "      <td>50</td>\n",
       "      <td>8401</td>\n",
       "      <td>3077</td>\n",
       "      <td>420453</td>\n",
       "      <td>0</td>\n",
       "      <td>FROM DOWNTOWN</td>\n",
       "      <td>...</td>\n",
       "      <td>0</td>\n",
       "      <td>0</td>\n",
       "      <td>0</td>\n",
       "      <td>NaN</td>\n",
       "      <td>0</td>\n",
       "      <td>23</td>\n",
       "      <td>5.916666</td>\n",
       "      <td>EM</td>\n",
       "      <td>0</td>\n",
       "      <td>-0.233566</td>\n",
       "    </tr>\n",
       "    <tr>\n",
       "      <th>552907</th>\n",
       "      <td>120250210</td>\n",
       "      <td>1</td>\n",
       "      <td>117589227</td>\n",
       "      <td>2025-02-10</td>\n",
       "      <td>50</td>\n",
       "      <td>9302</td>\n",
       "      <td>3246</td>\n",
       "      <td>420590</td>\n",
       "      <td>0</td>\n",
       "      <td>TO DOWNTOWN</td>\n",
       "      <td>...</td>\n",
       "      <td>0</td>\n",
       "      <td>1</td>\n",
       "      <td>0</td>\n",
       "      <td>0.0</td>\n",
       "      <td>0</td>\n",
       "      <td>2</td>\n",
       "      <td>56.550000</td>\n",
       "      <td>AP</td>\n",
       "      <td>0</td>\n",
       "      <td>-0.233566</td>\n",
       "    </tr>\n",
       "    <tr>\n",
       "      <th>552908</th>\n",
       "      <td>120250210</td>\n",
       "      <td>1</td>\n",
       "      <td>117589228</td>\n",
       "      <td>2025-02-10</td>\n",
       "      <td>50</td>\n",
       "      <td>9302</td>\n",
       "      <td>3246</td>\n",
       "      <td>420590</td>\n",
       "      <td>0</td>\n",
       "      <td>TO DOWNTOWN</td>\n",
       "      <td>...</td>\n",
       "      <td>0</td>\n",
       "      <td>0</td>\n",
       "      <td>0</td>\n",
       "      <td>NaN</td>\n",
       "      <td>0</td>\n",
       "      <td>3</td>\n",
       "      <td>2.200000</td>\n",
       "      <td>AP</td>\n",
       "      <td>0</td>\n",
       "      <td>-0.233566</td>\n",
       "    </tr>\n",
       "    <tr>\n",
       "      <th>552909</th>\n",
       "      <td>120250210</td>\n",
       "      <td>1</td>\n",
       "      <td>117589359</td>\n",
       "      <td>2025-02-10</td>\n",
       "      <td>50</td>\n",
       "      <td>9950</td>\n",
       "      <td>2254</td>\n",
       "      <td>420621</td>\n",
       "      <td>0</td>\n",
       "      <td>TO DOWNTOWN</td>\n",
       "      <td>...</td>\n",
       "      <td>0</td>\n",
       "      <td>1</td>\n",
       "      <td>0</td>\n",
       "      <td>0.0</td>\n",
       "      <td>0</td>\n",
       "      <td>2</td>\n",
       "      <td>24.883333</td>\n",
       "      <td>AP</td>\n",
       "      <td>0</td>\n",
       "      <td>-0.233566</td>\n",
       "    </tr>\n",
       "    <tr>\n",
       "      <th>552910</th>\n",
       "      <td>120250210</td>\n",
       "      <td>1</td>\n",
       "      <td>117589360</td>\n",
       "      <td>2025-02-10</td>\n",
       "      <td>50</td>\n",
       "      <td>9950</td>\n",
       "      <td>2254</td>\n",
       "      <td>420621</td>\n",
       "      <td>0</td>\n",
       "      <td>TO DOWNTOWN</td>\n",
       "      <td>...</td>\n",
       "      <td>0</td>\n",
       "      <td>1</td>\n",
       "      <td>0</td>\n",
       "      <td>NaN</td>\n",
       "      <td>0</td>\n",
       "      <td>3</td>\n",
       "      <td>0.000000</td>\n",
       "      <td>AP</td>\n",
       "      <td>0</td>\n",
       "      <td>-0.233566</td>\n",
       "    </tr>\n",
       "  </tbody>\n",
       "</table>\n",
       "<p>5938 rows × 33 columns</p>\n",
       "</div>"
      ],
      "text/plain": [
       "        CALENDAR_ID  SERVICE_ABBR  ADHERENCE_ID       DATE  ROUTE_ABBR  \\\n",
       "546973    120250203             1     117339007 2025-02-03          50   \n",
       "546974    120250203             1     117339008 2025-02-03          50   \n",
       "546975    120250203             1     117339821 2025-02-03          50   \n",
       "546976    120250203             1     117339822 2025-02-03          50   \n",
       "546977    120250203             1     117339823 2025-02-03          50   \n",
       "...             ...           ...           ...        ...         ...   \n",
       "552906    120250210             1     117588646 2025-02-10          50   \n",
       "552907    120250210             1     117589227 2025-02-10          50   \n",
       "552908    120250210             1     117589228 2025-02-10          50   \n",
       "552909    120250210             1     117589359 2025-02-10          50   \n",
       "552910    120250210             1     117589360 2025-02-10          50   \n",
       "\n",
       "        BLOCK_ABBR  OPERATOR  TRIP_ID  OVERLOAD_ID ROUTE_DIRECTION_NAME  ...  \\\n",
       "546973         318      3443   417223            0          TO DOWNTOWN  ...   \n",
       "546974         318      3443   417223            0          TO DOWNTOWN  ...   \n",
       "546975        5000       329   417725            0          TO DOWNTOWN  ...   \n",
       "546976        5000       329   417725            0          TO DOWNTOWN  ...   \n",
       "546977        5000       329   417725            0          TO DOWNTOWN  ...   \n",
       "...            ...       ...      ...          ...                  ...  ...   \n",
       "552906        8401      3077   420453            0        FROM DOWNTOWN  ...   \n",
       "552907        9302      3246   420590            0          TO DOWNTOWN  ...   \n",
       "552908        9302      3246   420590            0          TO DOWNTOWN  ...   \n",
       "552909        9950      2254   420621            0          TO DOWNTOWN  ...   \n",
       "552910        9950      2254   420621            0          TO DOWNTOWN  ...   \n",
       "\n",
       "       ADJUSTED_LATE_COUNT  ADJUSTED_ONTIME_COUNT  STOP_CANCELLED  \\\n",
       "546973                   0                      1               0   \n",
       "546974                   0                      0               0   \n",
       "546975                   0                      0               0   \n",
       "546976                   0                      1               0   \n",
       "546977                   0                      1               0   \n",
       "...                    ...                    ...             ...   \n",
       "552906                   0                      0               0   \n",
       "552907                   0                      1               0   \n",
       "552908                   0                      0               0   \n",
       "552909                   0                      1               0   \n",
       "552910                   0                      1               0   \n",
       "\n",
       "        PREV_SCHED_STOP_CANCELLED  IS_RELIEF BLOCK_STOP_ORDER DWELL_IN_MINS  \\\n",
       "546973                        0.0          0                2     35.766666   \n",
       "546974                        NaN          0                3      0.000000   \n",
       "546975                        0.0          0                2      7.550000   \n",
       "546976                        0.0          0                5      0.000000   \n",
       "546977                        0.0          0               11      0.000000   \n",
       "...                           ...        ...              ...           ...   \n",
       "552906                        NaN          0               23      5.916666   \n",
       "552907                        0.0          0                2     56.550000   \n",
       "552908                        NaN          0                3      2.200000   \n",
       "552909                        0.0          0                2     24.883333   \n",
       "552910                        NaN          0                3      0.000000   \n",
       "\n",
       "       TIME_OF_DAY_CATEGORY  DAY_NUM  AVG_ADHERENCE  \n",
       "546973                   AP        0      -0.233566  \n",
       "546974                   AP        0      -0.233566  \n",
       "546975                  NaN        0      -0.233566  \n",
       "546976                  NaN        0      -0.233566  \n",
       "546977                  NaN        0      -0.233566  \n",
       "...                     ...      ...            ...  \n",
       "552906                   EM        0      -0.233566  \n",
       "552907                   AP        0      -0.233566  \n",
       "552908                   AP        0      -0.233566  \n",
       "552909                   AP        0      -0.233566  \n",
       "552910                   AP        0      -0.233566  \n",
       "\n",
       "[5938 rows x 33 columns]"
      ]
     },
     "execution_count": 854,
     "metadata": {},
     "output_type": "execute_result"
    }
   ],
   "source": [
    "tsp_one_complete"
   ]
  },
  {
   "cell_type": "code",
   "execution_count": null,
   "id": "6da3116f-468f-4363-ad61-0e897e9be67e",
   "metadata": {},
   "outputs": [],
   "source": []
  }
 ],
 "metadata": {
  "kernelspec": {
   "display_name": "Python [conda env:base] *",
   "language": "python",
   "name": "conda-base-py"
  },
  "language_info": {
   "codemirror_mode": {
    "name": "ipython",
    "version": 3
   },
   "file_extension": ".py",
   "mimetype": "text/x-python",
   "name": "python",
   "nbconvert_exporter": "python",
   "pygments_lexer": "ipython3",
   "version": "3.12.7"
  }
 },
 "nbformat": 4,
 "nbformat_minor": 5
}
