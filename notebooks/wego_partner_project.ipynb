{
 "cells": [
  {
   "cell_type": "raw",
   "id": "58766662-48e5-45f0-9c74-1faf8e686a80",
   "metadata": {},
   "source": [
    "0 = Monday\n",
    "1 = Tuesday\n",
    "2 = Wednesday\n",
    "3 = Thursday\n",
    "4 = Friday\n",
    "5 = Saturday\n",
    "6 = Sunday"
   ]
  },
  {
   "cell_type": "raw",
   "id": "fc2703e0-31c6-4489-b6c0-7543c7ee78a1",
   "metadata": {},
   "source": [
    "INDEX:\n",
    "combined_adherence (use this)\n",
    "* adherance_early\n",
    "* adherance_late\n",
    "---bottom_half_drivers (Drivers with less than 1308 stops on this route)\n",
    "---bottom_half_driver_ids (Operator IDs with less than 1308 stops in a list form)\n",
    "---top_half_drivers (Drivers with more than 1308 stops on this route)\n",
    "---top_half_driver_ids (Operator IDs with more than 1308 stops in a list form)\n",
    "* tscpb_complete (Block from Feb 10 noon to April 28 noon where TSP Schedule-Conditional Priority is ON)\n",
    "* tsp_off_complete (Block from April 28 noon to May 5 noon where TSP is OFF)\n",
    "* tsp_one_complete (Block from Feb 3 noon to Feb 10 noon where TSP UNCONDITIONAL is ON)\n",
    "* tsp_two_complete (Block from May 5 at noon to May 12 noon where TSP UNCONDITIONAL is ON)\n",
    "* tsphc_complete (Block from may 12 at noon till end where TSP Headway Conditional is ON)\n",
    "---wego_sunday\n",
    "---wego_monday\n",
    "---wego_tuesday\n",
    "---wego_wednesday\n",
    "---wego_thursday\n",
    "---wego_friday\n",
    "---wego_saturday\n",
    "---wego_sunday\n",
    "---wego_weekday\n",
    "---wego_weekend\n",
    "---wego_day_of_week\n",
    "* top_tscpb (top drivers from Feb 10 noon to April 28 noon where TSP Schedule-Conditional Priority is ON)\n",
    "* bottom_tscpb (bottom drivers from Feb 10 noon to April 28 noon where TSP Schedule-Conditional Priority is ON)\n",
    "* top_tsp_off (top drivers from April 28 noon to May 5 noon where TSP is OFF)\n",
    "* bottom_tsp_off (bottom drivers from April 28 noon to May 5 noon where TSP is OFF)\n",
    "* top_tsp_one (top drivers from Feb 3 noon to Feb 10 noon where TSP UNCONDITIONAL is ON)\n",
    "* bottom_tsp_one (bottom drivers from Feb 3 noon to Feb 10 noon where TSP UNCONDITIONAL is ON)\n",
    "* top_tsphc (top drivers from may 12 at noon till may 12 midnight where TSP Headway Conditional is ON)\n",
    "* bottom_tsphc (bottom drivers from may 12 at noon till may 12 midnight where TSP Headway Conditional is ON)"
   ]
  },
  {
   "cell_type": "raw",
   "id": "91677a19-72e1-4605-9f5d-e815ec12d399",
   "metadata": {},
   "source": [
    "wego_time_buckets['TIME_BUCKET'] = np.where(wego_time_buckets['SCHEDULED_TIME']<'8:00:00','EM',\n",
    "                                np.where(wego_time_buckets['SCHEDULED_TIME']<'11:00:00',\"MP\",\n",
    "                                np.where(wego_time_buckets['SCHEDULED_TIME']<'14:00:00', \"MD\",\n",
    "                                np.where(wego_time_buckets['SCHEDULED_TIME']<'17:00:00', \"AP\",\n",
    "                                np.where(wego_time_buckets['SCHEDULED_TIME']<'20:00:00', \"EP\",\n",
    "                                np.where(wego_time_buckets['SCHEDULED_TIME']<'23:59:59', \"LN\", \"NOTHING\"))))))"
   ]
  },
  {
   "cell_type": "code",
   "execution_count": 1,
   "id": "9d5fc88b-439a-46f4-84e3-e93802b5324c",
   "metadata": {},
   "outputs": [],
   "source": [
    "import pandas as pd\n",
    "import calendar\n",
    "import numpy as np\n",
    "from datetime import date\n",
    "import matplotlib.pyplot as plt"
   ]
  },
  {
   "cell_type": "code",
   "execution_count": 2,
   "id": "4adb4e0d-1cd4-4ef9-b365-803e799f3c84",
   "metadata": {},
   "outputs": [],
   "source": [
    "wego = pd.read_csv(\"../data/Route 50 Timepoint and Headway Data, 1-1-2023 through 5-12-2025.csv\")"
   ]
  },
  {
   "cell_type": "code",
   "execution_count": 3,
   "id": "4f70081e-27b7-41e2-a3e2-29d9d9122ac2",
   "metadata": {},
   "outputs": [],
   "source": [
    "wego_day_of_week = wego.copy()"
   ]
  },
  {
   "cell_type": "code",
   "execution_count": 4,
   "id": "4c58d0ac-8308-4d00-8c74-255f40b52125",
   "metadata": {},
   "outputs": [
    {
     "name": "stdout",
     "output_type": "stream",
     "text": [
      "Index(['CALENDAR_ID', 'SERVICE_ABBR', 'ADHERENCE_ID', 'DATE', 'ROUTE_ABBR',\n",
      "       'BLOCK_ABBR', 'OPERATOR', 'TRIP_ID', 'OVERLOAD_ID',\n",
      "       'ROUTE_DIRECTION_NAME', 'TIME_POINT_ABBR', 'ROUTE_STOP_SEQUENCE',\n",
      "       'TRIP_EDGE', 'LATITUDE', 'LONGITUDE', 'SCHEDULED_TIME',\n",
      "       'ACTUAL_ARRIVAL_TIME', 'ACTUAL_DEPARTURE_TIME', 'ADHERENCE',\n",
      "       'SCHEDULED_HDWY', 'ACTUAL_HDWY', 'HDWY_DEV', 'ADJUSTED_EARLY_COUNT',\n",
      "       'ADJUSTED_LATE_COUNT', 'ADJUSTED_ONTIME_COUNT', 'STOP_CANCELLED',\n",
      "       'PREV_SCHED_STOP_CANCELLED', 'IS_RELIEF', 'BLOCK_STOP_ORDER',\n",
      "       'DWELL_IN_MINS'],\n",
      "      dtype='object')\n"
     ]
    }
   ],
   "source": [
    "print(wego_day_of_week.columns)"
   ]
  },
  {
   "cell_type": "code",
   "execution_count": 5,
   "id": "78cb997a-b6b4-4a2d-8531-7fcf2d848453",
   "metadata": {},
   "outputs": [],
   "source": [
    "wego_day_of_week['TIME_OF_DAY_CATEGORY']=pd.cut(wego_day_of_week['SCHEDULED_TIME'],bins=['05:00:00','08:00:00','11:00:00','14:00:00','17:00:00','20:00:00','24:00:00'],include_lowest=True,labels=['EM','MP','MD','AP','EP','LN'])"
   ]
  },
  {
   "cell_type": "code",
   "execution_count": 6,
   "id": "83285bba-29b9-40a3-9a8d-4a8ca264bc90",
   "metadata": {},
   "outputs": [],
   "source": [
    "wego_day_of_week['SCHEDULUED_HOUR'] = wego_day_of_week['SCHEDULED_TIME'].str[:2]"
   ]
  },
  {
   "cell_type": "code",
   "execution_count": 7,
   "id": "d54a3d59-ed47-4751-967f-c9e102103f8f",
   "metadata": {},
   "outputs": [],
   "source": [
    "wego_day_of_week['DATE']= pd.to_datetime(wego_day_of_week['DATE'])"
   ]
  },
  {
   "cell_type": "code",
   "execution_count": 9,
   "id": "19d138e8-6454-4243-9525-ff5655f7371f",
   "metadata": {},
   "outputs": [],
   "source": [
    "wego_day_of_week['DAY_NUM'] = wego_day_of_week['DATE'].dt.weekday"
   ]
  },
  {
   "cell_type": "code",
   "execution_count": 10,
   "id": "c44397dd-e8fe-465c-94b1-fd96a6c54cd3",
   "metadata": {},
   "outputs": [],
   "source": [
    "wego_sunday = wego_day_of_week[wego_day_of_week['DAY_NUM']==6]"
   ]
  },
  {
   "cell_type": "code",
   "execution_count": 11,
   "id": "1eac2ea3-4609-4643-a812-d1b16c2cb5ed",
   "metadata": {},
   "outputs": [],
   "source": [
    "wego_monday = wego_day_of_week[wego_day_of_week['DAY_NUM']==0]"
   ]
  },
  {
   "cell_type": "code",
   "execution_count": 12,
   "id": "ddf77af7-ef0c-4ae0-b9ea-c135d7754d9d",
   "metadata": {},
   "outputs": [],
   "source": [
    "wego_tuesday = wego_day_of_week[wego_day_of_week['DAY_NUM']==1]"
   ]
  },
  {
   "cell_type": "code",
   "execution_count": 13,
   "id": "20c8c186-5dc6-4cee-a390-bf9f65aa343b",
   "metadata": {},
   "outputs": [],
   "source": [
    "wego_wednesday =  wego_day_of_week[wego_day_of_week['DAY_NUM']==2]"
   ]
  },
  {
   "cell_type": "code",
   "execution_count": 14,
   "id": "aade4cac-bbcf-4aa5-bfe6-1f7fc37589c3",
   "metadata": {},
   "outputs": [],
   "source": [
    "wego_thursday =  wego_day_of_week[wego_day_of_week['DAY_NUM']==3]"
   ]
  },
  {
   "cell_type": "code",
   "execution_count": 15,
   "id": "6eea835b-f81c-4113-8eaf-7bdf4c5dad47",
   "metadata": {},
   "outputs": [],
   "source": [
    "wego_friday = wego_day_of_week[wego_day_of_week['DAY_NUM']==4]"
   ]
  },
  {
   "cell_type": "code",
   "execution_count": 16,
   "id": "dc403dc9-7e6d-4908-974d-ecc5ebbed85f",
   "metadata": {},
   "outputs": [],
   "source": [
    "wego_saturday = wego_day_of_week[wego_day_of_week['DAY_NUM']==5]"
   ]
  },
  {
   "cell_type": "code",
   "execution_count": 17,
   "id": "c8e50f13-ecff-403b-8bf8-dfa9ef10cea5",
   "metadata": {},
   "outputs": [],
   "source": [
    "wego_weekdays = wego_day_of_week[wego_day_of_week['DAY_NUM'] < 6]"
   ]
  },
  {
   "cell_type": "code",
   "execution_count": 18,
   "id": "05632398-74b7-44ed-8b34-6787475002e0",
   "metadata": {},
   "outputs": [],
   "source": [
    "wego_weekends = wego_day_of_week[wego_day_of_week['DAY_NUM'] > 5]"
   ]
  },
  {
   "cell_type": "code",
   "execution_count": 19,
   "id": "a5f22188-fb28-4dc8-8933-0f513b77f08b",
   "metadata": {},
   "outputs": [],
   "source": [
    "wego_copy = wego_day_of_week.copy()"
   ]
  },
  {
   "cell_type": "code",
   "execution_count": 20,
   "id": "39f38264-54fd-42de-b054-4d350f7d86fb",
   "metadata": {},
   "outputs": [],
   "source": [
    "wego_adherence = wego_copy[['ADHERENCE']]"
   ]
  },
  {
   "cell_type": "code",
   "execution_count": 21,
   "id": "d10b299b-7093-459f-ace0-20812871c93f",
   "metadata": {},
   "outputs": [],
   "source": [
    "adherence_late = wego_adherence[wego_adherence['ADHERENCE']< -6]"
   ]
  },
  {
   "cell_type": "code",
   "execution_count": 22,
   "id": "8b22b95e-24e6-40ba-a2c3-9c5a95eed106",
   "metadata": {},
   "outputs": [],
   "source": [
    "adherence_early = wego_adherence[wego_adherence['ADHERENCE']> 1]"
   ]
  },
  {
   "cell_type": "code",
   "execution_count": 23,
   "id": "a5aaa11a-800a-4384-b205-674633f66bc4",
   "metadata": {},
   "outputs": [],
   "source": [
    "tsp_one_chunk = wego_day_of_week[wego_day_of_week['DATE'].between('2025/2/4','2025/2/9')]\n",
    "tsp_one_first_day=wego_day_of_week[wego_day_of_week['DATE']=='2025/2/3']\n",
    "tsp_one_time = tsp_one_first_day[tsp_one_first_day['ACTUAL_ARRIVAL_TIME']>'12:00:00']\n",
    "tsp_one_last_day=wego_day_of_week[wego_day_of_week['DATE']=='2025/2/10']\n",
    "tsp_last_time = tsp_one_last_day[tsp_one_last_day['ACTUAL_ARRIVAL_TIME']<'12:00:00']\n",
    "tsp_one_complete = pd.concat([tsp_one_first_day, tsp_one_chunk,tsp_one_last_day])"
   ]
  },
  {
   "cell_type": "code",
   "execution_count": 24,
   "id": "d0af3345-7b2e-4fc0-a6a9-36f4043f8f4c",
   "metadata": {},
   "outputs": [],
   "source": [
    "tscpb_chunk = wego_day_of_week[wego_day_of_week['DATE'].between('2025/2/11','2025/4/27')]\n",
    "tscpb_first_day=wego_day_of_week[wego_day_of_week['DATE']=='2025/2/10']\n",
    "tscpb_first_time = tscpb_first_day[tscpb_first_day['ACTUAL_ARRIVAL_TIME']>'12:00:00']\n",
    "tscpb_last_day=wego_day_of_week[wego_day_of_week['DATE']=='2025/4/28']\n",
    "tscpb_last_time = tscpb_last_day[tscpb_last_day['ACTUAL_ARRIVAL_TIME']<'12:00:00']\n",
    "tscpb_complete = pd.concat([tscpb_first_time, tscpb_chunk, tscpb_last_time])"
   ]
  },
  {
   "cell_type": "code",
   "execution_count": 25,
   "id": "e18fcc7d-bbf5-475e-90ff-233881888162",
   "metadata": {},
   "outputs": [],
   "source": [
    "tsp_off_chunk = wego_day_of_week[wego_day_of_week['DATE'].between('2025/4/29','2025/5/4')]\n",
    "tsp_off_first_day = wego_day_of_week[wego_day_of_week['DATE']=='2025/4/28']\n",
    "tsp_off_first_time = tsp_off_first_day[tsp_off_first_day['ACTUAL_ARRIVAL_TIME']>'12:00:00']\n",
    "tsp_off_last_day = wego_day_of_week[wego_day_of_week['DATE']=='2025/5/5']\n",
    "tsp_off_last_time = tsp_off_last_day[tsp_off_last_day['ACTUAL_ARRIVAL_TIME']<'12:00:00']\n",
    "tsp_off_complete = pd.concat([tsp_off_first_time,tsp_off_chunk,tsp_off_last_time])"
   ]
  },
  {
   "cell_type": "code",
   "execution_count": 26,
   "id": "c10a7e05-58ea-4a64-b971-5a72f3abbf39",
   "metadata": {},
   "outputs": [],
   "source": [
    "tsp_two_chunk = wego_day_of_week[wego_day_of_week['DATE'].between('2025/5/6','2025/5/11')]\n",
    "tsp_two_first_day = wego_day_of_week[wego_day_of_week['DATE']=='2025/5/5']\n",
    "tsp_two_first_time = tsp_two_first_day[tsp_two_first_day['ACTUAL_ARRIVAL_TIME']>'12:00:00']\n",
    "tsp_two_last_day = wego_day_of_week[wego_day_of_week['DATE']=='2025/5/12']\n",
    "tsp_two_last_time = tsp_two_last_day[tsp_two_last_day['ACTUAL_ARRIVAL_TIME']<'12:00:00']\n",
    "tsp_two_complete = pd.concat ([tsp_two_first_time, tsp_two_chunk, tsp_two_last_time])"
   ]
  },
  {
   "cell_type": "code",
   "execution_count": 30,
   "id": "e47a536d-fd3b-45af-90d3-081ccc4aca95",
   "metadata": {},
   "outputs": [],
   "source": [
    "tsphc_chunk = wego_day_of_week[wego_day_of_week['DATE']>('2025/5/12')]\n",
    "tsphc_first_day = wego_day_of_week[wego_day_of_week['DATE']=='2025/5/12']\n",
    "tsphc_first_time = tsphc_first_day[tsphc_first_day['ACTUAL_ARRIVAL_TIME']>'12:00:00']\n",
    "tsphc_complete = pd.concat ([tsphc_first_time, tsphc_chunk])"
   ]
  },
  {
   "cell_type": "code",
   "execution_count": 31,
   "id": "1b6a915a-aa90-41c5-b875-8051cdb92321",
   "metadata": {},
   "outputs": [],
   "source": [
    "wego_drivers = wego_copy[['OPERATOR','DATE']]"
   ]
  },
  {
   "cell_type": "code",
   "execution_count": 33,
   "id": "911130d4-4277-4318-926b-0b237d247196",
   "metadata": {},
   "outputs": [],
   "source": [
    "wego_drivers_count = wego_drivers['OPERATOR'].nunique()"
   ]
  },
  {
   "cell_type": "code",
   "execution_count": 36,
   "id": "2e6f4846-30d6-42ca-82b1-30a929e08c14",
   "metadata": {},
   "outputs": [],
   "source": [
    "driver_stop_count = wego_drivers.groupby(('OPERATOR'), as_index=False).count()"
   ]
  },
  {
   "cell_type": "code",
   "execution_count": 40,
   "id": "32e7102b-2c25-464a-9513-90f61e1c22a8",
   "metadata": {},
   "outputs": [
    {
     "data": {
      "text/html": [
       "<div>\n",
       "<style scoped>\n",
       "    .dataframe tbody tr th:only-of-type {\n",
       "        vertical-align: middle;\n",
       "    }\n",
       "\n",
       "    .dataframe tbody tr th {\n",
       "        vertical-align: top;\n",
       "    }\n",
       "\n",
       "    .dataframe thead th {\n",
       "        text-align: right;\n",
       "    }\n",
       "</style>\n",
       "<table border=\"1\" class=\"dataframe\">\n",
       "  <thead>\n",
       "    <tr style=\"text-align: right;\">\n",
       "      <th></th>\n",
       "      <th>OPERATOR</th>\n",
       "      <th>DATE</th>\n",
       "    </tr>\n",
       "  </thead>\n",
       "  <tbody>\n",
       "    <tr>\n",
       "      <th>0</th>\n",
       "      <td>0</td>\n",
       "      <td>17</td>\n",
       "    </tr>\n",
       "    <tr>\n",
       "      <th>1</th>\n",
       "      <td>201</td>\n",
       "      <td>30</td>\n",
       "    </tr>\n",
       "    <tr>\n",
       "      <th>2</th>\n",
       "      <td>250</td>\n",
       "      <td>24</td>\n",
       "    </tr>\n",
       "    <tr>\n",
       "      <th>3</th>\n",
       "      <td>304</td>\n",
       "      <td>21485</td>\n",
       "    </tr>\n",
       "    <tr>\n",
       "      <th>4</th>\n",
       "      <td>327</td>\n",
       "      <td>12</td>\n",
       "    </tr>\n",
       "    <tr>\n",
       "      <th>...</th>\n",
       "      <td>...</td>\n",
       "      <td>...</td>\n",
       "    </tr>\n",
       "    <tr>\n",
       "      <th>468</th>\n",
       "      <td>3511</td>\n",
       "      <td>132</td>\n",
       "    </tr>\n",
       "    <tr>\n",
       "      <th>469</th>\n",
       "      <td>3512</td>\n",
       "      <td>186</td>\n",
       "    </tr>\n",
       "    <tr>\n",
       "      <th>470</th>\n",
       "      <td>3519</td>\n",
       "      <td>29</td>\n",
       "    </tr>\n",
       "    <tr>\n",
       "      <th>471</th>\n",
       "      <td>3521</td>\n",
       "      <td>30</td>\n",
       "    </tr>\n",
       "    <tr>\n",
       "      <th>472</th>\n",
       "      <td>3523</td>\n",
       "      <td>47</td>\n",
       "    </tr>\n",
       "  </tbody>\n",
       "</table>\n",
       "<p>473 rows × 2 columns</p>\n",
       "</div>"
      ],
      "text/plain": [
       "     OPERATOR   DATE\n",
       "0           0     17\n",
       "1         201     30\n",
       "2         250     24\n",
       "3         304  21485\n",
       "4         327     12\n",
       "..        ...    ...\n",
       "468      3511    132\n",
       "469      3512    186\n",
       "470      3519     29\n",
       "471      3521     30\n",
       "472      3523     47\n",
       "\n",
       "[473 rows x 2 columns]"
      ]
     },
     "execution_count": 40,
     "metadata": {},
     "output_type": "execute_result"
    }
   ],
   "source": [
    "driver_stop_count"
   ]
  },
  {
   "cell_type": "code",
   "execution_count": 45,
   "id": "85e89d87-f39f-48ba-8940-b3d100bdc0f9",
   "metadata": {},
   "outputs": [
    {
     "data": {
      "text/plain": [
       "1308.6638477801268"
      ]
     },
     "execution_count": 45,
     "metadata": {},
     "output_type": "execute_result"
    }
   ],
   "source": [
    "driver_stop_count['DATE'].mean()"
   ]
  },
  {
   "cell_type": "code",
   "execution_count": 47,
   "id": "e9de8c59-651a-4c13-b891-67bb6e3cab23",
   "metadata": {},
   "outputs": [],
   "source": [
    "top_half_drivers = driver_stop_count[driver_stop_count['DATE']>1308]"
   ]
  },
  {
   "cell_type": "code",
   "execution_count": 50,
   "id": "9f63d868-3750-478a-b9a4-445d549ecbde",
   "metadata": {},
   "outputs": [],
   "source": [
    "bottom_half_drivers = driver_stop_count[driver_stop_count['DATE']<1308]"
   ]
  },
  {
   "cell_type": "code",
   "execution_count": 55,
   "id": "ca548d28-02e3-4f2a-8792-f30fd71dd78b",
   "metadata": {},
   "outputs": [],
   "source": [
    "top_half_driver_ids = top_half_drivers['OPERATOR'].tolist()"
   ]
  },
  {
   "cell_type": "code",
   "execution_count": 60,
   "id": "dede9522-650f-4687-8dcd-307b4ce2960f",
   "metadata": {},
   "outputs": [],
   "source": [
    "bottom_half_driver_ids = bottom_half_drivers['OPERATOR'].tolist()"
   ]
  },
  {
   "cell_type": "code",
   "execution_count": 61,
   "id": "c60e7630-cdf1-48fa-8ea2-44c141351749",
   "metadata": {},
   "outputs": [],
   "source": [
    "wego_trip_id_operators = wego_day_of_week[['OPERATOR', 'TRIP_ID']]\n",
    "driver_trip_count = wego_trip_id_operators.groupby('OPERATOR')['TRIP_ID'].nunique().reset_index()\n",
    "driver_trip_count.columns = ['OPERATOR','TRIPS']\n",
    "driver_trip_count_sorted = driver_trip_count.sort_values(by='TRIPS')\n",
    "driver_trip_count_mean = driver_trip_count['TRIPS'].mean()\n",
    "experienced_drivers = driver_trip_count[driver_trip_count['TRIPS']>65]\n",
    "inexperienced_drivers = driver_trip_count[driver_trip_count['TRIPS']<65]\n",
    "experienced_driver_list = experienced_drivers['OPERATOR'].tolist()\n",
    "inexperienced_driver_list = inexperienced_drivers['OPERATOR'].tolist()"
   ]
  },
  {
   "cell_type": "code",
   "execution_count": 62,
   "id": "eac5cd5f-9d56-4f1f-933c-f8e5a1cfa813",
   "metadata": {},
   "outputs": [],
   "source": [
    "top_tscpb = tscpb_complete[tscpb_complete['OPERATOR'].isin(experienced_driver_list)]"
   ]
  },
  {
   "cell_type": "code",
   "execution_count": 63,
   "id": "5d8a79e5-a61c-4701-a9cf-8130689af7f4",
   "metadata": {},
   "outputs": [],
   "source": [
    "bottom_tscpb = tscpb_complete[tscpb_complete['OPERATOR'].isin(inexperienced_driver_list)]"
   ]
  },
  {
   "cell_type": "code",
   "execution_count": 66,
   "id": "969ad7e1-8be7-4719-849d-b5b2e61a32bd",
   "metadata": {},
   "outputs": [],
   "source": [
    "top_tsp_off = tsp_off_complete[tsp_off_complete['OPERATOR'].isin(experienced_driver_list)]"
   ]
  },
  {
   "cell_type": "code",
   "execution_count": 68,
   "id": "6f6230ed-26fb-44f8-a43b-1ee47e16e307",
   "metadata": {},
   "outputs": [],
   "source": [
    "bottom_tsp_off = tsp_off_complete[tsp_off_complete['OPERATOR'].isin(inexperienced_driver_list)]"
   ]
  },
  {
   "cell_type": "code",
   "execution_count": 69,
   "id": "8fa332fe-767e-4c71-8d43-2b1ed62867e8",
   "metadata": {},
   "outputs": [],
   "source": [
    "top_tsp_one = tsp_one_complete[tsp_one_complete['OPERATOR'].isin(experienced_driver_list)]"
   ]
  },
  {
   "cell_type": "code",
   "execution_count": 71,
   "id": "f797d5eb-76ad-4b5a-ab87-df569df8ecae",
   "metadata": {},
   "outputs": [],
   "source": [
    "bottom_tsp_one = tsp_one_complete[tsp_one_complete['OPERATOR'].isin(inexperienced_driver_list)]"
   ]
  },
  {
   "cell_type": "code",
   "execution_count": 72,
   "id": "54ac08e3-687f-4ccf-b632-a46fe09acfa0",
   "metadata": {},
   "outputs": [],
   "source": [
    "top_tsp_two = tsp_two_complete[tsp_two_complete['OPERATOR'].isin(experienced_driver_list)]"
   ]
  },
  {
   "cell_type": "code",
   "execution_count": 73,
   "id": "ffbba3e9-f6c6-4810-8381-17f7f08b7393",
   "metadata": {},
   "outputs": [],
   "source": [
    "bottom_tsp_two = tsp_two_complete[tsp_two_complete['OPERATOR'].isin(inexperienced_driver_list)]"
   ]
  },
  {
   "cell_type": "code",
   "execution_count": 75,
   "id": "6c122ed9-e85d-4900-a076-0c4c4916171a",
   "metadata": {},
   "outputs": [],
   "source": [
    "top_tsphc = tsphc_complete[tsphc_complete['OPERATOR'].isin(experienced_driver_list)]"
   ]
  },
  {
   "cell_type": "code",
   "execution_count": 76,
   "id": "b64130ad-652d-45d7-b26f-1ff34a8721eb",
   "metadata": {},
   "outputs": [],
   "source": [
    "bottom_tsphc = tsphc_complete[tsphc_complete['OPERATOR'].isin(inexperienced_driver_list)]"
   ]
  },
  {
   "cell_type": "code",
   "execution_count": 78,
   "id": "29dc1b59-b6c1-4336-aed7-4f4afaf951d1",
   "metadata": {},
   "outputs": [],
   "source": [
    "top_tsp_off_adherence = top_tsp_off['ADHERENCE'].mean()\n",
    "bottom_tsp_off_adherence = bottom_tsp_off['ADHERENCE'].mean()"
   ]
  },
  {
   "cell_type": "code",
   "execution_count": 80,
   "id": "e5c26d02-2190-40ec-8d55-a280e4f10ea1",
   "metadata": {},
   "outputs": [],
   "source": [
    "top_tscpb_adherence = top_tscpb['ADHERENCE'].mean()\n",
    "bottom_tscpb_adherence = bottom_tscpb['ADHERENCE'].mean()"
   ]
  },
  {
   "cell_type": "code",
   "execution_count": 82,
   "id": "985a7508-0d0a-416f-b018-ab72f1f621d7",
   "metadata": {},
   "outputs": [],
   "source": [
    "top_tsp_one_adherence = top_tsp_one['ADHERENCE'].mean()\n",
    "bottom_tsp_one_adherence = bottom_tsp_one['ADHERENCE'].mean()"
   ]
  },
  {
   "cell_type": "code",
   "execution_count": 83,
   "id": "da49b7ff-6874-4360-b443-ffd0fd198a76",
   "metadata": {},
   "outputs": [],
   "source": [
    "top_tsp_two_adherence = top_tsp_two['ADHERENCE'].mean()\n",
    "bottom_tsp_two_adherence = bottom_tsp_two['ADHERENCE'].mean()"
   ]
  },
  {
   "cell_type": "code",
   "execution_count": 85,
   "id": "1876a520-efde-4244-a077-28ecc0937738",
   "metadata": {},
   "outputs": [],
   "source": [
    "top_tsphc_adherence = top_tsphc['ADHERENCE'].mean()\n",
    "bottom_tsphc_adherence = bottom_tsphc['ADHERENCE'].mean()"
   ]
  },
  {
   "cell_type": "code",
   "execution_count": 86,
   "id": "350d3c3b-76a5-4a51-8710-a52c412d9252",
   "metadata": {},
   "outputs": [
    {
     "name": "stdout",
     "output_type": "stream",
     "text": [
      "-2.886129364314248 top off\n",
      "-3.4073392035029193 bottom off\n",
      "-2.2572179455560026 top priority on\n",
      "-2.821858932569584 bottom priority on\n",
      "-0.27631757323293654 top on trial 1\n",
      "-0.12947554724880397 bottom on trial 1\n",
      "-2.8194717008003765 top on trial 2\n",
      "-2.915137049411765 bottom on trial 2\n",
      "-1.8413873708133972 top on final\n",
      "-1.8722219545454544 bottom on final\n"
     ]
    }
   ],
   "source": [
    "print(top_tsp_off_adherence, 'top off')\n",
    "print(bottom_tsp_off_adherence, 'bottom off')\n",
    "print(top_tscpb_adherence, 'top priority on')\n",
    "print(bottom_tscpb_adherence, 'bottom priority on')\n",
    "print(top_tsp_one_adherence, 'top on trial 1')\n",
    "print(bottom_tsp_one_adherence, 'bottom on trial 1')\n",
    "print(top_tsp_two_adherence, 'top on trial 2')\n",
    "print(bottom_tsp_two_adherence, 'bottom on trial 2')\n",
    "print(top_tsphc_adherence, 'top on final')\n",
    "print(bottom_tsphc_adherence, 'bottom on final')"
   ]
  },
  {
   "cell_type": "code",
   "execution_count": 90,
   "id": "e14c2f38-db54-4a1a-b06c-b18329f71f57",
   "metadata": {},
   "outputs": [],
   "source": [
    "wego_monday_adherence = wego_monday['ADHERENCE'].mean()"
   ]
  },
  {
   "cell_type": "code",
   "execution_count": 92,
   "id": "8124c87f-0812-4062-bb85-6bb145222d1f",
   "metadata": {},
   "outputs": [],
   "source": [
    "wego_tuesday_adherence = wego_tuesday['ADHERENCE'].mean()"
   ]
  },
  {
   "cell_type": "code",
   "execution_count": 96,
   "id": "d35c080e-0611-4cf7-adeb-2374d74d5dec",
   "metadata": {},
   "outputs": [],
   "source": [
    "wego_wednesday_adherence = wego_wednesday['ADHERENCE'].mean()"
   ]
  },
  {
   "cell_type": "code",
   "execution_count": 100,
   "id": "9aec4ca7-561c-48c9-9ed3-00aec0144229",
   "metadata": {},
   "outputs": [],
   "source": [
    "wego_thursday_adherence = wego_thursday['ADHERENCE'].mean()"
   ]
  },
  {
   "cell_type": "code",
   "execution_count": 103,
   "id": "b2d84274-9eb9-4078-8fee-0bfb4b76ecc2",
   "metadata": {},
   "outputs": [],
   "source": [
    "wego_friday_adherence = wego_friday['ADHERENCE'].mean()"
   ]
  },
  {
   "cell_type": "code",
   "execution_count": 106,
   "id": "172f8840-8737-47fa-b747-38c68779bd91",
   "metadata": {},
   "outputs": [],
   "source": [
    "wego_saturday_adherence = wego_saturday['ADHERENCE'].mean()"
   ]
  },
  {
   "cell_type": "code",
   "execution_count": 109,
   "id": "26fa4650-fbc5-48e3-b5b9-01d26d6970ab",
   "metadata": {},
   "outputs": [],
   "source": [
    "wego_sunday_adherence = wego_sunday['ADHERENCE'].mean()"
   ]
  },
  {
   "cell_type": "code",
   "execution_count": 112,
   "id": "d9726a39-2124-4c14-8ea5-e92a17a4aea0",
   "metadata": {},
   "outputs": [
    {
     "name": "stdout",
     "output_type": "stream",
     "text": [
      "-2.330962455072432\n",
      "-2.6637147088153594\n",
      "-2.666189200916592\n",
      "-2.5750338246646076\n",
      "-2.661883506055409\n",
      "-2.7124328242771685\n",
      "-1.5915072928118903\n"
     ]
    }
   ],
   "source": [
    "print(wego_monday_adherence)\n",
    "print(wego_tuesday_adherence)\n",
    "print(wego_wednesday_adherence)\n",
    "print(wego_thursday_adherence)\n",
    "print(wego_friday_adherence)\n",
    "print(wego_saturday_adherence)\n",
    "print(wego_sunday_adherence)"
   ]
  },
  {
   "cell_type": "code",
   "execution_count": 113,
   "id": "9a45ad61-0084-4e90-bc43-da2554bfa81e",
   "metadata": {},
   "outputs": [],
   "source": [
    "tscpb_headway_mean = tscpb_complete['HDWY_DEV'].mean()"
   ]
  },
  {
   "cell_type": "code",
   "execution_count": 116,
   "id": "1c4dd71b-3c2f-4ff0-aa36-bcaded01caab",
   "metadata": {},
   "outputs": [],
   "source": [
    "tscpb_scheduled_headway_mean = tscpb_complete['SCHEDULED_HDWY'].mean()"
   ]
  },
  {
   "cell_type": "code",
   "execution_count": 117,
   "id": "bd71166b-b8be-4df5-b4f7-9e1448eb7324",
   "metadata": {},
   "outputs": [],
   "source": [
    "tscpb_headway_deviation_percentage = (tscpb_headway_mean/tscpb_scheduled_headway_mean) * 100"
   ]
  },
  {
   "cell_type": "code",
   "execution_count": 119,
   "id": "f44385bd-0fda-4bee-867a-584d49d0a173",
   "metadata": {},
   "outputs": [
    {
     "name": "stdout",
     "output_type": "stream",
     "text": [
      "4.828999946623068\n"
     ]
    }
   ],
   "source": [
    "print(tscpb_headway_deviation_percentage)"
   ]
  },
  {
   "cell_type": "code",
   "execution_count": 121,
   "id": "17bb6799-6669-4441-9b1f-0a72b69d8d37",
   "metadata": {},
   "outputs": [],
   "source": [
    "tsp_one_headway_mean = tsp_one_complete['HDWY_DEV'].mean()"
   ]
  },
  {
   "cell_type": "code",
   "execution_count": 123,
   "id": "fd673452-ef67-4e6e-830e-c2dd40875477",
   "metadata": {},
   "outputs": [],
   "source": [
    "tsp_one_scheduled_headway_mean = tsp_one_complete['SCHEDULED_HDWY'].mean()"
   ]
  },
  {
   "cell_type": "code",
   "execution_count": 125,
   "id": "47363e90-2727-4059-b8aa-fa24accfa8cd",
   "metadata": {},
   "outputs": [],
   "source": [
    "tsp_one_deviation_percentage = (tsp_one_headway_mean/tsp_one_scheduled_headway_mean) * 100"
   ]
  },
  {
   "cell_type": "code",
   "execution_count": 127,
   "id": "46f73272-c2bd-48c3-8512-a82125d27d1a",
   "metadata": {},
   "outputs": [
    {
     "name": "stdout",
     "output_type": "stream",
     "text": [
      "1.6514259085959742\n"
     ]
    }
   ],
   "source": [
    "print(tsp_one_deviation_percentage)"
   ]
  },
  {
   "cell_type": "code",
   "execution_count": 130,
   "id": "9006b800-e614-4d42-b2b7-f6b76bb08f9a",
   "metadata": {},
   "outputs": [],
   "source": [
    "tsp_two_headway_mean = tsp_two_complete['HDWY_DEV'].mean()"
   ]
  },
  {
   "cell_type": "code",
   "execution_count": 133,
   "id": "e45ac3d4-5d3d-4feb-9f91-ae0d1c53098e",
   "metadata": {},
   "outputs": [],
   "source": [
    "tsp_two_scheduled_headway_mean = tsp_two_complete['SCHEDULED_HDWY'].mean()"
   ]
  },
  {
   "cell_type": "code",
   "execution_count": 136,
   "id": "fc5eefa9-fe39-4837-a4a6-773e47c37273",
   "metadata": {},
   "outputs": [],
   "source": [
    "tsp_two_deviation_percentage = (tsp_two_headway_mean / tsp_two_scheduled_headway_mean) * 100"
   ]
  },
  {
   "cell_type": "code",
   "execution_count": 139,
   "id": "2a199b7c-1a0e-4dcc-994a-f58c69934ec7",
   "metadata": {},
   "outputs": [
    {
     "name": "stdout",
     "output_type": "stream",
     "text": [
      "0.3709505558768034\n"
     ]
    }
   ],
   "source": [
    "print(tsp_two_deviation_percentage)"
   ]
  },
  {
   "cell_type": "code",
   "execution_count": 141,
   "id": "1c10f841-3d1c-44d4-a9e1-69df2304c971",
   "metadata": {},
   "outputs": [],
   "source": [
    "tsp_off_headway_time_means = tsp_off_complete.groupby('TIME_OF_DAY_CATEGORY', observed=False) ['HDWY_DEV'].mean()"
   ]
  },
  {
   "cell_type": "code",
   "execution_count": 143,
   "id": "8a64691b-cfa7-4e01-b551-9a1b6dc784af",
   "metadata": {},
   "outputs": [
    {
     "name": "stdout",
     "output_type": "stream",
     "text": [
      "TIME_OF_DAY_CATEGORY\n",
      "EM    0.432441\n",
      "MP    0.125451\n",
      "MD    0.392891\n",
      "AP    0.565516\n",
      "EP    0.413240\n",
      "LN    0.150124\n",
      "Name: HDWY_DEV, dtype: float64\n"
     ]
    }
   ],
   "source": [
    "print(tsp_off_headway_time_means)"
   ]
  },
  {
   "cell_type": "code",
   "execution_count": 145,
   "id": "43498ee5-541a-4ba6-ab2d-ab85055ab148",
   "metadata": {},
   "outputs": [],
   "source": [
    "tsp_off_scheduled_headway_means = tsp_off_complete.groupby('TIME_OF_DAY_CATEGORY', observed=False) ['SCHEDULED_HDWY'].mean()"
   ]
  },
  {
   "cell_type": "code",
   "execution_count": 147,
   "id": "35894f0f-41b6-475e-bc4b-6f9ae8000afa",
   "metadata": {},
   "outputs": [],
   "source": [
    "tsp_off_deviation_percentage = (tsp_off_headway_time_means/tsp_off_scheduled_headway_means) * 100"
   ]
  },
  {
   "cell_type": "code",
   "execution_count": 149,
   "id": "3d557527-4a84-44da-9d81-44ee051a3947",
   "metadata": {},
   "outputs": [
    {
     "name": "stdout",
     "output_type": "stream",
     "text": [
      "TIME_OF_DAY_CATEGORY\n",
      "EM    2.128532\n",
      "MP    0.730966\n",
      "MD    2.429193\n",
      "AP    3.537296\n",
      "EP    1.856492\n",
      "LN    0.501698\n",
      "dtype: float64\n"
     ]
    }
   ],
   "source": [
    "print(tsp_off_deviation_percentage)"
   ]
  },
  {
   "cell_type": "code",
   "execution_count": 152,
   "id": "cd6ca893-fefa-43b5-a099-9acf2ae98e62",
   "metadata": {},
   "outputs": [],
   "source": [
    "wego_time_buckets = wego_day_of_week.copy()"
   ]
  },
  {
   "cell_type": "raw",
   "id": "a1850180-5ddd-46c2-bc94-3b4c5a5f0d11",
   "metadata": {},
   "source": [
    "wego_time_buckets['TIME_BUCKET'] = np.where(wego_time_buckets['SCHEDULED_TIME']<'8:00:00','EM',\n",
    "                                np.where(wego_time_buckets['SCHEDULED_TIME']<'11:00:00',\"MP\",\n",
    "                                np.where(wego_time_buckets['SCHEDULED_TIME']<'14:00:00', \"MD\",\n",
    "                                np.where(wego_time_buckets['SCHEDULED_TIME']<'17:00:00', \"AP\",\n",
    "                                np.where(wego_time_buckets['SCHEDULED_TIME']<'20:00:00', \"EP\",\n",
    "                                np.where(wego_time_buckets['SCHEDULED_TIME']<'23:59:59', \"LN\", \"NOTHING\"))))))"
   ]
  },
  {
   "cell_type": "code",
   "execution_count": null,
   "id": "2129259a-83f4-457d-93bd-b2e6965aeee3",
   "metadata": {},
   "outputs": [],
   "source": []
  },
  {
   "cell_type": "code",
   "execution_count": null,
   "id": "c5d478a0-15bf-47b0-ab50-1b81ef7cfa26",
   "metadata": {},
   "outputs": [],
   "source": []
  },
  {
   "cell_type": "code",
   "execution_count": 159,
   "id": "73a2df2b-5ca2-40aa-9cc8-33a152c4b14c",
   "metadata": {},
   "outputs": [
    {
     "name": "stdout",
     "output_type": "stream",
     "text": [
      "       SCHEDULED_TIME TIME_OF_DAY_CATEGORY\n",
      "0            05:34:00                   EM\n",
      "1            05:40:00                   EM\n",
      "2            05:47:00                   EM\n",
      "3            05:50:00                   EM\n",
      "4            05:54:00                   EM\n",
      "...               ...                  ...\n",
      "618993       07:40:00                   EM\n",
      "618994       15:05:00                   AP\n",
      "618995       15:18:00                   AP\n",
      "618996       15:20:00                   AP\n",
      "618997       15:37:00                   AP\n",
      "\n",
      "[618998 rows x 2 columns]\n"
     ]
    }
   ],
   "source": [
    "print(wego_time_buckets[['SCHEDULED_TIME','TIME_OF_DAY_CATEGORY']])"
   ]
  },
  {
   "cell_type": "code",
   "execution_count": 160,
   "id": "3a9364ec-b752-46db-a217-733b3c18da27",
   "metadata": {},
   "outputs": [],
   "source": [
    "adherence_time_top = top_tscpb.groupby('TIME_OF_DAY_CATEGORY', observed=False) [ 'ADHERENCE'].mean()"
   ]
  },
  {
   "cell_type": "code",
   "execution_count": 161,
   "id": "4dbfe73a-df89-4dfa-9718-34b78a5a9265",
   "metadata": {},
   "outputs": [
    {
     "name": "stdout",
     "output_type": "stream",
     "text": [
      "TIME_OF_DAY_CATEGORY\n",
      "EM   -1.545483\n",
      "MP   -2.215785\n",
      "MD   -2.514510\n",
      "AP   -3.431066\n",
      "EP   -2.437279\n",
      "LN   -1.481040\n",
      "Name: ADHERENCE, dtype: float64\n"
     ]
    }
   ],
   "source": [
    "print(adherence_time_top)"
   ]
  },
  {
   "cell_type": "code",
   "execution_count": 162,
   "id": "9f396186-029e-4039-93f8-7679e7ed1748",
   "metadata": {},
   "outputs": [],
   "source": [
    "adherence_time_top_off = top_tsp_off.groupby('TIME_OF_DAY_CATEGORY', observed=False) [ 'ADHERENCE'].mean()"
   ]
  },
  {
   "cell_type": "code",
   "execution_count": 167,
   "id": "0ee34e5a-1f10-4e1c-aab8-f304e23cf85d",
   "metadata": {},
   "outputs": [
    {
     "name": "stdout",
     "output_type": "stream",
     "text": [
      "TIME_OF_DAY_CATEGORY\n",
      "EM   -1.766927\n",
      "MP   -2.527655\n",
      "MD   -3.174612\n",
      "AP   -4.744923\n",
      "EP   -2.914845\n",
      "LN   -2.491884\n",
      "Name: ADHERENCE, dtype: float64\n"
     ]
    }
   ],
   "source": [
    "print(adherence_time_top_off)"
   ]
  },
  {
   "cell_type": "code",
   "execution_count": 168,
   "id": "6c498391-192d-4786-937c-91e0cb21b4c9",
   "metadata": {},
   "outputs": [],
   "source": [
    "combined_adherence = pd.concat([adherence_time_top, adherence_time_top_off], axis=1)"
   ]
  },
  {
   "cell_type": "code",
   "execution_count": 171,
   "id": "411d11d6-e75f-4318-b2be-436d9d9b0dde",
   "metadata": {},
   "outputs": [],
   "source": [
    "combined_adherence.columns= ['TPS_ON', 'TPS_OFF']"
   ]
  },
  {
   "cell_type": "code",
   "execution_count": 172,
   "id": "d7f8dc12-dc46-4859-beae-8df2708b28c6",
   "metadata": {},
   "outputs": [
    {
     "name": "stdout",
     "output_type": "stream",
     "text": [
      "                        TPS_ON   TPS_OFF\n",
      "TIME_OF_DAY_CATEGORY                    \n",
      "EM                   -1.545483 -1.766927\n",
      "MP                   -2.215785 -2.527655\n",
      "MD                   -2.514510 -3.174612\n",
      "AP                   -3.431066 -4.744923\n",
      "EP                   -2.437279 -2.914845\n",
      "LN                   -1.481040 -2.491884\n"
     ]
    }
   ],
   "source": [
    "print(combined_adherence)"
   ]
  },
  {
   "cell_type": "code",
   "execution_count": 248,
   "id": "79842801-9793-4c81-a320-48b82ce4f733",
   "metadata": {},
   "outputs": [],
   "source": [
    "list_adherence_time_top = combined_adherence['TPS_ON'].tolist()"
   ]
  },
  {
   "cell_type": "code",
   "execution_count": 250,
   "id": "55877e84-645c-4f2f-8040-7e111ab98a27",
   "metadata": {},
   "outputs": [],
   "source": [
    "list_adherence_time_top_off = combined_adherence['TPS_OFF'].tolist()"
   ]
  },
  {
   "cell_type": "code",
   "execution_count": 252,
   "id": "68c7cd75-73ea-45ed-b208-661072d29aa5",
   "metadata": {},
   "outputs": [],
   "source": [
    "adherence_time_bottom = bottom_tscpb.groupby('TIME_OF_DAY_CATEGORY', observed=False) [ 'ADHERENCE'].mean()\n",
    "adherence_time_bottom_off = bottom_tsp_off.groupby('TIME_OF_DAY_CATEGORY', observed=False) [ 'ADHERENCE'].mean()"
   ]
  },
  {
   "cell_type": "code",
   "execution_count": 254,
   "id": "3deac32d-1ef3-4634-9896-cfb9fdb43330",
   "metadata": {},
   "outputs": [
    {
     "name": "stdout",
     "output_type": "stream",
     "text": [
      "TIME_OF_DAY_CATEGORY\n",
      "EM   -1.307286\n",
      "MP   -3.084948\n",
      "MD   -3.568004\n",
      "AP   -3.302676\n",
      "EP   -2.581657\n",
      "LN   -1.403752\n",
      "Name: ADHERENCE, dtype: float64\n",
      "TIME_OF_DAY_CATEGORY\n",
      "EM   -1.196097\n",
      "MP   -3.496115\n",
      "MD   -3.849872\n",
      "AP   -4.566279\n",
      "EP   -2.693846\n",
      "LN   -2.219725\n",
      "Name: ADHERENCE, dtype: float64\n"
     ]
    }
   ],
   "source": [
    "print(adherence_time_bottom)\n",
    "print(adherence_time_bottom_off)"
   ]
  },
  {
   "cell_type": "code",
   "execution_count": 312,
   "id": "b2432cd6-5b89-4ee0-8309-78a3f75d8095",
   "metadata": {},
   "outputs": [],
   "source": [
    "combined_adherence_bottom = pd.concat([adherence_time_bottom, adherence_time_bottom_off], axis=1)\n",
    "combined_adherence_bottom.columns=['TPS_ON', 'TPS_OFF']\n",
    "list_adherence_time_bottom = combined_adherence_bottom['TPS_ON'].tolist()\n",
    "list_adherence_time_bottom_off = combined_adherence_bottom['TPS_OFF'].tolist()"
   ]
  },
  {
   "cell_type": "code",
   "execution_count": 256,
   "id": "8c118af0-2903-4ef6-83f2-9afa700c434c",
   "metadata": {},
   "outputs": [],
   "source": [
    "headwaydev_time_top = top_tscpb.groupby('TIME_OF_DAY_CATEGORY', observed=False) [ 'HDWY_DEV'].mean()\n",
    "scheduledheadwaydev_time_top = top_tscpb.groupby('TIME_OF_DAY_CATEGORY', observed=False) [ 'SCHEDULED_HDWY'].mean()\n",
    "headwaydev_time_top_off = top_tsp_off.groupby('TIME_OF_DAY_CATEGORY', observed=False) [ 'HDWY_DEV'].mean()\n",
    "scheduluedheadwaydev_time_top_off = top_tsp_off.groupby('TIME_OF_DAY_CATEGORY', observed=False) [ 'SCHEDULED_HDWY'].mean()"
   ]
  },
  {
   "cell_type": "code",
   "execution_count": 258,
   "id": "3b8ec541-2743-447c-ae17-4a465ce58eb1",
   "metadata": {},
   "outputs": [
    {
     "name": "stdout",
     "output_type": "stream",
     "text": [
      "TIME_OF_DAY_CATEGORY\n",
      "EM    0.831770\n",
      "MP    0.383368\n",
      "MD    0.776275\n",
      "AP    1.468636\n",
      "EP    0.991294\n",
      "LN    1.151695\n",
      "Name: HDWY_DEV, dtype: float64\n",
      "TIME_OF_DAY_CATEGORY\n",
      "EM    0.205256\n",
      "MP   -0.062890\n",
      "MD    0.450240\n",
      "AP    1.219561\n",
      "EP    0.703316\n",
      "LN   -0.055456\n",
      "Name: HDWY_DEV, dtype: float64\n"
     ]
    }
   ],
   "source": [
    "print(headwaydev_time_top)\n",
    "print(headwaydev_time_top_off)"
   ]
  },
  {
   "cell_type": "code",
   "execution_count": 260,
   "id": "ff2c0002-3012-4423-b18b-7ec5b1c8b5e4",
   "metadata": {},
   "outputs": [
    {
     "name": "stdout",
     "output_type": "stream",
     "text": [
      "TIME_OF_DAY_CATEGORY\n",
      "EM    19.893010\n",
      "MP    17.023802\n",
      "MD    15.813679\n",
      "AP    16.227262\n",
      "EP    22.816317\n",
      "LN    29.916290\n",
      "Name: SCHEDULED_HDWY, dtype: float64\n",
      "TIME_OF_DAY_CATEGORY\n",
      "EM    19.334177\n",
      "MP    16.732787\n",
      "MD    15.607752\n",
      "AP    15.300505\n",
      "EP    22.411184\n",
      "LN    29.909292\n",
      "Name: SCHEDULED_HDWY, dtype: float64\n"
     ]
    }
   ],
   "source": [
    "print(scheduledheadwaydev_time_top)\n",
    "print(scheduluedheadwaydev_time_top_off)"
   ]
  },
  {
   "cell_type": "code",
   "execution_count": 262,
   "id": "ac3ba165-4007-4a21-b005-671f21920ce7",
   "metadata": {},
   "outputs": [
    {
     "name": "stdout",
     "output_type": "stream",
     "text": [
      "TIME_OF_DAY_CATEGORY\n",
      "EM    0.041812\n",
      "MP    0.022520\n",
      "MD    0.049089\n",
      "AP    0.090504\n",
      "EP    0.043447\n",
      "LN    0.038497\n",
      "dtype: float64\n",
      "TIME_OF_DAY_CATEGORY\n",
      "EM    0.010616\n",
      "MP   -0.003759\n",
      "MD    0.028847\n",
      "AP    0.079707\n",
      "EP    0.031382\n",
      "LN   -0.001854\n",
      "dtype: float64\n"
     ]
    }
   ],
   "source": [
    "print(headwaydev_time_top/scheduledheadwaydev_time_top)\n",
    "print(headwaydev_time_top_off/scheduluedheadwaydev_time_top_off)"
   ]
  },
  {
   "cell_type": "code",
   "execution_count": 264,
   "id": "e98f9d43-09f0-4eb4-ad22-51980e0bccba",
   "metadata": {},
   "outputs": [],
   "source": [
    "headwaydev_time_bottom = bottom_tscpb.groupby('TIME_OF_DAY_CATEGORY', observed=False) [ 'HDWY_DEV'].count()\n",
    "scheduledheadwaydev_time_bottom = bottom_tscpb.groupby('TIME_OF_DAY_CATEGORY', observed=False) [ 'SCHEDULED_HDWY'].count()\n",
    "headwaydev_time_bottom_off = top_tsp_off.groupby('TIME_OF_DAY_CATEGORY', observed=False) [ 'HDWY_DEV'].count()\n",
    "scheduluedheadwaydev_time_top_off = top_tsp_off.groupby('TIME_OF_DAY_CATEGORY', observed=False) [ 'SCHEDULED_HDWY'].count()"
   ]
  },
  {
   "cell_type": "code",
   "execution_count": 266,
   "id": "8835bc93-cab4-4a9f-a376-20c810700472",
   "metadata": {},
   "outputs": [
    {
     "name": "stdout",
     "output_type": "stream",
     "text": [
      "TIME_OF_DAY_CATEGORY\n",
      "EM    0.921885\n",
      "MP    0.946642\n",
      "MD    0.951261\n",
      "AP    0.923496\n",
      "EP    0.929344\n",
      "LN    0.939535\n",
      "dtype: float64\n",
      "TIME_OF_DAY_CATEGORY\n",
      "EM    0.987342\n",
      "MP    0.998361\n",
      "MD    0.965891\n",
      "AP    0.959596\n",
      "EP    0.975329\n",
      "LN    0.986726\n",
      "dtype: float64\n"
     ]
    }
   ],
   "source": [
    "print(headwaydev_time_bottom/scheduledheadwaydev_time_bottom)\n",
    "print(headwaydev_time_bottom_off/scheduluedheadwaydev_time_top_off)"
   ]
  },
  {
   "cell_type": "code",
   "execution_count": 268,
   "id": "949e779a-3ddc-48b0-99f0-b62a1ea54d87",
   "metadata": {},
   "outputs": [],
   "source": [
    "to_downtown = wego_day_of_week[wego_day_of_week['ROUTE_DIRECTION_NAME']=='TO DOWNTOWN']"
   ]
  },
  {
   "cell_type": "code",
   "execution_count": 270,
   "id": "8d8d2139-11be-4326-986b-8b2c139ef9dd",
   "metadata": {},
   "outputs": [],
   "source": [
    "from_downtown = wego_day_of_week[wego_day_of_week['ROUTE_DIRECTION_NAME']=='FROM DOWNTOWN']"
   ]
  },
  {
   "cell_type": "code",
   "execution_count": 272,
   "id": "827b7a1d-d0d5-4d9e-b7f2-dc793d9b20e6",
   "metadata": {},
   "outputs": [],
   "source": [
    "top_total = wego_day_of_week[wego_day_of_week['OPERATOR'].isin(top_half_driver_ids)]"
   ]
  },
  {
   "cell_type": "code",
   "execution_count": 274,
   "id": "a1905009-af03-47d9-8f5f-909de0b37e99",
   "metadata": {},
   "outputs": [],
   "source": [
    "bottom_total = wego_day_of_week[wego_day_of_week['OPERATOR'].isin(bottom_half_driver_ids)]"
   ]
  },
  {
   "cell_type": "code",
   "execution_count": 276,
   "id": "31a33439-83a4-4d1b-82ac-9bdc47c41a80",
   "metadata": {},
   "outputs": [],
   "source": [
    "adherence_top = top_total.groupby('TIME_OF_DAY_CATEGORY', observed=False) [ 'ADHERENCE'].mean()"
   ]
  },
  {
   "cell_type": "code",
   "execution_count": 278,
   "id": "1453dd6b-8b0f-4769-84c6-10b6e9180421",
   "metadata": {},
   "outputs": [],
   "source": [
    "adherence_bottom = bottom_total.groupby('TIME_OF_DAY_CATEGORY', observed=False) [ 'ADHERENCE'].mean()"
   ]
  },
  {
   "cell_type": "code",
   "execution_count": 280,
   "id": "ece11c9c-3486-4246-a216-de647295e83b",
   "metadata": {},
   "outputs": [
    {
     "name": "stdout",
     "output_type": "stream",
     "text": [
      "TIME_OF_DAY_CATEGORY\n",
      "EM   -1.522237\n",
      "MP   -2.015654\n",
      "MD   -2.744973\n",
      "AP   -3.542150\n",
      "EP   -2.822427\n",
      "LN   -1.816927\n",
      "Name: ADHERENCE, dtype: float64\n",
      "TIME_OF_DAY_CATEGORY\n",
      "EM   -1.414484\n",
      "MP   -2.160426\n",
      "MD   -2.995577\n",
      "AP   -3.379134\n",
      "EP   -2.944483\n",
      "LN   -2.114110\n",
      "Name: ADHERENCE, dtype: float64\n"
     ]
    }
   ],
   "source": [
    "print(adherence_top)\n",
    "print(adherence_bottom)"
   ]
  },
  {
   "cell_type": "code",
   "execution_count": 282,
   "id": "9ef0c9a3-9fc4-4ce7-9901-c0eeee3cac9d",
   "metadata": {},
   "outputs": [
    {
     "data": {
      "text/html": [
       "<div>\n",
       "<style scoped>\n",
       "    .dataframe tbody tr th:only-of-type {\n",
       "        vertical-align: middle;\n",
       "    }\n",
       "\n",
       "    .dataframe tbody tr th {\n",
       "        vertical-align: top;\n",
       "    }\n",
       "\n",
       "    .dataframe thead th {\n",
       "        text-align: right;\n",
       "    }\n",
       "</style>\n",
       "<table border=\"1\" class=\"dataframe\">\n",
       "  <thead>\n",
       "    <tr style=\"text-align: right;\">\n",
       "      <th></th>\n",
       "      <th>CALENDAR_ID</th>\n",
       "      <th>SERVICE_ABBR</th>\n",
       "      <th>ADHERENCE_ID</th>\n",
       "      <th>DATE</th>\n",
       "      <th>ROUTE_ABBR</th>\n",
       "      <th>BLOCK_ABBR</th>\n",
       "      <th>OPERATOR</th>\n",
       "      <th>TRIP_ID</th>\n",
       "      <th>OVERLOAD_ID</th>\n",
       "      <th>ROUTE_DIRECTION_NAME</th>\n",
       "      <th>...</th>\n",
       "      <th>ADJUSTED_LATE_COUNT</th>\n",
       "      <th>ADJUSTED_ONTIME_COUNT</th>\n",
       "      <th>STOP_CANCELLED</th>\n",
       "      <th>PREV_SCHED_STOP_CANCELLED</th>\n",
       "      <th>IS_RELIEF</th>\n",
       "      <th>BLOCK_STOP_ORDER</th>\n",
       "      <th>DWELL_IN_MINS</th>\n",
       "      <th>TIME_OF_DAY_CATEGORY</th>\n",
       "      <th>SCHEDULUED_HOUR</th>\n",
       "      <th>DAY_NUM</th>\n",
       "    </tr>\n",
       "  </thead>\n",
       "  <tbody>\n",
       "    <tr>\n",
       "      <th>0</th>\n",
       "      <td>120230101</td>\n",
       "      <td>3</td>\n",
       "      <td>93549161</td>\n",
       "      <td>2023-01-01</td>\n",
       "      <td>50</td>\n",
       "      <td>5000</td>\n",
       "      <td>2355</td>\n",
       "      <td>332422</td>\n",
       "      <td>0</td>\n",
       "      <td>TO DOWNTOWN</td>\n",
       "      <td>...</td>\n",
       "      <td>0</td>\n",
       "      <td>1</td>\n",
       "      <td>0</td>\n",
       "      <td>0.0</td>\n",
       "      <td>0</td>\n",
       "      <td>2</td>\n",
       "      <td>8.133333</td>\n",
       "      <td>EM</td>\n",
       "      <td>05</td>\n",
       "      <td>6</td>\n",
       "    </tr>\n",
       "    <tr>\n",
       "      <th>1</th>\n",
       "      <td>120230101</td>\n",
       "      <td>3</td>\n",
       "      <td>93549162</td>\n",
       "      <td>2023-01-01</td>\n",
       "      <td>50</td>\n",
       "      <td>5000</td>\n",
       "      <td>2355</td>\n",
       "      <td>332422</td>\n",
       "      <td>0</td>\n",
       "      <td>TO DOWNTOWN</td>\n",
       "      <td>...</td>\n",
       "      <td>0</td>\n",
       "      <td>1</td>\n",
       "      <td>0</td>\n",
       "      <td>0.0</td>\n",
       "      <td>0</td>\n",
       "      <td>5</td>\n",
       "      <td>0.000000</td>\n",
       "      <td>EM</td>\n",
       "      <td>05</td>\n",
       "      <td>6</td>\n",
       "    </tr>\n",
       "    <tr>\n",
       "      <th>2</th>\n",
       "      <td>120230101</td>\n",
       "      <td>3</td>\n",
       "      <td>93549163</td>\n",
       "      <td>2023-01-01</td>\n",
       "      <td>50</td>\n",
       "      <td>5000</td>\n",
       "      <td>2355</td>\n",
       "      <td>332422</td>\n",
       "      <td>0</td>\n",
       "      <td>TO DOWNTOWN</td>\n",
       "      <td>...</td>\n",
       "      <td>0</td>\n",
       "      <td>1</td>\n",
       "      <td>0</td>\n",
       "      <td>0.0</td>\n",
       "      <td>0</td>\n",
       "      <td>11</td>\n",
       "      <td>0.000000</td>\n",
       "      <td>EM</td>\n",
       "      <td>05</td>\n",
       "      <td>6</td>\n",
       "    </tr>\n",
       "    <tr>\n",
       "      <th>3</th>\n",
       "      <td>120230101</td>\n",
       "      <td>3</td>\n",
       "      <td>93549164</td>\n",
       "      <td>2023-01-01</td>\n",
       "      <td>50</td>\n",
       "      <td>5000</td>\n",
       "      <td>2355</td>\n",
       "      <td>332422</td>\n",
       "      <td>0</td>\n",
       "      <td>TO DOWNTOWN</td>\n",
       "      <td>...</td>\n",
       "      <td>0</td>\n",
       "      <td>1</td>\n",
       "      <td>0</td>\n",
       "      <td>0.0</td>\n",
       "      <td>0</td>\n",
       "      <td>13</td>\n",
       "      <td>0.000000</td>\n",
       "      <td>EM</td>\n",
       "      <td>05</td>\n",
       "      <td>6</td>\n",
       "    </tr>\n",
       "    <tr>\n",
       "      <th>4</th>\n",
       "      <td>120230101</td>\n",
       "      <td>3</td>\n",
       "      <td>93549165</td>\n",
       "      <td>2023-01-01</td>\n",
       "      <td>50</td>\n",
       "      <td>5000</td>\n",
       "      <td>2355</td>\n",
       "      <td>332422</td>\n",
       "      <td>0</td>\n",
       "      <td>TO DOWNTOWN</td>\n",
       "      <td>...</td>\n",
       "      <td>0</td>\n",
       "      <td>1</td>\n",
       "      <td>0</td>\n",
       "      <td>0.0</td>\n",
       "      <td>0</td>\n",
       "      <td>18</td>\n",
       "      <td>2.150000</td>\n",
       "      <td>EM</td>\n",
       "      <td>05</td>\n",
       "      <td>6</td>\n",
       "    </tr>\n",
       "    <tr>\n",
       "      <th>...</th>\n",
       "      <td>...</td>\n",
       "      <td>...</td>\n",
       "      <td>...</td>\n",
       "      <td>...</td>\n",
       "      <td>...</td>\n",
       "      <td>...</td>\n",
       "      <td>...</td>\n",
       "      <td>...</td>\n",
       "      <td>...</td>\n",
       "      <td>...</td>\n",
       "      <td>...</td>\n",
       "      <td>...</td>\n",
       "      <td>...</td>\n",
       "      <td>...</td>\n",
       "      <td>...</td>\n",
       "      <td>...</td>\n",
       "      <td>...</td>\n",
       "      <td>...</td>\n",
       "      <td>...</td>\n",
       "      <td>...</td>\n",
       "      <td>...</td>\n",
       "    </tr>\n",
       "    <tr>\n",
       "      <th>618993</th>\n",
       "      <td>120250512</td>\n",
       "      <td>1</td>\n",
       "      <td>119531049</td>\n",
       "      <td>2025-05-12</td>\n",
       "      <td>50</td>\n",
       "      <td>8401</td>\n",
       "      <td>3077</td>\n",
       "      <td>432121</td>\n",
       "      <td>0</td>\n",
       "      <td>FROM DOWNTOWN</td>\n",
       "      <td>...</td>\n",
       "      <td>0</td>\n",
       "      <td>0</td>\n",
       "      <td>0</td>\n",
       "      <td>NaN</td>\n",
       "      <td>0</td>\n",
       "      <td>23</td>\n",
       "      <td>4.500000</td>\n",
       "      <td>EM</td>\n",
       "      <td>07</td>\n",
       "      <td>0</td>\n",
       "    </tr>\n",
       "    <tr>\n",
       "      <th>618994</th>\n",
       "      <td>120250512</td>\n",
       "      <td>1</td>\n",
       "      <td>119531638</td>\n",
       "      <td>2025-05-12</td>\n",
       "      <td>50</td>\n",
       "      <td>9302</td>\n",
       "      <td>3246</td>\n",
       "      <td>432353</td>\n",
       "      <td>0</td>\n",
       "      <td>TO DOWNTOWN</td>\n",
       "      <td>...</td>\n",
       "      <td>0</td>\n",
       "      <td>1</td>\n",
       "      <td>0</td>\n",
       "      <td>0.0</td>\n",
       "      <td>0</td>\n",
       "      <td>2</td>\n",
       "      <td>27.283333</td>\n",
       "      <td>AP</td>\n",
       "      <td>15</td>\n",
       "      <td>0</td>\n",
       "    </tr>\n",
       "    <tr>\n",
       "      <th>618995</th>\n",
       "      <td>120250512</td>\n",
       "      <td>1</td>\n",
       "      <td>119531639</td>\n",
       "      <td>2025-05-12</td>\n",
       "      <td>50</td>\n",
       "      <td>9302</td>\n",
       "      <td>3246</td>\n",
       "      <td>432353</td>\n",
       "      <td>0</td>\n",
       "      <td>TO DOWNTOWN</td>\n",
       "      <td>...</td>\n",
       "      <td>0</td>\n",
       "      <td>1</td>\n",
       "      <td>0</td>\n",
       "      <td>NaN</td>\n",
       "      <td>0</td>\n",
       "      <td>3</td>\n",
       "      <td>0.133333</td>\n",
       "      <td>AP</td>\n",
       "      <td>15</td>\n",
       "      <td>0</td>\n",
       "    </tr>\n",
       "    <tr>\n",
       "      <th>618996</th>\n",
       "      <td>120250512</td>\n",
       "      <td>1</td>\n",
       "      <td>119531770</td>\n",
       "      <td>2025-05-12</td>\n",
       "      <td>50</td>\n",
       "      <td>9950</td>\n",
       "      <td>2448</td>\n",
       "      <td>432387</td>\n",
       "      <td>0</td>\n",
       "      <td>TO DOWNTOWN</td>\n",
       "      <td>...</td>\n",
       "      <td>0</td>\n",
       "      <td>1</td>\n",
       "      <td>0</td>\n",
       "      <td>0.0</td>\n",
       "      <td>0</td>\n",
       "      <td>2</td>\n",
       "      <td>8.166666</td>\n",
       "      <td>AP</td>\n",
       "      <td>15</td>\n",
       "      <td>0</td>\n",
       "    </tr>\n",
       "    <tr>\n",
       "      <th>618997</th>\n",
       "      <td>120250512</td>\n",
       "      <td>1</td>\n",
       "      <td>119531771</td>\n",
       "      <td>2025-05-12</td>\n",
       "      <td>50</td>\n",
       "      <td>9950</td>\n",
       "      <td>2448</td>\n",
       "      <td>432387</td>\n",
       "      <td>0</td>\n",
       "      <td>TO DOWNTOWN</td>\n",
       "      <td>...</td>\n",
       "      <td>0</td>\n",
       "      <td>1</td>\n",
       "      <td>0</td>\n",
       "      <td>NaN</td>\n",
       "      <td>0</td>\n",
       "      <td>3</td>\n",
       "      <td>2.200000</td>\n",
       "      <td>AP</td>\n",
       "      <td>15</td>\n",
       "      <td>0</td>\n",
       "    </tr>\n",
       "  </tbody>\n",
       "</table>\n",
       "<p>618998 rows × 33 columns</p>\n",
       "</div>"
      ],
      "text/plain": [
       "        CALENDAR_ID  SERVICE_ABBR  ADHERENCE_ID       DATE  ROUTE_ABBR  \\\n",
       "0         120230101             3      93549161 2023-01-01          50   \n",
       "1         120230101             3      93549162 2023-01-01          50   \n",
       "2         120230101             3      93549163 2023-01-01          50   \n",
       "3         120230101             3      93549164 2023-01-01          50   \n",
       "4         120230101             3      93549165 2023-01-01          50   \n",
       "...             ...           ...           ...        ...         ...   \n",
       "618993    120250512             1     119531049 2025-05-12          50   \n",
       "618994    120250512             1     119531638 2025-05-12          50   \n",
       "618995    120250512             1     119531639 2025-05-12          50   \n",
       "618996    120250512             1     119531770 2025-05-12          50   \n",
       "618997    120250512             1     119531771 2025-05-12          50   \n",
       "\n",
       "        BLOCK_ABBR  OPERATOR  TRIP_ID  OVERLOAD_ID ROUTE_DIRECTION_NAME  ...  \\\n",
       "0             5000      2355   332422            0          TO DOWNTOWN  ...   \n",
       "1             5000      2355   332422            0          TO DOWNTOWN  ...   \n",
       "2             5000      2355   332422            0          TO DOWNTOWN  ...   \n",
       "3             5000      2355   332422            0          TO DOWNTOWN  ...   \n",
       "4             5000      2355   332422            0          TO DOWNTOWN  ...   \n",
       "...            ...       ...      ...          ...                  ...  ...   \n",
       "618993        8401      3077   432121            0        FROM DOWNTOWN  ...   \n",
       "618994        9302      3246   432353            0          TO DOWNTOWN  ...   \n",
       "618995        9302      3246   432353            0          TO DOWNTOWN  ...   \n",
       "618996        9950      2448   432387            0          TO DOWNTOWN  ...   \n",
       "618997        9950      2448   432387            0          TO DOWNTOWN  ...   \n",
       "\n",
       "       ADJUSTED_LATE_COUNT  ADJUSTED_ONTIME_COUNT  STOP_CANCELLED  \\\n",
       "0                        0                      1               0   \n",
       "1                        0                      1               0   \n",
       "2                        0                      1               0   \n",
       "3                        0                      1               0   \n",
       "4                        0                      1               0   \n",
       "...                    ...                    ...             ...   \n",
       "618993                   0                      0               0   \n",
       "618994                   0                      1               0   \n",
       "618995                   0                      1               0   \n",
       "618996                   0                      1               0   \n",
       "618997                   0                      1               0   \n",
       "\n",
       "        PREV_SCHED_STOP_CANCELLED  IS_RELIEF BLOCK_STOP_ORDER DWELL_IN_MINS  \\\n",
       "0                             0.0          0                2      8.133333   \n",
       "1                             0.0          0                5      0.000000   \n",
       "2                             0.0          0               11      0.000000   \n",
       "3                             0.0          0               13      0.000000   \n",
       "4                             0.0          0               18      2.150000   \n",
       "...                           ...        ...              ...           ...   \n",
       "618993                        NaN          0               23      4.500000   \n",
       "618994                        0.0          0                2     27.283333   \n",
       "618995                        NaN          0                3      0.133333   \n",
       "618996                        0.0          0                2      8.166666   \n",
       "618997                        NaN          0                3      2.200000   \n",
       "\n",
       "       TIME_OF_DAY_CATEGORY  SCHEDULUED_HOUR  DAY_NUM  \n",
       "0                        EM               05        6  \n",
       "1                        EM               05        6  \n",
       "2                        EM               05        6  \n",
       "3                        EM               05        6  \n",
       "4                        EM               05        6  \n",
       "...                     ...              ...      ...  \n",
       "618993                   EM               07        0  \n",
       "618994                   AP               15        0  \n",
       "618995                   AP               15        0  \n",
       "618996                   AP               15        0  \n",
       "618997                   AP               15        0  \n",
       "\n",
       "[618998 rows x 33 columns]"
      ]
     },
     "execution_count": 282,
     "metadata": {},
     "output_type": "execute_result"
    }
   ],
   "source": [
    "wego_day_of_week"
   ]
  },
  {
   "cell_type": "code",
   "execution_count": 284,
   "id": "e3aadeb4-a02c-4170-a6f2-1d00695818c2",
   "metadata": {},
   "outputs": [],
   "source": [
    "dict_adherence=[]\n",
    "\n",
    "def average_adherence(dataframe):\n",
    "    mean_adherence=dataframe['ADHERENCE'].mean()\n",
    "    dict_adherence.append(mean_adherence)\n",
    "    dataframe['AVG_ADHERENCE']=mean_adherence\n",
    "    print(mean_adherence)"
   ]
  },
  {
   "cell_type": "code",
   "execution_count": 286,
   "id": "1f3635f6-793c-4e22-8ff1-451f7d03ccc3",
   "metadata": {},
   "outputs": [],
   "source": [
    "dataframe_list = [tsp_one_complete, tscpb_complete, tsp_off_complete, tsp_two_complete, tsphc_complete]"
   ]
  },
  {
   "cell_type": "code",
   "execution_count": 288,
   "id": "05941083-be62-4fc1-bffd-532598de0e82",
   "metadata": {},
   "outputs": [
    {
     "name": "stdout",
     "output_type": "stream",
     "text": [
      "-0.23356632084268683\n",
      "-2.407052192367161\n",
      "-3.0032939083482764\n",
      "-2.835422180659082\n",
      "-1.8455920867768598\n"
     ]
    }
   ],
   "source": [
    "for dataframe in dataframe_list:\n",
    "    average_adherence(dataframe)"
   ]
  },
  {
   "cell_type": "code",
   "execution_count": 290,
   "id": "34494d8e-e507-466b-9da1-f4b665175cd1",
   "metadata": {},
   "outputs": [
    {
     "data": {
      "text/plain": [
       "[-0.23356632084268683,\n",
       " -2.407052192367161,\n",
       " -3.0032939083482764,\n",
       " -2.835422180659082,\n",
       " -1.8455920867768598]"
      ]
     },
     "execution_count": 290,
     "metadata": {},
     "output_type": "execute_result"
    }
   ],
   "source": [
    "dict_adherence"
   ]
  },
  {
   "cell_type": "code",
   "execution_count": 292,
   "id": "5c5ad92c-3909-4a6b-ac47-539e427104ff",
   "metadata": {},
   "outputs": [
    {
     "data": {
      "text/html": [
       "<div>\n",
       "<style scoped>\n",
       "    .dataframe tbody tr th:only-of-type {\n",
       "        vertical-align: middle;\n",
       "    }\n",
       "\n",
       "    .dataframe tbody tr th {\n",
       "        vertical-align: top;\n",
       "    }\n",
       "\n",
       "    .dataframe thead th {\n",
       "        text-align: right;\n",
       "    }\n",
       "</style>\n",
       "<table border=\"1\" class=\"dataframe\">\n",
       "  <thead>\n",
       "    <tr style=\"text-align: right;\">\n",
       "      <th></th>\n",
       "      <th>CALENDAR_ID</th>\n",
       "      <th>SERVICE_ABBR</th>\n",
       "      <th>ADHERENCE_ID</th>\n",
       "      <th>DATE</th>\n",
       "      <th>ROUTE_ABBR</th>\n",
       "      <th>BLOCK_ABBR</th>\n",
       "      <th>OPERATOR</th>\n",
       "      <th>TRIP_ID</th>\n",
       "      <th>OVERLOAD_ID</th>\n",
       "      <th>ROUTE_DIRECTION_NAME</th>\n",
       "      <th>...</th>\n",
       "      <th>ADJUSTED_ONTIME_COUNT</th>\n",
       "      <th>STOP_CANCELLED</th>\n",
       "      <th>PREV_SCHED_STOP_CANCELLED</th>\n",
       "      <th>IS_RELIEF</th>\n",
       "      <th>BLOCK_STOP_ORDER</th>\n",
       "      <th>DWELL_IN_MINS</th>\n",
       "      <th>TIME_OF_DAY_CATEGORY</th>\n",
       "      <th>SCHEDULUED_HOUR</th>\n",
       "      <th>DAY_NUM</th>\n",
       "      <th>AVG_ADHERENCE</th>\n",
       "    </tr>\n",
       "  </thead>\n",
       "  <tbody>\n",
       "    <tr>\n",
       "      <th>546973</th>\n",
       "      <td>120250203</td>\n",
       "      <td>1</td>\n",
       "      <td>117339007</td>\n",
       "      <td>2025-02-03</td>\n",
       "      <td>50</td>\n",
       "      <td>318</td>\n",
       "      <td>3443</td>\n",
       "      <td>417223</td>\n",
       "      <td>0</td>\n",
       "      <td>TO DOWNTOWN</td>\n",
       "      <td>...</td>\n",
       "      <td>1</td>\n",
       "      <td>0</td>\n",
       "      <td>0.0</td>\n",
       "      <td>0</td>\n",
       "      <td>2</td>\n",
       "      <td>35.766666</td>\n",
       "      <td>AP</td>\n",
       "      <td>15</td>\n",
       "      <td>0</td>\n",
       "      <td>-0.233566</td>\n",
       "    </tr>\n",
       "    <tr>\n",
       "      <th>546974</th>\n",
       "      <td>120250203</td>\n",
       "      <td>1</td>\n",
       "      <td>117339008</td>\n",
       "      <td>2025-02-03</td>\n",
       "      <td>50</td>\n",
       "      <td>318</td>\n",
       "      <td>3443</td>\n",
       "      <td>417223</td>\n",
       "      <td>0</td>\n",
       "      <td>TO DOWNTOWN</td>\n",
       "      <td>...</td>\n",
       "      <td>0</td>\n",
       "      <td>0</td>\n",
       "      <td>NaN</td>\n",
       "      <td>0</td>\n",
       "      <td>3</td>\n",
       "      <td>0.000000</td>\n",
       "      <td>AP</td>\n",
       "      <td>15</td>\n",
       "      <td>0</td>\n",
       "      <td>-0.233566</td>\n",
       "    </tr>\n",
       "    <tr>\n",
       "      <th>546975</th>\n",
       "      <td>120250203</td>\n",
       "      <td>1</td>\n",
       "      <td>117339821</td>\n",
       "      <td>2025-02-03</td>\n",
       "      <td>50</td>\n",
       "      <td>5000</td>\n",
       "      <td>329</td>\n",
       "      <td>417725</td>\n",
       "      <td>0</td>\n",
       "      <td>TO DOWNTOWN</td>\n",
       "      <td>...</td>\n",
       "      <td>0</td>\n",
       "      <td>0</td>\n",
       "      <td>0.0</td>\n",
       "      <td>0</td>\n",
       "      <td>2</td>\n",
       "      <td>7.550000</td>\n",
       "      <td>NaN</td>\n",
       "      <td>04</td>\n",
       "      <td>0</td>\n",
       "      <td>-0.233566</td>\n",
       "    </tr>\n",
       "    <tr>\n",
       "      <th>546976</th>\n",
       "      <td>120250203</td>\n",
       "      <td>1</td>\n",
       "      <td>117339822</td>\n",
       "      <td>2025-02-03</td>\n",
       "      <td>50</td>\n",
       "      <td>5000</td>\n",
       "      <td>329</td>\n",
       "      <td>417725</td>\n",
       "      <td>0</td>\n",
       "      <td>TO DOWNTOWN</td>\n",
       "      <td>...</td>\n",
       "      <td>1</td>\n",
       "      <td>0</td>\n",
       "      <td>0.0</td>\n",
       "      <td>0</td>\n",
       "      <td>5</td>\n",
       "      <td>0.000000</td>\n",
       "      <td>NaN</td>\n",
       "      <td>04</td>\n",
       "      <td>0</td>\n",
       "      <td>-0.233566</td>\n",
       "    </tr>\n",
       "    <tr>\n",
       "      <th>546977</th>\n",
       "      <td>120250203</td>\n",
       "      <td>1</td>\n",
       "      <td>117339823</td>\n",
       "      <td>2025-02-03</td>\n",
       "      <td>50</td>\n",
       "      <td>5000</td>\n",
       "      <td>329</td>\n",
       "      <td>417725</td>\n",
       "      <td>0</td>\n",
       "      <td>TO DOWNTOWN</td>\n",
       "      <td>...</td>\n",
       "      <td>1</td>\n",
       "      <td>0</td>\n",
       "      <td>0.0</td>\n",
       "      <td>0</td>\n",
       "      <td>11</td>\n",
       "      <td>0.000000</td>\n",
       "      <td>NaN</td>\n",
       "      <td>04</td>\n",
       "      <td>0</td>\n",
       "      <td>-0.233566</td>\n",
       "    </tr>\n",
       "    <tr>\n",
       "      <th>...</th>\n",
       "      <td>...</td>\n",
       "      <td>...</td>\n",
       "      <td>...</td>\n",
       "      <td>...</td>\n",
       "      <td>...</td>\n",
       "      <td>...</td>\n",
       "      <td>...</td>\n",
       "      <td>...</td>\n",
       "      <td>...</td>\n",
       "      <td>...</td>\n",
       "      <td>...</td>\n",
       "      <td>...</td>\n",
       "      <td>...</td>\n",
       "      <td>...</td>\n",
       "      <td>...</td>\n",
       "      <td>...</td>\n",
       "      <td>...</td>\n",
       "      <td>...</td>\n",
       "      <td>...</td>\n",
       "      <td>...</td>\n",
       "      <td>...</td>\n",
       "    </tr>\n",
       "    <tr>\n",
       "      <th>552906</th>\n",
       "      <td>120250210</td>\n",
       "      <td>1</td>\n",
       "      <td>117588646</td>\n",
       "      <td>2025-02-10</td>\n",
       "      <td>50</td>\n",
       "      <td>8401</td>\n",
       "      <td>3077</td>\n",
       "      <td>420453</td>\n",
       "      <td>0</td>\n",
       "      <td>FROM DOWNTOWN</td>\n",
       "      <td>...</td>\n",
       "      <td>0</td>\n",
       "      <td>0</td>\n",
       "      <td>NaN</td>\n",
       "      <td>0</td>\n",
       "      <td>23</td>\n",
       "      <td>5.916666</td>\n",
       "      <td>EM</td>\n",
       "      <td>07</td>\n",
       "      <td>0</td>\n",
       "      <td>-0.233566</td>\n",
       "    </tr>\n",
       "    <tr>\n",
       "      <th>552907</th>\n",
       "      <td>120250210</td>\n",
       "      <td>1</td>\n",
       "      <td>117589227</td>\n",
       "      <td>2025-02-10</td>\n",
       "      <td>50</td>\n",
       "      <td>9302</td>\n",
       "      <td>3246</td>\n",
       "      <td>420590</td>\n",
       "      <td>0</td>\n",
       "      <td>TO DOWNTOWN</td>\n",
       "      <td>...</td>\n",
       "      <td>1</td>\n",
       "      <td>0</td>\n",
       "      <td>0.0</td>\n",
       "      <td>0</td>\n",
       "      <td>2</td>\n",
       "      <td>56.550000</td>\n",
       "      <td>AP</td>\n",
       "      <td>15</td>\n",
       "      <td>0</td>\n",
       "      <td>-0.233566</td>\n",
       "    </tr>\n",
       "    <tr>\n",
       "      <th>552908</th>\n",
       "      <td>120250210</td>\n",
       "      <td>1</td>\n",
       "      <td>117589228</td>\n",
       "      <td>2025-02-10</td>\n",
       "      <td>50</td>\n",
       "      <td>9302</td>\n",
       "      <td>3246</td>\n",
       "      <td>420590</td>\n",
       "      <td>0</td>\n",
       "      <td>TO DOWNTOWN</td>\n",
       "      <td>...</td>\n",
       "      <td>0</td>\n",
       "      <td>0</td>\n",
       "      <td>NaN</td>\n",
       "      <td>0</td>\n",
       "      <td>3</td>\n",
       "      <td>2.200000</td>\n",
       "      <td>AP</td>\n",
       "      <td>15</td>\n",
       "      <td>0</td>\n",
       "      <td>-0.233566</td>\n",
       "    </tr>\n",
       "    <tr>\n",
       "      <th>552909</th>\n",
       "      <td>120250210</td>\n",
       "      <td>1</td>\n",
       "      <td>117589359</td>\n",
       "      <td>2025-02-10</td>\n",
       "      <td>50</td>\n",
       "      <td>9950</td>\n",
       "      <td>2254</td>\n",
       "      <td>420621</td>\n",
       "      <td>0</td>\n",
       "      <td>TO DOWNTOWN</td>\n",
       "      <td>...</td>\n",
       "      <td>1</td>\n",
       "      <td>0</td>\n",
       "      <td>0.0</td>\n",
       "      <td>0</td>\n",
       "      <td>2</td>\n",
       "      <td>24.883333</td>\n",
       "      <td>AP</td>\n",
       "      <td>15</td>\n",
       "      <td>0</td>\n",
       "      <td>-0.233566</td>\n",
       "    </tr>\n",
       "    <tr>\n",
       "      <th>552910</th>\n",
       "      <td>120250210</td>\n",
       "      <td>1</td>\n",
       "      <td>117589360</td>\n",
       "      <td>2025-02-10</td>\n",
       "      <td>50</td>\n",
       "      <td>9950</td>\n",
       "      <td>2254</td>\n",
       "      <td>420621</td>\n",
       "      <td>0</td>\n",
       "      <td>TO DOWNTOWN</td>\n",
       "      <td>...</td>\n",
       "      <td>1</td>\n",
       "      <td>0</td>\n",
       "      <td>NaN</td>\n",
       "      <td>0</td>\n",
       "      <td>3</td>\n",
       "      <td>0.000000</td>\n",
       "      <td>AP</td>\n",
       "      <td>15</td>\n",
       "      <td>0</td>\n",
       "      <td>-0.233566</td>\n",
       "    </tr>\n",
       "  </tbody>\n",
       "</table>\n",
       "<p>5938 rows × 34 columns</p>\n",
       "</div>"
      ],
      "text/plain": [
       "        CALENDAR_ID  SERVICE_ABBR  ADHERENCE_ID       DATE  ROUTE_ABBR  \\\n",
       "546973    120250203             1     117339007 2025-02-03          50   \n",
       "546974    120250203             1     117339008 2025-02-03          50   \n",
       "546975    120250203             1     117339821 2025-02-03          50   \n",
       "546976    120250203             1     117339822 2025-02-03          50   \n",
       "546977    120250203             1     117339823 2025-02-03          50   \n",
       "...             ...           ...           ...        ...         ...   \n",
       "552906    120250210             1     117588646 2025-02-10          50   \n",
       "552907    120250210             1     117589227 2025-02-10          50   \n",
       "552908    120250210             1     117589228 2025-02-10          50   \n",
       "552909    120250210             1     117589359 2025-02-10          50   \n",
       "552910    120250210             1     117589360 2025-02-10          50   \n",
       "\n",
       "        BLOCK_ABBR  OPERATOR  TRIP_ID  OVERLOAD_ID ROUTE_DIRECTION_NAME  ...  \\\n",
       "546973         318      3443   417223            0          TO DOWNTOWN  ...   \n",
       "546974         318      3443   417223            0          TO DOWNTOWN  ...   \n",
       "546975        5000       329   417725            0          TO DOWNTOWN  ...   \n",
       "546976        5000       329   417725            0          TO DOWNTOWN  ...   \n",
       "546977        5000       329   417725            0          TO DOWNTOWN  ...   \n",
       "...            ...       ...      ...          ...                  ...  ...   \n",
       "552906        8401      3077   420453            0        FROM DOWNTOWN  ...   \n",
       "552907        9302      3246   420590            0          TO DOWNTOWN  ...   \n",
       "552908        9302      3246   420590            0          TO DOWNTOWN  ...   \n",
       "552909        9950      2254   420621            0          TO DOWNTOWN  ...   \n",
       "552910        9950      2254   420621            0          TO DOWNTOWN  ...   \n",
       "\n",
       "       ADJUSTED_ONTIME_COUNT  STOP_CANCELLED  PREV_SCHED_STOP_CANCELLED  \\\n",
       "546973                     1               0                        0.0   \n",
       "546974                     0               0                        NaN   \n",
       "546975                     0               0                        0.0   \n",
       "546976                     1               0                        0.0   \n",
       "546977                     1               0                        0.0   \n",
       "...                      ...             ...                        ...   \n",
       "552906                     0               0                        NaN   \n",
       "552907                     1               0                        0.0   \n",
       "552908                     0               0                        NaN   \n",
       "552909                     1               0                        0.0   \n",
       "552910                     1               0                        NaN   \n",
       "\n",
       "        IS_RELIEF  BLOCK_STOP_ORDER DWELL_IN_MINS TIME_OF_DAY_CATEGORY  \\\n",
       "546973          0                 2     35.766666                   AP   \n",
       "546974          0                 3      0.000000                   AP   \n",
       "546975          0                 2      7.550000                  NaN   \n",
       "546976          0                 5      0.000000                  NaN   \n",
       "546977          0                11      0.000000                  NaN   \n",
       "...           ...               ...           ...                  ...   \n",
       "552906          0                23      5.916666                   EM   \n",
       "552907          0                 2     56.550000                   AP   \n",
       "552908          0                 3      2.200000                   AP   \n",
       "552909          0                 2     24.883333                   AP   \n",
       "552910          0                 3      0.000000                   AP   \n",
       "\n",
       "       SCHEDULUED_HOUR  DAY_NUM  AVG_ADHERENCE  \n",
       "546973              15        0      -0.233566  \n",
       "546974              15        0      -0.233566  \n",
       "546975              04        0      -0.233566  \n",
       "546976              04        0      -0.233566  \n",
       "546977              04        0      -0.233566  \n",
       "...                ...      ...            ...  \n",
       "552906              07        0      -0.233566  \n",
       "552907              15        0      -0.233566  \n",
       "552908              15        0      -0.233566  \n",
       "552909              15        0      -0.233566  \n",
       "552910              15        0      -0.233566  \n",
       "\n",
       "[5938 rows x 34 columns]"
      ]
     },
     "execution_count": 292,
     "metadata": {},
     "output_type": "execute_result"
    }
   ],
   "source": [
    "tsp_one_complete"
   ]
  },
  {
   "cell_type": "code",
   "execution_count": 294,
   "id": "38fa4e96-ce52-4ab2-b5e4-91fd80edb398",
   "metadata": {},
   "outputs": [],
   "source": [
    "time_buckets = (\"EM\", \"MP\", \"MD\", \"AP\", \"EP\", \"LN\")"
   ]
  },
  {
   "cell_type": "code",
   "execution_count": 296,
   "id": "52ec6bd7-729c-41ec-ac20-79844d46d782",
   "metadata": {},
   "outputs": [],
   "source": [
    "rounded_list_adherence_time_top = [round(num, 2) for num in list_adherence_time_top]"
   ]
  },
  {
   "cell_type": "code",
   "execution_count": 298,
   "id": "3fb7382f-aba2-4db2-9703-51466bb31eaa",
   "metadata": {},
   "outputs": [],
   "source": [
    "rounded_list_adherence_time_top_off = [round(num, 2) for num in list_adherence_time_top_off]"
   ]
  },
  {
   "cell_type": "code",
   "execution_count": 314,
   "id": "4cf4addf-bbaa-4440-a4cd-f6b7510fba4e",
   "metadata": {},
   "outputs": [],
   "source": [
    "rounded_list_adherence_time_bottom = [round(num, 2) for num in list_adherence_time_bottom]"
   ]
  },
  {
   "cell_type": "code",
   "execution_count": 316,
   "id": "3033fda1-23b6-46c1-94e2-49a46265486c",
   "metadata": {},
   "outputs": [],
   "source": [
    "rounded_list_adherence_time_bottom_off = [round(num, 2) for num in list_adherence_time_bottom_off]"
   ]
  },
  {
   "cell_type": "code",
   "execution_count": 318,
   "id": "ba71d1c9-f414-475a-a805-41af6b60d3e9",
   "metadata": {},
   "outputs": [
    {
     "name": "stdout",
     "output_type": "stream",
     "text": [
      "[-1.55, -2.22, -2.51, -3.43, -2.44, -1.48]\n",
      "[-1.77, -2.53, -3.17, -4.74, -2.91, -2.49]\n"
     ]
    }
   ],
   "source": [
    "print(rounded_list_adherence_time_top)\n",
    "print(rounded_list_adherence_time_top_off)"
   ]
  },
  {
   "cell_type": "code",
   "execution_count": 320,
   "id": "6494a59f-13c5-4072-b3a4-d1f4e7c42ea1",
   "metadata": {},
   "outputs": [],
   "source": [
    "adherence_dict = {\n",
    "    # 'TSP ON' : (-1.56, -2.32, -2.56, -3.51, -2.47, -1.51),\n",
    "    'TSP ON' : (rounded_list_adherence_time_top),\n",
    "    'TSP OFF' : (rounded_list_adherence_time_top_off),\n",
    "}"
   ]
  },
  {
   "cell_type": "code",
   "execution_count": 322,
   "id": "6b391da4-8609-400c-a0a0-f6106b4a0f5c",
   "metadata": {},
   "outputs": [],
   "source": [
    "adherence_bottom_dict = {\n",
    "    'TSP ON' : (rounded_list_adherence_time_bottom),\n",
    "    'TSP OFF' : (rounded_list_adherence_time_bottom_off),\n",
    "}"
   ]
  },
  {
   "cell_type": "raw",
   "id": "8cec5205-b16c-4e41-b2c5-fb67bce263a4",
   "metadata": {},
   "source": [
    "https://matplotlib.org/stable/gallery/lines_bars_and_markers/barchart.html"
   ]
  },
  {
   "cell_type": "code",
   "execution_count": 338,
   "id": "6da3116f-468f-4363-ad61-0e897e9be67e",
   "metadata": {},
   "outputs": [
    {
     "name": "stderr",
     "output_type": "stream",
     "text": [
      "C:\\Users\\17033\\AppData\\Local\\Temp\\ipykernel_54092\\1920458262.py:21: UserWarning: No artists with labels found to put in legend.  Note that artists whose label start with an underscore are ignored when legend() is called with no argument.\n",
      "  ax.legend(loc='lower left', ncols=3)\n"
     ]
    },
    {
     "data": {
      "text/plain": [
       "<function matplotlib.pyplot.show(close=None, block=None)>"
      ]
     },
     "execution_count": 338,
     "metadata": {},
     "output_type": "execute_result"
    },
    {
     "data": {
      "image/png": "[encoded data removed]",
      "text/plain": [
       "<Figure size 640x480 with 1 Axes>"
      ]
     },
     "metadata": {},
     "output_type": "display_data"
    }
   ],
   "source": [
    "x = np.arange(len(time_buckets))\n",
    "width = 0.40\n",
    "multiplier = 0\n",
    "colors = {'TSP ON' : '#743BBC', \n",
    "          'TSP OFF' : '#001E61'}\n",
    "fig, ax = plt.subplots(layout='constrained')\n",
    "\n",
    "# plot data in grouped manner of bar type\n",
    "# bars1 = plt.bar(x-0.2, rounded_list_adherence_time_top, width, label='TSP ON')\n",
    "# bars2 = plt.bar(x+0.2, rounded_list_adherence_time_top_off, width, label='TSP OFF')\n",
    "\n",
    "ax.set_ylabel ('Adherence')\n",
    "ax.set_xlabel ('Tiime of day category')\n",
    "ax.xaxis.set_ticks_position('top')\n",
    "ax.xaxis.set_label_position('top')\n",
    "ax.set_title ('Adherence Based on Time of Day Amongst Experienced Operators', \n",
    "              fontweight='bold',\n",
    "              fontsize=20,)\n",
    "\n",
    "ax.set_xticks(x + width/2, time_buckets)\n",
    "ax.legend(loc='lower left', ncols=3)\n",
    "\n",
    "for attribute, measurement in adherence_dict.items():\n",
    "    offset = width * multiplier\n",
    "    rects = ax.bar(x + offset, measurement, width, label=attribute, color=colors[attribute])\n",
    "    ax.bar_label(rects, padding=3)\n",
    "    multiplier +=1\n",
    "\n",
    "ax.legend(loc='lower left', ncols=3)\n",
    "plt.savefig('adherence_experienced_operators_SUBMIT.png', bbox_inches='tight')\n",
    "plt.show"
   ]
  },
  {
   "cell_type": "code",
   "execution_count": 336,
   "id": "bf1b1b06-47ce-46f9-83e2-a421012488af",
   "metadata": {},
   "outputs": [
    {
     "name": "stderr",
     "output_type": "stream",
     "text": [
      "C:\\Users\\17033\\AppData\\Local\\Temp\\ipykernel_54092\\1966004708.py:21: UserWarning: No artists with labels found to put in legend.  Note that artists whose label start with an underscore are ignored when legend() is called with no argument.\n",
      "  ax.legend(loc='lower left', ncols=3)\n"
     ]
    },
    {
     "data": {
      "text/plain": [
       "<function matplotlib.pyplot.show(close=None, block=None)>"
      ]
     },
     "execution_count": 336,
     "metadata": {},
     "output_type": "execute_result"
    },
    {
     "data": {
      "image/png": "[encoded data removed]",
      "text/plain": [
       "<Figure size 640x480 with 1 Axes>"
      ]
     },
     "metadata": {},
     "output_type": "display_data"
    }
   ],
   "source": [
    "x = np.arange(len(time_buckets))\n",
    "width = 0.40\n",
    "multiplier = 0\n",
    "colors = {'TSP ON' : '#743BBC', \n",
    "          'TSP OFF' : '#001E61'}\n",
    "fig, ax = plt.subplots(layout='constrained')\n",
    "\n",
    "# plot data in grouped manner of bar type\n",
    "# bars1 = plt.bar(x-0.2, rounded_list_adherence_time_top, width, label='TSP ON')\n",
    "# bars2 = plt.bar(x+0.2, rounded_list_adherence_time_top_off, width, label='TSP OFF')\n",
    "\n",
    "ax.set_ylabel ('Adherence')\n",
    "ax.set_xlabel ('Tiime of day category')\n",
    "ax.xaxis.set_ticks_position('top')\n",
    "ax.xaxis.set_label_position('top')\n",
    "ax.set_title ('Adherence Based on Time of Day Amongst Inexperienced Operators', \n",
    "              fontweight='bold',\n",
    "              fontsize=20,)\n",
    "\n",
    "ax.set_xticks(x + width/2, time_buckets)\n",
    "ax.legend(loc='lower left', ncols=3)\n",
    "\n",
    "for attribute, measurement in adherence_bottom_dict.items():\n",
    "    offset = width * multiplier\n",
    "    rects = ax.bar(x + offset, measurement, width, label=attribute, color=colors[attribute])\n",
    "    ax.bar_label(rects, padding=3)\n",
    "    multiplier +=1\n",
    "\n",
    "ax.legend(loc='lower left', ncols=3)\n",
    "plt.savefig('adherence_inexperienced_ops_SUBMIT', bbox_inches='tight')\n",
    "plt.show"
   ]
  },
  {
   "cell_type": "code",
   "execution_count": 328,
   "id": "00c3ed99-1e8c-4ba2-9ba8-0a33b036712e",
   "metadata": {},
   "outputs": [],
   "source": [
    "adherence_dict = {\n",
    "    # 'TSP ON' : (-1.56, -2.32, -2.56, -3.51, -2.47, -1.51),\n",
    "    'TSP ON' : (rounded_list_adherence_time_top),\n",
    "    'TSP OFF' : (rounded_list_adherence_time_top_off),\n",
    "}"
   ]
  },
  {
   "cell_type": "code",
   "execution_count": null,
   "id": "1e123e10-9287-49d6-9957-15f63a80e9e3",
   "metadata": {},
   "outputs": [],
   "source": [
    "wego_operator_highest = wego_day_of_week[wego_day_of_week['OPERATOR'] == 304]"
   ]
  },
  {
   "cell_type": "code",
   "execution_count": null,
   "id": "bb7a8f86-4381-483f-888d-bbe33d355e84",
   "metadata": {},
   "outputs": [],
   "source": [
    "wego_operator_highest"
   ]
  },
  {
   "cell_type": "code",
   "execution_count": null,
   "id": "90c097f6-5c56-4077-9820-daa7eb51570e",
   "metadata": {},
   "outputs": [],
   "source": []
  },
  {
   "cell_type": "code",
   "execution_count": null,
   "id": "8dfd8bb0-ceca-4e47-ab3f-9bc610786cdf",
   "metadata": {},
   "outputs": [],
   "source": []
  },
  {
   "cell_type": "code",
   "execution_count": null,
   "id": "9039c86b-a4ea-4092-bf0e-a97fed1a89d7",
   "metadata": {},
   "outputs": [],
   "source": []
  },
  {
   "cell_type": "code",
   "execution_count": null,
   "id": "bdce7e9c-d9b7-455f-8f25-32428d3f1904",
   "metadata": {},
   "outputs": [],
   "source": []
  },
  {
   "cell_type": "code",
   "execution_count": null,
   "id": "2a918d53-06d0-4148-8664-704a522ae3a7",
   "metadata": {},
   "outputs": [],
   "source": []
  },
  {
   "cell_type": "code",
   "execution_count": null,
   "id": "a8a5e486-b2d0-4586-88f8-e7bc2e4d263a",
   "metadata": {},
   "outputs": [],
   "source": []
  },
  {
   "cell_type": "code",
   "execution_count": null,
   "id": "5c7638b6-7f71-41bd-b475-57f30c510c87",
   "metadata": {},
   "outputs": [],
   "source": []
  },
  {
   "cell_type": "code",
   "execution_count": null,
   "id": "ca1d6777-1b05-4006-874d-9c08157f20c9",
   "metadata": {},
   "outputs": [],
   "source": []
  },
  {
   "cell_type": "code",
   "execution_count": null,
   "id": "58228e50-442e-47de-99f1-dfe8673cae90",
   "metadata": {},
   "outputs": [],
   "source": []
  },
  {
   "cell_type": "code",
   "execution_count": null,
   "id": "e18f7004-074c-459e-96cc-01ebb826d115",
   "metadata": {},
   "outputs": [],
   "source": []
  }
 ],
 "metadata": {
  "kernelspec": {
   "display_name": "Python [conda env:base] *",
   "language": "python",
   "name": "conda-base-py"
  },
  "language_info": {
   "codemirror_mode": {
    "name": "ipython",
    "version": 3
   },
   "file_extension": ".py",
   "mimetype": "text/x-python",
   "name": "python",
   "nbconvert_exporter": "python",
   "pygments_lexer": "ipython3",
   "version": "3.12.7"
  }
 },
 "nbformat": 4,
 "nbformat_minor": 5
}
